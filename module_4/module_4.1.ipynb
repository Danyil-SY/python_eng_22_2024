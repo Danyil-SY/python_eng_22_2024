{
 "cells": [
  {
   "cell_type": "markdown",
   "id": "d93f4243",
   "metadata": {},
   "source": [
    "# Робота з файлами та обробка виключень\n"
   ]
  },
  {
   "cell_type": "markdown",
   "id": "b9be4a76",
   "metadata": {},
   "source": [
    "## Робота з файлами"
   ]
  },
  {
   "cell_type": "markdown",
   "id": "eb801162",
   "metadata": {},
   "source": [
    "У Python є абстракція над файлами — це вказівник на файл або файловий об'єкт.\n",
    "\n",
    "Файловий об'єкт — це системний ресурс, доступ до якого надає операційна система. Зазвичай файловий об'єкт можна відкрити (отримати/створити), закрити (повідомити системі, що робота з ним завершена), можна записати у нього щось і прочитати щось.</br>\n",
    "\n",
    "Безпосередня робота з файлами у Python починається з відкриття файлу або отримання від системи доступу до файлу, отримання того самого файлового об'єкту. Для цього є вбудована функція open. </br>\n",
    "\n",
    "Синтаксис open():\n",
    "\n",
    "```\n",
    "open(file, mode='r', buffering=1, encoding=None, errors=None, newline=None, closefd=True, opener=None)\n",
    "```\n",
    "\n",
    "Параметри:\n",
    "* file - шлях до файлу у вигляді рядка. Це може бути повний шлях або шлях відносно поточного каталогу виконання.\n",
    "* mode (необов'язковий) - режим, в якому буде відкрито файл. Ось основні режими які ми будемо використовувати:\n",
    "* 'r' - читання (за замовчуванням). Файл має існувати.\n",
    "* 'w' - запис. Створює новий файл або перезаписує, що вже існує.\n",
    "* 'a' - додавання. Дописує в кінець файлу, не перезаписуючи його.\n",
    "* 'b' - бінарний режим (може бути використаний разом з іншими, наприклад 'rb' або 'wb').\n",
    "* '+' - оновлення (читання та запис).\n",
    "* buffering (необов'язковий) - визначає буферизацію: 0 для вимкненої, 1 для включеної буферизації рядків, більше 1 для вказання розміру буфера у байтах.\n",
    "* encoding (необов'язковий) - ім'я кодування, яке буде використовуватися для кодування або декодування файлу.\n",
    "* errors (необов'язковий) - вказує, як обробляти помилки кодування.\n",
    "* newline (необов'язковий) - контролює, як обробляються нові рядки.\n",
    "* closefd (необов'язковий) - має бути True (за замовчуванням); якщо вказано False, файловий дескриптор не буде закритий.\n",
    "* opener (необов'язковий) - визначає спеціальну функцію для відкриття файлу.\n"
   ]
  },
  {
   "cell_type": "code",
   "execution_count": 1,
   "id": "9d08289a",
   "metadata": {},
   "outputs": [
    {
     "name": "stdout",
     "output_type": "stream",
     "text": [
      "21\n"
     ]
    }
   ],
   "source": [
    "# Приклад використання open() - далі для прикладів буде вказуватися тільки назва методу\n",
    "\n",
    "f = open('test.txt', 'w+')\n",
    "symbols_written = f.write('Hello, world! 123 .,\\\\') # write виконує запис даних в файл\n",
    "print(symbols_written)                              # але при виклику повертає тільки кількість записаних символів\n",
    "f.close()"
   ]
  },
  {
   "cell_type": "code",
   "execution_count": 2,
   "id": "ecf2ae98",
   "metadata": {},
   "outputs": [
    {
     "name": "stdout",
     "output_type": "stream",
     "text": [
      "first_two_symbols_at_seek_0: \t He\n",
      "first_two_symbols_at_seek_1: \t el\n",
      "first_two_symbols_at_seek_2: \t ll\n",
      "first_two_symbols_at_seek_20: \t \n",
      "\n",
      "type(f): \t\t <class '_io.TextIOWrapper'>\n",
      "type(f.seek(20)): \t <class 'int'>\n",
      "type(f.write('0')): \t <class 'int'>\n",
      "type(f.read()): \t <class 'str'>\n"
     ]
    }
   ],
   "source": [
    "# read() - зчитування даних з файлу\n",
    "\n",
    "f = open('test.txt', 'w+')\n",
    "f.write('Hello, world')\n",
    "\n",
    "# seek() - встановлення \"File Handle\" (умовного курсора) в певній позиції\n",
    "f.seek(0)\n",
    "first_two_symbols_at_seek_0 = f.read(2)\n",
    "print('first_two_symbols_at_seek_0: \\t', first_two_symbols_at_seek_0)\n",
    "\n",
    "f.seek(1)\n",
    "first_two_symbols_at_seek_1 = f.read(2)\n",
    "print('first_two_symbols_at_seek_1: \\t', first_two_symbols_at_seek_1)\n",
    "\n",
    "f.seek(2)\n",
    "first_two_symbols_at_seek_2 = f.read(2)\n",
    "print('first_two_symbols_at_seek_2: \\t', first_two_symbols_at_seek_2)\n",
    "\n",
    "# Символів на позиції 20 немає, тому виведе пустий рядок\n",
    "f.seek(20)\n",
    "first_two_symbols_at_seek_20 = f.read(2)\n",
    "print('first_two_symbols_at_seek_20: \\t', first_two_symbols_at_seek_20)\n",
    "\n",
    "# Типи даних\n",
    "print()\n",
    "print('type(f): \\t\\t', type(f))\n",
    "print('type(f.seek(20)): \\t', type(f.seek(20)))\n",
    "print(\"type(f.write('0')): \\t\", type(f.write('0')))\n",
    "print('type(f.read()): \\t', type(f.read()))\n",
    "\n",
    "f.close()"
   ]
  },
  {
   "cell_type": "code",
   "execution_count": 3,
   "id": "d3f95777",
   "metadata": {},
   "outputs": [
    {
     "name": "stdout",
     "output_type": "stream",
     "text": [
      "He\n",
      "ll\n",
      "o,\n",
      " w\n",
      "or\n",
      "ld\n",
      "!\n"
     ]
    }
   ],
   "source": [
    "# read() #2\n",
    "\n",
    "f = open('test.txt', 'w')\n",
    "f.write('Hello, world!')\n",
    "f.close()\n",
    "\n",
    "# f.read(0) - інформація не виводиться\n",
    "# f.read(2) - читаємо текст по два символи\n",
    "# f.read() - виводиться весь текст в одному рядку\n",
    "# f.read(100) - виводиться весь текст в одному рядку (фактично символів менше)\n",
    "f = open('test.txt', 'r')\n",
    "while True:\n",
    "    symbol = f.read(2) \n",
    "    if len(symbol) == 0:\n",
    "        break\n",
    "    print(symbol)\n",
    "    \n",
    "f.close()"
   ]
  },
  {
   "cell_type": "code",
   "execution_count": 4,
   "id": "278d9f50",
   "metadata": {},
   "outputs": [
    {
     "name": "stdout",
     "output_type": "stream",
     "text": [
      "first line\n",
      "\n",
      "second line\n",
      "\n",
      "third line\n"
     ]
    }
   ],
   "source": [
    "# readline() - виводимо текст порядково\n",
    "\n",
    "f = open('test.txt', 'w')\n",
    "f.write('first line\\nsecond line\\nthird line')\n",
    "f.close()\n",
    "\n",
    "f = open('test.txt', 'r')\n",
    "while True:\n",
    "    line = f.readline()\n",
    "    if not line:\n",
    "        break\n",
    "    print(line)\n",
    "    \n",
    "f.close()"
   ]
  },
  {
   "cell_type": "code",
   "execution_count": 5,
   "id": "b7768f86",
   "metadata": {},
   "outputs": [
    {
     "name": "stdout",
     "output_type": "stream",
     "text": [
      "['first line\\n', 'second line\\n', 'third line']\n"
     ]
    }
   ],
   "source": [
    "# readlines() - (не плутати з readline()) читає повністю файл і повертає список рядків,\n",
    "#               де елемент списку - це один рядок з файлу\n",
    "\n",
    "f = open('test.txt', 'w')\n",
    "f.write('first line\\nsecond line\\nthird line')\n",
    "f.close()\n",
    "\n",
    "f = open('test.txt', 'r')\n",
    "lines = f.readlines()\n",
    "print(lines)\n",
    "\n",
    "f.close()"
   ]
  },
  {
   "cell_type": "code",
   "execution_count": 6,
   "id": "64c62b9f",
   "metadata": {},
   "outputs": [
    {
     "name": "stdout",
     "output_type": "stream",
     "text": [
      "['first line', 'second line', 'third line']\n"
     ]
    }
   ],
   "source": [
    "# readlines() #2, без символів переносу рядка \"\\n\" в кінці елементів списку\n",
    "\n",
    "f = open('test.txt', 'w')\n",
    "f.write('first line\\nsecond line\\nthird line')\n",
    "f.close()\n",
    "\n",
    "f = open('test.txt', 'r')\n",
    "lines = [el.strip() for el in f.readlines()] # strip() == strip('\\n')\n",
    "print(lines)\n",
    "\n",
    "f.close()"
   ]
  },
  {
   "cell_type": "markdown",
   "id": "cc5bfd6b",
   "metadata": {},
   "source": [
    "## Менеджер контексту\n"
   ]
  },
  {
   "cell_type": "code",
   "execution_count": 7,
   "id": "bb88f829",
   "metadata": {},
   "outputs": [],
   "source": [
    "# Приклад конструкції для закриття файлу навіть якщо в ході роботи з ним \n",
    "# виникне помилка\n",
    "\n",
    "f = open('text.txt', 'w')\n",
    "try:\n",
    "    f.write('Some data')\n",
    "finally:\n",
    "    f.close()"
   ]
  },
  {
   "cell_type": "markdown",
   "id": "ec03f85f",
   "metadata": {},
   "source": [
    "Менеджер контексту в Python __with__ - це спосіб використання ресурсів, який автоматично забезпечує правильне закриття файлу, незалежно від того, чи виникла помилка чи ні. Це робить код не тільки більш читабельним, але й безпечнішим."
   ]
  },
  {
   "cell_type": "code",
   "execution_count": 8,
   "id": "992d1657",
   "metadata": {},
   "outputs": [
    {
     "name": "stdout",
     "output_type": "stream",
     "text": [
      "['first line', 'second line', 'third line']\n"
     ]
    }
   ],
   "source": [
    "# \"with\" менеджер контексту\n",
    "\n",
    "with open('text.txt', 'w') as f:\n",
    "    f.write('Some data')\n",
    "    \n",
    "with open('test.txt', 'r') as f:\n",
    "    lines = [el.strip() for el in f.readlines()]\n",
    "    \n",
    "print(lines)\n",
    "\n",
    "# Файл закриється автоматично після виходу з блоку with"
   ]
  },
  {
   "cell_type": "markdown",
   "id": "80f2ca17",
   "metadata": {},
   "source": [
    "## Робота з не текстовими файлами у Python\n"
   ]
  },
  {
   "cell_type": "code",
   "execution_count": 9,
   "id": "de38f6d4",
   "metadata": {},
   "outputs": [],
   "source": [
    "# Приклад запису бінарних даних в файл з використанням 'wb' та \"b'string'\"\n",
    "\n",
    "with open('raw_data.bin', 'wb') as f:\n",
    "    f.write(b'Hello, world!')\n",
    "    \n",
    "    # f.write('Hello, world!') # no b'str' - TypeError: a bytes-like object is required, not 'str'"
   ]
  },
  {
   "cell_type": "markdown",
   "id": "802404db",
   "metadata": {},
   "source": [
    "Типи даних байт-рядків:\n",
    "* bytes - незмінний тип, що використовують для представлення байтів.\n",
    "* bytearray - змінний тип, що дозволяє модифікувати байти після їх створення.\n",
    "\n",
    "__Байт-рядки__ або простіше байти — це звичайні рядки, але для запису одного символу використовується суворо один байт. Це відрізняється від звичайних рядків, де символи (особливо в Unicode) можуть займати більше одного байта.</br>\n",
    "\n",
    "__Біт__ (скорочено від \"binary digit\" або \"двійкова цифра\") є основною одиницею інформації в обчислювальній техніці та цифровій комунікації. Біт може мати одне з двох значень: 0 або 1. Ви можете думати про біт, як про відповідь на просте питання: \"так/ні\" або \"вимкнено/увімкнено\".</br>\n",
    "\n",
    "__Байт__ - це послідовність з 8 бітів, яка є стандартною одиницею вимірювання кількості інформації в комп'ютерах. Один байт може представляти 256 різних станів. Від 00000000 до 11111111 у двійковому форматі або від 0 до 255 десятеричному, що дозволяє кодувати широкий спектр інформації, наприклад, символи тексту, частини зображень або звуку.</br>\n",
    "\n",
    "Для байт-рядків застосовуються ті самі обмеження і правила, що і для звичайних рядків. Наприклад, ви можете використовувати методи upper(), startswith(), index(), find() і так далі.\n",
    "\n",
    "__ASCII__ (American Standard Code for Information Interchange - Американський стандартний код для обміну інформацією) - це символьна кодова таблиця, яка використовується для представлення тексту в комп'ютерах, комунікаційному обладнанні та інших пристроях, що працюють з текстом. Кожен символ у таблиці ASCII відповідає певному числу.\n",
    "\n",
    "ASCII визначає 128 символів, що включають латинські літери, цифри, знаки пунктуації, а також символи управління. Кожен символ кодується 7-бітним числом, що дозволяє представити числа від 0 до 127. Існує також розширений ASCII, який використовує 8-бітне кодування для представлення 256 символів (від 0 до 255). Це розширення включає додаткові символи, такі як латинські літери з діакритичними знаками, графічні символи тощо."
   ]
  },
  {
   "cell_type": "code",
   "execution_count": 10,
   "id": "408f80ff",
   "metadata": {},
   "outputs": [
    {
     "name": "stdout",
     "output_type": "stream",
     "text": [
      "b'Hello, world!'\n",
      "101\n"
     ]
    }
   ],
   "source": [
    "# Приклад оголошення байтового рядка\n",
    "\n",
    "byte_str = b'Hello, world!'\n",
    "print(byte_str)              # b'Hello, world!'\n",
    "print(byte_str[1])           # 101 - ASCII-код символу 'e'"
   ]
  },
  {
   "cell_type": "code",
   "execution_count": 11,
   "id": "aaf82a78",
   "metadata": {},
   "outputs": [
    {
     "name": "stdout",
     "output_type": "stream",
     "text": [
      "b'Hello, world!'\n",
      "101\n"
     ]
    }
   ],
   "source": [
    "# Приклад оголошення байтового рядка #2 - .encode() замість b'str'\n",
    "\n",
    "byte_str = 'Hello, world!'.encode()\n",
    "print(byte_str)\n",
    "print(byte_str[1])"
   ]
  },
  {
   "cell_type": "markdown",
   "id": "893bbd33",
   "metadata": {},
   "source": [
    "Синтаксис використання encode():\n",
    "\n",
    "```\n",
    "str.encode(encoding=\"utf-8\", errors=\"strict\")\n",
    "```\n",
    "\n",
    "* __encoding__ - вказує метод кодування. По замовчуванню використовується 'utf-8', який підтримує велику кількість символів з різних мов.\n",
    "* __errors__ - вказує, як обробляти помилки кодування. Наприклад, 'strict' для викидання виключення у випадку помилки, 'ignore' для ігнорування помилок або 'replace' для заміни неможливих для кодування символів на певний замінник (?)."
   ]
  },
  {
   "cell_type": "markdown",
   "id": "20643286",
   "metadata": {},
   "source": [
    "## Перетворення чисел у байт-рядки\n",
    "\n"
   ]
  },
  {
   "cell_type": "code",
   "execution_count": 12,
   "id": "2ae4249d",
   "metadata": {},
   "outputs": [
    {
     "name": "stdout",
     "output_type": "stream",
     "text": [
      "bytes(nums):  <class 'bytes'>\n",
      "byte_numbers:  b'\\x01\\x05\\x0b\\x80'\n",
      "\n",
      "1: 0x1; class: <class 'str'>\n",
      "5: 0x5; class: <class 'str'>\n",
      "11: 0xb; class: <class 'str'>\n",
      "128: 0x80; class: <class 'str'>\n"
     ]
    }
   ],
   "source": [
    "# bytes() - перетворення числа в байт-рядок\n",
    "# hex() - перетворення цілого числа в рядок - представлення числа в шістнадцятковій формі\n",
    "\n",
    "nums = [1, 5, 11, 128]\n",
    "byte_numbers = bytes(nums)\n",
    "print('bytes(nums): ', type(bytes(nums)))\n",
    "print('byte_numbers: ', byte_numbers)\n",
    "\n",
    "print()\n",
    "\n",
    "for num in nums:\n",
    "    print(f'{num}: {hex(num)}; class: {type(hex(num))}')"
   ]
  },
  {
   "cell_type": "markdown",
   "id": "8e561464",
   "metadata": {},
   "source": [
    "## Кодування рядків (ASCII, UTF-8, CP1251)\n",
    "\n"
   ]
  },
  {
   "cell_type": "markdown",
   "id": "26833a19",
   "metadata": {},
   "source": [
    "Python за замовчуванням використовує UTF-8, в якій один символ може займати від 1 до 4 байт, і всього в алфавіті може бути до 1 112 064 знаків."
   ]
  },
  {
   "cell_type": "code",
   "execution_count": 13,
   "id": "d87e055e",
   "metadata": {},
   "outputs": [
    {
     "data": {
      "text/plain": [
       "98"
      ]
     },
     "execution_count": 13,
     "metadata": {},
     "output_type": "execute_result"
    }
   ],
   "source": [
    "# Отримання коду символа\n",
    "\n",
    "ord('b')"
   ]
  },
  {
   "cell_type": "code",
   "execution_count": 14,
   "id": "23de7d0f",
   "metadata": {},
   "outputs": [
    {
     "data": {
      "text/plain": [
       "'b'"
      ]
     },
     "execution_count": 14,
     "metadata": {},
     "output_type": "execute_result"
    }
   ],
   "source": [
    "# Отримання символа з коду\n",
    "\n",
    "chr(98)"
   ]
  },
  {
   "cell_type": "code",
   "execution_count": 15,
   "id": "ce42ab45",
   "metadata": {},
   "outputs": [
    {
     "name": "stdout",
     "output_type": "stream",
     "text": [
      "UTF-8: \tb'\\xd0\\x9f\\xd1\\x80\\xd0\\xb8\\xd0\\xb2\\xd1\\x96\\xd1\\x82, \\xd1\\x81\\xd0\\xb2\\xd1\\x96\\xd1\\x82!'\n",
      "UTF-16: b'\\xff\\xfe\\x1f\\x04@\\x048\\x042\\x04V\\x04B\\x04,\\x00 \\x00A\\x042\\x04V\\x04B\\x04!\\x00'\n",
      "UTF-8: \tb'\\xcf\\xf0\\xe8\\xe2\\xb3\\xf2, \\xf1\\xe2\\xb3\\xf2!'\n",
      "\n",
      "s_from_utf16: \t Привіт, світ!\n",
      "s_from_ch1251: \t Привіт, світ!\n"
     ]
    }
   ],
   "source": [
    "# Приклади кодування з .encode() та декодування з .decode()\n",
    "\n",
    "s = 'Привіт, світ!'\n",
    "\n",
    "utf8 = s.encode()\n",
    "print(f'UTF-8: \\t{utf8}')\n",
    "\n",
    "utf16 = s.encode('utf-16')\n",
    "print(f'UTF-16: {utf16}')\n",
    "\n",
    "ch1251 = s.encode('cp1251')\n",
    "print(f'UTF-8: \\t{ch1251}')\n",
    "\n",
    "s_from_utf16 = utf16.decode('utf-16')\n",
    "print('\\ns_from_utf16: \\t', s_from_utf16)\n",
    "\n",
    "s_from_ch1251 = ch1251.decode('cp1251')\n",
    "print('s_from_ch1251: \\t', s_from_ch1251)"
   ]
  },
  {
   "cell_type": "code",
   "execution_count": 16,
   "id": "12896e33",
   "metadata": {},
   "outputs": [
    {
     "ename": "UnicodeDecodeError",
     "evalue": "'utf-16-le' codec can't decode byte 0x21 in position 12: truncated data",
     "output_type": "error",
     "traceback": [
      "\u001b[1;31m---------------------------------------------------------------------------\u001b[0m",
      "\u001b[1;31mUnicodeDecodeError\u001b[0m                        Traceback (most recent call last)",
      "Cell \u001b[1;32mIn[16], line 4\u001b[0m\n\u001b[0;32m      1\u001b[0m \u001b[38;5;66;03m# При спробі конвертації в неправильний формат ми або отримуємо помилку,\u001b[39;00m\n\u001b[0;32m      2\u001b[0m \u001b[38;5;66;03m# або непередбачуваний результат (з помилковими символами)\u001b[39;00m\n\u001b[1;32m----> 4\u001b[0m s_from_ch1251 \u001b[38;5;241m=\u001b[39m \u001b[43mch1251\u001b[49m\u001b[38;5;241;43m.\u001b[39;49m\u001b[43mdecode\u001b[49m\u001b[43m(\u001b[49m\u001b[38;5;124;43m'\u001b[39;49m\u001b[38;5;124;43mutf-16\u001b[39;49m\u001b[38;5;124;43m'\u001b[39;49m\u001b[43m)\u001b[49m\n\u001b[0;32m      5\u001b[0m \u001b[38;5;28mprint\u001b[39m(\u001b[38;5;124m'\u001b[39m\u001b[38;5;124ms_from_ch1251: \u001b[39m\u001b[38;5;130;01m\\t\u001b[39;00m\u001b[38;5;124m'\u001b[39m, s_from_ch1251)\n",
      "\u001b[1;31mUnicodeDecodeError\u001b[0m: 'utf-16-le' codec can't decode byte 0x21 in position 12: truncated data"
     ]
    }
   ],
   "source": [
    "# При спробі конвертації в неправильний формат ми або отримуємо помилку,\n",
    "# або непередбачуваний результат (з помилковими символами)\n",
    "\n",
    "s_from_ch1251 = ch1251.decode('utf-16')\n",
    "print('s_from_ch1251: \\t', s_from_ch1251)"
   ]
  },
  {
   "cell_type": "code",
   "execution_count": 17,
   "id": "c3934a89",
   "metadata": {},
   "outputs": [
    {
     "ename": "LookupError",
     "evalue": "unknown encoding: utf-1",
     "output_type": "error",
     "traceback": [
      "\u001b[1;31m---------------------------------------------------------------------------\u001b[0m",
      "\u001b[1;31mLookupError\u001b[0m                               Traceback (most recent call last)",
      "Cell \u001b[1;32mIn[17], line 3\u001b[0m\n\u001b[0;32m      1\u001b[0m \u001b[38;5;66;03m# Неіснуюче кодування\u001b[39;00m\n\u001b[1;32m----> 3\u001b[0m s_from_utf1_error \u001b[38;5;241m=\u001b[39m \u001b[43mch1251\u001b[49m\u001b[38;5;241;43m.\u001b[39;49m\u001b[43mdecode\u001b[49m\u001b[43m(\u001b[49m\u001b[38;5;124;43m'\u001b[39;49m\u001b[38;5;124;43mutf-1\u001b[39;49m\u001b[38;5;124;43m'\u001b[39;49m\u001b[43m)\u001b[49m\n\u001b[0;32m      4\u001b[0m \u001b[38;5;28mprint\u001b[39m(\u001b[38;5;124m'\u001b[39m\u001b[38;5;124ms_from_utf1_error: \u001b[39m\u001b[38;5;130;01m\\t\u001b[39;00m\u001b[38;5;124m'\u001b[39m, s_from_utf1_error)\n",
      "\u001b[1;31mLookupError\u001b[0m: unknown encoding: utf-1"
     ]
    }
   ],
   "source": [
    "# Неіснуюче кодування\n",
    "\n",
    "s_from_utf1_error = ch1251.decode('utf-1')\n",
    "print('s_from_utf1_error: \\t', s_from_utf1_error)"
   ]
  },
  {
   "cell_type": "code",
   "execution_count": 18,
   "id": "ac1fba45",
   "metadata": {},
   "outputs": [
    {
     "name": "stdout",
     "output_type": "stream",
     "text": [
      "first line\n",
      "second line\n",
      "third line\n"
     ]
    }
   ],
   "source": [
    "# Відкриття файлу з вказаним вірним кодуванням\n",
    "\n",
    "with open('test.txt', 'r', encoding='utf-8') as file:\n",
    "    content = file.read()\n",
    "    print(content)"
   ]
  },
  {
   "cell_type": "code",
   "execution_count": 19,
   "id": "00db2f88",
   "metadata": {},
   "outputs": [
    {
     "ename": "UnicodeDecodeError",
     "evalue": "'utf-16-le' codec can't decode byte 0x65 in position 34: truncated data",
     "output_type": "error",
     "traceback": [
      "\u001b[1;31m---------------------------------------------------------------------------\u001b[0m",
      "\u001b[1;31mUnicodeDecodeError\u001b[0m                        Traceback (most recent call last)",
      "Cell \u001b[1;32mIn[19], line 4\u001b[0m\n\u001b[0;32m      1\u001b[0m \u001b[38;5;66;03m# Відкриття файлу з вказаним невірним кодуванням\u001b[39;00m\n\u001b[0;32m      3\u001b[0m \u001b[38;5;28;01mwith\u001b[39;00m \u001b[38;5;28mopen\u001b[39m(\u001b[38;5;124m'\u001b[39m\u001b[38;5;124mtest.txt\u001b[39m\u001b[38;5;124m'\u001b[39m, \u001b[38;5;124m'\u001b[39m\u001b[38;5;124mr\u001b[39m\u001b[38;5;124m'\u001b[39m, encoding\u001b[38;5;241m=\u001b[39m\u001b[38;5;124m'\u001b[39m\u001b[38;5;124mutf-16\u001b[39m\u001b[38;5;124m'\u001b[39m) \u001b[38;5;28;01mas\u001b[39;00m file:\n\u001b[1;32m----> 4\u001b[0m     content \u001b[38;5;241m=\u001b[39m \u001b[43mfile\u001b[49m\u001b[38;5;241;43m.\u001b[39;49m\u001b[43mread\u001b[49m\u001b[43m(\u001b[49m\u001b[43m)\u001b[49m\n\u001b[0;32m      5\u001b[0m     \u001b[38;5;28mprint\u001b[39m(content)\n",
      "File \u001b[1;32mC:\\ProgramData\\anaconda3\\lib\\codecs.py:322\u001b[0m, in \u001b[0;36mBufferedIncrementalDecoder.decode\u001b[1;34m(self, input, final)\u001b[0m\n\u001b[0;32m    319\u001b[0m \u001b[38;5;28;01mdef\u001b[39;00m \u001b[38;5;21mdecode\u001b[39m(\u001b[38;5;28mself\u001b[39m, \u001b[38;5;28minput\u001b[39m, final\u001b[38;5;241m=\u001b[39m\u001b[38;5;28;01mFalse\u001b[39;00m):\n\u001b[0;32m    320\u001b[0m     \u001b[38;5;66;03m# decode input (taking the buffer into account)\u001b[39;00m\n\u001b[0;32m    321\u001b[0m     data \u001b[38;5;241m=\u001b[39m \u001b[38;5;28mself\u001b[39m\u001b[38;5;241m.\u001b[39mbuffer \u001b[38;5;241m+\u001b[39m \u001b[38;5;28minput\u001b[39m\n\u001b[1;32m--> 322\u001b[0m     (result, consumed) \u001b[38;5;241m=\u001b[39m \u001b[38;5;28;43mself\u001b[39;49m\u001b[38;5;241;43m.\u001b[39;49m\u001b[43m_buffer_decode\u001b[49m\u001b[43m(\u001b[49m\u001b[43mdata\u001b[49m\u001b[43m,\u001b[49m\u001b[43m \u001b[49m\u001b[38;5;28;43mself\u001b[39;49m\u001b[38;5;241;43m.\u001b[39;49m\u001b[43merrors\u001b[49m\u001b[43m,\u001b[49m\u001b[43m \u001b[49m\u001b[43mfinal\u001b[49m\u001b[43m)\u001b[49m\n\u001b[0;32m    323\u001b[0m     \u001b[38;5;66;03m# keep undecoded input until the next call\u001b[39;00m\n\u001b[0;32m    324\u001b[0m     \u001b[38;5;28mself\u001b[39m\u001b[38;5;241m.\u001b[39mbuffer \u001b[38;5;241m=\u001b[39m data[consumed:]\n",
      "File \u001b[1;32mC:\\ProgramData\\anaconda3\\lib\\encodings\\utf_16.py:61\u001b[0m, in \u001b[0;36mIncrementalDecoder._buffer_decode\u001b[1;34m(self, input, errors, final)\u001b[0m\n\u001b[0;32m     58\u001b[0m \u001b[38;5;28;01mdef\u001b[39;00m \u001b[38;5;21m_buffer_decode\u001b[39m(\u001b[38;5;28mself\u001b[39m, \u001b[38;5;28minput\u001b[39m, errors, final):\n\u001b[0;32m     59\u001b[0m     \u001b[38;5;28;01mif\u001b[39;00m \u001b[38;5;28mself\u001b[39m\u001b[38;5;241m.\u001b[39mdecoder \u001b[38;5;129;01mis\u001b[39;00m \u001b[38;5;28;01mNone\u001b[39;00m:\n\u001b[0;32m     60\u001b[0m         (output, consumed, byteorder) \u001b[38;5;241m=\u001b[39m \\\n\u001b[1;32m---> 61\u001b[0m             \u001b[43mcodecs\u001b[49m\u001b[38;5;241;43m.\u001b[39;49m\u001b[43mutf_16_ex_decode\u001b[49m\u001b[43m(\u001b[49m\u001b[38;5;28;43minput\u001b[39;49m\u001b[43m,\u001b[49m\u001b[43m \u001b[49m\u001b[43merrors\u001b[49m\u001b[43m,\u001b[49m\u001b[43m \u001b[49m\u001b[38;5;241;43m0\u001b[39;49m\u001b[43m,\u001b[49m\u001b[43m \u001b[49m\u001b[43mfinal\u001b[49m\u001b[43m)\u001b[49m\n\u001b[0;32m     62\u001b[0m         \u001b[38;5;28;01mif\u001b[39;00m byteorder \u001b[38;5;241m==\u001b[39m \u001b[38;5;241m-\u001b[39m\u001b[38;5;241m1\u001b[39m:\n\u001b[0;32m     63\u001b[0m             \u001b[38;5;28mself\u001b[39m\u001b[38;5;241m.\u001b[39mdecoder \u001b[38;5;241m=\u001b[39m codecs\u001b[38;5;241m.\u001b[39mutf_16_le_decode\n",
      "\u001b[1;31mUnicodeDecodeError\u001b[0m: 'utf-16-le' codec can't decode byte 0x65 in position 34: truncated data"
     ]
    }
   ],
   "source": [
    "# Відкриття файлу з вказаним невірним кодуванням\n",
    "\n",
    "with open('test.txt', 'r', encoding='utf-16') as file:\n",
    "    content = file.read()\n",
    "    print(content)"
   ]
  },
  {
   "cell_type": "markdown",
   "id": "2cc06ae8",
   "metadata": {},
   "source": [
    "## Масив байтів\n",
    "\n"
   ]
  },
  {
   "cell_type": "code",
   "execution_count": 20,
   "id": "031d653f",
   "metadata": {},
   "outputs": [
    {
     "name": "stdout",
     "output_type": "stream",
     "text": [
      "bytearray(b'Bill Kill')\n"
     ]
    }
   ],
   "source": [
    "# Використання контейнера bytearray()\n",
    "\n",
    "byte_array = bytearray(b'Kill Bill')\n",
    "byte_array[0] = ord('B')\n",
    "byte_array[5] = ord('K')\n",
    "print(byte_array)"
   ]
  },
  {
   "cell_type": "markdown",
   "id": "41390120",
   "metadata": {},
   "source": [
    "Основна відмінність __bytearray__ від байт-рядків — це змінність, щоб змінити масив байтів, не потрібно створювати новий. Друга важлива відмінність — це те, що масив байтів сприймається системою як послідовність чисел від 0 до 255, а не як послідовність символів в ASCII кодуванні. Саме тому не можна написати byte_array[0] = b'B'. Елементи масиву байтів сприймаються саме як цілі числа.\n",
    "\n",
    "В іншому ж bytearray може використовуватися як заміна байт-рядків і у нього є ті самі методи з тією самою поведінкою.\n",
    "\n",
    "Окрім зміни існуючих елементів, bytearray дозволяє додавати та видаляти елементи, що робить його набагато більш гнучким у порівнянні з незмінними байт-рядками."
   ]
  },
  {
   "cell_type": "code",
   "execution_count": 21,
   "id": "a2a320e3",
   "metadata": {},
   "outputs": [
    {
     "name": "stdout",
     "output_type": "stream",
     "text": [
      "Hello, world!\n"
     ]
    }
   ],
   "source": [
    "# Перетворення контейнера bytearray() в рядок з використанням decode()\n",
    "\n",
    "byte_array = bytearray(b'Hello, world!')\n",
    "string = byte_array.decode('utf-8')\n",
    "print(string)"
   ]
  },
  {
   "cell_type": "markdown",
   "id": "9d9cee61",
   "metadata": {},
   "source": [
    "## Порівняння рядків\n",
    "\n"
   ]
  },
  {
   "cell_type": "markdown",
   "id": "d25f337f",
   "metadata": {},
   "source": [
    "Кроки процесу порівняння рядків:\n",
    "1. Перетворення рядків у єдиний регістр з використанням __lower()__, __upper()__ або __casefold()__\n",
    "2. Сам процес порівняння\n",
    "\n",
    "* lower() - нижній регістр\n",
    "* upper() - верхній регістр\n",
    "* casefold() - працює аналогічно lower(), але він призначений для видалення усіх відмінностей у регістрі, які можуть виникати у різних мовах (наприклад де одна літера може мати різні верхній та нижній регістри як у німецькій)"
   ]
  },
  {
   "cell_type": "code",
   "execution_count": 22,
   "id": "f38a095f",
   "metadata": {},
   "outputs": [
    {
     "name": "stdout",
     "output_type": "stream",
     "text": [
      "Порівняння з lower(): \t\tFalse\n",
      "Порівняння з casefold(): \tTrue\n"
     ]
    }
   ],
   "source": [
    "german_word = 'straße'  # В нижньому регістрі\n",
    "search_word = 'STRASSE'  # В верхньому регістрі\n",
    "\n",
    "# Порівняння за допомогою lower()\n",
    "lower_comparison = german_word.lower() == search_word.lower()\n",
    "\n",
    "# Порівняння за допомогою casefold()\n",
    "casefold_comparison = german_word.casefold() == search_word.casefold()\n",
    "\n",
    "print(f\"Порівняння з lower(): \\t\\t{lower_comparison}\")\n",
    "print(f\"Порівняння з casefold(): \\t{casefold_comparison}\")"
   ]
  },
  {
   "cell_type": "markdown",
   "id": "f032cad9",
   "metadata": {},
   "source": [
    "## Робота з архівами\n"
   ]
  },
  {
   "cell_type": "markdown",
   "id": "40ea32d6",
   "metadata": {},
   "source": [
    "Архіви по своїй суті — це ті самі файли, але інформація в них розташована з використанням алгоритмів стискання, які дозволяють записати інформацію в меншому об'ємі."
   ]
  },
  {
   "cell_type": "markdown",
   "id": "70b8aab5",
   "metadata": {},
   "source": [
    "Синтаксис __shutil.make_archive()__:\n",
    "```\n",
    "shutil.make_archive(base_name, format, root_dir=None, base_dir=None)\n",
    "```\n",
    "Параметри:\n",
    "* base_name - шлях до файлу, де потрібно зберегти архів, без розширення.\n",
    "* format - формат архіву, наприклад 'zip', 'tar', 'gztar', 'bztar' або 'xztar'.\n",
    "* root_dir - директорія, з якої буде створено архів. Якщо не вказано, використовується поточна директорія.\n",
    "* base_dir - директорія всередині архіву, з якої почнеться архівація."
   ]
  },
  {
   "cell_type": "code",
   "execution_count": 23,
   "id": "a555b84a",
   "metadata": {},
   "outputs": [
    {
     "data": {
      "text/plain": [
       "'C:\\\\Users\\\\jester\\\\Documents\\\\goit_python_software_2024\\\\Python_core_2.0\\\\module_4\\\\example.zip'"
      ]
     },
     "execution_count": 23,
     "metadata": {},
     "output_type": "execute_result"
    }
   ],
   "source": [
    "# Створення архіву\n",
    "\n",
    "import shutil\n",
    "\n",
    "shutil.make_archive('example', 'zip', root_dir='my_folder')"
   ]
  },
  {
   "cell_type": "markdown",
   "id": "5b6f4fee",
   "metadata": {},
   "source": [
    "Синтаксис __shutil.unpack_archive()__:\n",
    "```\n",
    "shutil.unpack_archive(filename, extract_dir=None, format=None)\n",
    "```\n",
    "Параметри\n",
    "* filename - шлях до архівного файлу, який потрібно розпакувати.\n",
    "* extract_dir - директорія, куди буде розпаковано вміст архіву. Якщо не вказано, використовується поточна директорія.\n",
    "* format - формат архіву наприклад, zip, tar, gztar, bztar, або xztar. Якщо параметр не вказано, Python намагається визначити формат автоматично."
   ]
  },
  {
   "cell_type": "code",
   "execution_count": 24,
   "id": "3bdd39f7",
   "metadata": {},
   "outputs": [],
   "source": [
    "# Розпакування архіву\n",
    "\n",
    "import shutil\n",
    "\n",
    "shutil.unpack_archive('example.zip', 'destination_fodler')"
   ]
  },
  {
   "cell_type": "markdown",
   "id": "acb8ddfd",
   "metadata": {},
   "source": [
    "## Основи модуля pathlib"
   ]
  },
  {
   "cell_type": "markdown",
   "id": "6b140a6a",
   "metadata": {},
   "source": [
    "__pathlib__ - це модуль у Python, який надає класи для обробки файлових шляхів у об'єктно-орієнтованому стилі. Два основних класи у цьому модулі - це Path та PurePath.\n",
    "\n",
    "__PurePath__ - це базовий клас у pathlib, який надає об'єктно-орієнтовані методи для маніпуляції шляхами без доступу до файлової системи. Він може бути використаний для роботи з шляхами на різних операційних системах. PurePath дозволяє виконувати такі операції, як розділення шляху на частини, перевірка суфіксів, імен файлів, шляхів тощо.\n",
    "\n",
    "У PurePath є ряд корисних методів та атрибутів:\n",
    "* p.parent вказує на батьківську директорію;\n",
    "* p.name повертає лише рядок з ім'ям директорі або файлу, на який вказує p;\n",
    "* p.suffix повертає рядком розширення файлу, на який вказує p, починаючи з крапки;\n",
    "\n",
    "Клас __Path__ наслідує всі методи з PurePath і додає методи для виконання операцій, які вимагають доступу до файлової системи, таких як читання, запис файлів, перевірка існування файлів тощо. З класом Path можна створювати нові файли, читати та записувати дані, перевіряти існування шляхів, перелічувати файли у директорії тощо."
   ]
  },
  {
   "cell_type": "code",
   "execution_count": 25,
   "id": "289f9efe",
   "metadata": {},
   "outputs": [
    {
     "name": "stdout",
     "output_type": "stream",
     "text": [
      "p.name:  test.png\n",
      "p.suffix:  .png\n",
      "p.parent:  \\usr\\bin\n"
     ]
    }
   ],
   "source": [
    "# class PurePath()\n",
    "\n",
    "from pathlib import PurePath\n",
    "\n",
    "p = PurePath('/usr/bin/test.png')\n",
    "print('p.name: ', p.name)\n",
    "print('p.suffix: ', p.suffix)\n",
    "print('p.parent: ', p.parent)"
   ]
  },
  {
   "cell_type": "code",
   "execution_count": 26,
   "id": "7d851c71",
   "metadata": {},
   "outputs": [
    {
     "name": "stdout",
     "output_type": "stream",
     "text": [
      "p.read_text():  Hello, world!\n",
      "p.exists:  True\n"
     ]
    }
   ],
   "source": [
    "# class Path()\n",
    "\n",
    "from pathlib import Path\n",
    "\n",
    "p = Path('example.txt')\n",
    "p.write_text('Hello, world!')\n",
    "print('p.read_text(): ', p.read_text())\n",
    "print('p.exists: ', p.exists())"
   ]
  },
  {
   "cell_type": "markdown",
   "id": "81340919",
   "metadata": {},
   "source": [
    "## Створення Шляхів\n",
    "\n"
   ]
  },
  {
   "cell_type": "code",
   "execution_count": 27,
   "id": "3649b5f5",
   "metadata": {},
   "outputs": [
    {
     "name": "stdout",
     "output_type": "stream",
     "text": [
      "path_unix:  \\usr\\bin\\python3\n",
      "path_windows:  C:\\Users\\Test_name\\Documents\\file.txt\n"
     ]
    }
   ],
   "source": [
    "# Створення шляхів з Path()\n",
    "\n",
    "from pathlib import Path\n",
    "\n",
    "# Unix\n",
    "path_unix = Path('/usr/bin/python3')\n",
    "\n",
    "# Windows\n",
    "path_windows = Path('C:/Users/Test_name/Documents/file.txt')\n",
    "\n",
    "print('path_unix: ', path_unix)\n",
    "print('path_windows: ', path_windows)"
   ]
  },
  {
   "cell_type": "code",
   "execution_count": 28,
   "id": "e2447756",
   "metadata": {},
   "outputs": [
    {
     "name": "stdout",
     "output_type": "stream",
     "text": [
      "full_path with Path, full_path:  D:\\scripts\\script.py\n",
      "type(full_path):  <class 'pathlib.WindowsPath'>\n",
      "\n",
      "full_path without Path, full_path2:  D:scripts\\script.py\n",
      "type(full_path2):  <class 'pathlib.WindowsPath'>\n"
     ]
    }
   ],
   "source": [
    "# Приклад створення шляхів\n",
    "\n",
    "from pathlib import Path\n",
    "\n",
    "base_path = Path('D:')\n",
    "dir_with_scripts = Path('/scripts')\n",
    "\n",
    "# Створено тільки шлях, сама папка та файл не створені\n",
    "full_path = base_path / dir_with_scripts / 'script.py'\n",
    "\n",
    "# Сабдиректорія передається у вигляді рядка\n",
    "full_path2 = base_path / 'scripts' / 'script.py'\n",
    "\n",
    "\n",
    "print('full_path with Path, full_path: ', full_path)\n",
    "print('type(full_path): ', type(full_path))\n",
    "\n",
    "print('\\nfull_path without Path, full_path2: ', full_path2)\n",
    "print('type(full_path2): ', type(full_path2))"
   ]
  },
  {
   "cell_type": "markdown",
   "id": "6b43f511",
   "metadata": {},
   "source": [
    "## Відносні та абсолютні шляхи\n",
    "\n"
   ]
  },
  {
   "cell_type": "markdown",
   "id": "7a9a993a",
   "metadata": {},
   "source": [
    "__Абсолютний шлях__ - це повний шлях до файлу або директорії від кореня файлової системи. Він містить всю інформацію, необхідну для знаходження файлу або директорії.\n",
    "```\n",
    "Приклад на Unix/Linux: /home/user/documents/example.txt\n",
    "Приклад на Windows: C:\\Users\\user\\documents\\example.txt\n",
    "```\n",
    "__Відносний шлях__ - це шлях до файлу або директорії відносно поточного робочого каталогу. Він не містить повну інформацію про місцезнаходження і залежить від місця, з якого виконується програма."
   ]
  },
  {
   "cell_type": "code",
   "execution_count": 29,
   "id": "d4e7096e",
   "metadata": {},
   "outputs": [
    {
     "name": "stdout",
     "output_type": "stream",
     "text": [
      "relative_path:  documents\\example.txt\n",
      "absolute_from_relative:  C:\\Users\\jester\\Documents\\goit_python_software_2024\\Python_core_2.0\\module_4\\documents\\example.txt\n"
     ]
    }
   ],
   "source": [
    "# Приклади створення абсолютного та відносного шляху\n",
    "\n",
    "from pathlib import Path\n",
    "\n",
    "relative_path = Path('documents/example.txt')\n",
    "absolute_from_relative = relative_path.absolute()\n",
    "\n",
    "print('relative_path: ', relative_path)\n",
    "print('absolute_from_relative: ', absolute_from_relative)"
   ]
  },
  {
   "cell_type": "markdown",
   "id": "e8561456",
   "metadata": {},
   "source": [
    "## Маніпуляція з компонентами шляху\n",
    "\n"
   ]
  },
  {
   "cell_type": "code",
   "execution_count": 30,
   "id": "32a4ae62",
   "metadata": {},
   "outputs": [
    {
     "name": "stdout",
     "output_type": "stream",
     "text": [
      "original_path:  documents\\scritps\\example.txt\n",
      "new_path1:  documents\\scritps\\report.txt\n",
      "new_path2:  documents\\scritps\\report.md\n"
     ]
    }
   ],
   "source": [
    "# with_name() - заміна імені файлу в первному шляху\n",
    "\n",
    "from pathlib import Path\n",
    "\n",
    "original_path = Path('documents/scritps/example.txt')\n",
    "new_path1 = original_path.with_name('report.txt')\n",
    "new_path2 = original_path.with_name('report.md') # changed suffix\n",
    "\n",
    "print('original_path: ', original_path)\n",
    "print('new_path1: ', new_path1)\n",
    "print('new_path2: ', new_path2)"
   ]
  },
  {
   "cell_type": "code",
   "execution_count": 31,
   "id": "49f184f6",
   "metadata": {},
   "outputs": [
    {
     "ename": "ValueError",
     "evalue": "Invalid name '/reports/report.txt'",
     "output_type": "error",
     "traceback": [
      "\u001b[1;31m---------------------------------------------------------------------------\u001b[0m",
      "\u001b[1;31mValueError\u001b[0m                                Traceback (most recent call last)",
      "Cell \u001b[1;32mIn[31], line 6\u001b[0m\n\u001b[0;32m      3\u001b[0m \u001b[38;5;28;01mfrom\u001b[39;00m \u001b[38;5;21;01mpathlib\u001b[39;00m \u001b[38;5;28;01mimport\u001b[39;00m Path\n\u001b[0;32m      5\u001b[0m original_path \u001b[38;5;241m=\u001b[39m Path(\u001b[38;5;124m'\u001b[39m\u001b[38;5;124mdocuments/scripts/example.txt\u001b[39m\u001b[38;5;124m'\u001b[39m)\n\u001b[1;32m----> 6\u001b[0m new_path \u001b[38;5;241m=\u001b[39m \u001b[43moriginal_path\u001b[49m\u001b[38;5;241;43m.\u001b[39;49m\u001b[43mwith_name\u001b[49m\u001b[43m(\u001b[49m\u001b[38;5;124;43m'\u001b[39;49m\u001b[38;5;124;43m/reports/report.txt\u001b[39;49m\u001b[38;5;124;43m'\u001b[39;49m\u001b[43m)\u001b[49m\n\u001b[0;32m      8\u001b[0m \u001b[38;5;28mprint\u001b[39m(\u001b[38;5;124m'\u001b[39m\u001b[38;5;124moriginal_path: \u001b[39m\u001b[38;5;124m'\u001b[39m, original_path)\n\u001b[0;32m      9\u001b[0m \u001b[38;5;28mprint\u001b[39m(\u001b[38;5;124m'\u001b[39m\u001b[38;5;124mnew_path: \u001b[39m\u001b[38;5;124m'\u001b[39m, new_path)\n",
      "File \u001b[1;32mC:\\ProgramData\\anaconda3\\lib\\pathlib.py:762\u001b[0m, in \u001b[0;36mPurePath.with_name\u001b[1;34m(self, name)\u001b[0m\n\u001b[0;32m    759\u001b[0m drv, root, parts \u001b[38;5;241m=\u001b[39m \u001b[38;5;28mself\u001b[39m\u001b[38;5;241m.\u001b[39m_flavour\u001b[38;5;241m.\u001b[39mparse_parts((name,))\n\u001b[0;32m    760\u001b[0m \u001b[38;5;28;01mif\u001b[39;00m (\u001b[38;5;129;01mnot\u001b[39;00m name \u001b[38;5;129;01mor\u001b[39;00m name[\u001b[38;5;241m-\u001b[39m\u001b[38;5;241m1\u001b[39m] \u001b[38;5;129;01min\u001b[39;00m [\u001b[38;5;28mself\u001b[39m\u001b[38;5;241m.\u001b[39m_flavour\u001b[38;5;241m.\u001b[39msep, \u001b[38;5;28mself\u001b[39m\u001b[38;5;241m.\u001b[39m_flavour\u001b[38;5;241m.\u001b[39maltsep]\n\u001b[0;32m    761\u001b[0m     \u001b[38;5;129;01mor\u001b[39;00m drv \u001b[38;5;129;01mor\u001b[39;00m root \u001b[38;5;129;01mor\u001b[39;00m \u001b[38;5;28mlen\u001b[39m(parts) \u001b[38;5;241m!=\u001b[39m \u001b[38;5;241m1\u001b[39m):\n\u001b[1;32m--> 762\u001b[0m     \u001b[38;5;28;01mraise\u001b[39;00m \u001b[38;5;167;01mValueError\u001b[39;00m(\u001b[38;5;124m\"\u001b[39m\u001b[38;5;124mInvalid name \u001b[39m\u001b[38;5;132;01m%r\u001b[39;00m\u001b[38;5;124m\"\u001b[39m \u001b[38;5;241m%\u001b[39m (name))\n\u001b[0;32m    763\u001b[0m \u001b[38;5;28;01mreturn\u001b[39;00m \u001b[38;5;28mself\u001b[39m\u001b[38;5;241m.\u001b[39m_from_parsed_parts(\u001b[38;5;28mself\u001b[39m\u001b[38;5;241m.\u001b[39m_drv, \u001b[38;5;28mself\u001b[39m\u001b[38;5;241m.\u001b[39m_root,\n\u001b[0;32m    764\u001b[0m                                \u001b[38;5;28mself\u001b[39m\u001b[38;5;241m.\u001b[39m_parts[:\u001b[38;5;241m-\u001b[39m\u001b[38;5;241m1\u001b[39m] \u001b[38;5;241m+\u001b[39m [name])\n",
      "\u001b[1;31mValueError\u001b[0m: Invalid name '/reports/report.txt'"
     ]
    }
   ],
   "source": [
    "# with_name() #2 - спроба заміни імені файлу та частини шляху\n",
    "\n",
    "from pathlib import Path\n",
    "\n",
    "original_path = Path('documents/scripts/example.txt')\n",
    "new_path = original_path.with_name('/reports/report.txt')\n",
    "\n",
    "print('original_path: ', original_path)\n",
    "print('new_path: ', new_path)"
   ]
  },
  {
   "cell_type": "code",
   "execution_count": 32,
   "id": "a6d72ca7",
   "metadata": {},
   "outputs": [
    {
     "name": "stdout",
     "output_type": "stream",
     "text": [
      "original_path:  documents\\example.txt\n",
      "new_path:  documents\\example.md\n"
     ]
    }
   ],
   "source": [
    "# with_suffix() - заміна або додавання розширення файлу\n",
    "\n",
    "from pathlib import Path\n",
    "\n",
    "original_path = Path('documents/example.txt')\n",
    "new_path = original_path.with_suffix('.md')\n",
    "\n",
    "print('original_path: ', original_path)\n",
    "print('new_path: ', new_path)"
   ]
  },
  {
   "cell_type": "markdown",
   "id": "91c407c2",
   "metadata": {},
   "source": [
    "__Методи with_name і with_suffix в класі Path модуля pathlib в Python не змінюють фізичне ім'я файлу на диску. Замість цього, вони використовуються для створення нового об'єкта Path, який відображає змінений шлях.__"
   ]
  },
  {
   "cell_type": "code",
   "execution_count": 35,
   "id": "9639a139",
   "metadata": {},
   "outputs": [
    {
     "data": {
      "text/plain": [
       "WindowsPath('documents/report.txt')"
      ]
     },
     "execution_count": 35,
     "metadata": {},
     "output_type": "execute_result"
    }
   ],
   "source": [
    "# rename() - заміни існуючого імені файла на значення об'єкту класу Path\n",
    "\n",
    "from pathlib import Path\n",
    "\n",
    "original_path = Path('documents/example.txt')\n",
    "new_path = original_path.with_name('report.txt')\n",
    "\n",
    "original_path.rename(new_path)"
   ]
  },
  {
   "cell_type": "code",
   "execution_count": 36,
   "id": "e53a12e1",
   "metadata": {},
   "outputs": [
    {
     "ename": "FileNotFoundError",
     "evalue": "[WinError 2] The system cannot find the file specified: 'documents\\\\example2.txt' -> 'documents\\\\report2.txt'",
     "output_type": "error",
     "traceback": [
      "\u001b[1;31m---------------------------------------------------------------------------\u001b[0m",
      "\u001b[1;31mFileNotFoundError\u001b[0m                         Traceback (most recent call last)",
      "Cell \u001b[1;32mIn[36], line 8\u001b[0m\n\u001b[0;32m      5\u001b[0m original_path \u001b[38;5;241m=\u001b[39m Path(\u001b[38;5;124m'\u001b[39m\u001b[38;5;124mdocuments/example2.txt\u001b[39m\u001b[38;5;124m'\u001b[39m)\n\u001b[0;32m      6\u001b[0m new_path \u001b[38;5;241m=\u001b[39m original_path\u001b[38;5;241m.\u001b[39mwith_name(\u001b[38;5;124m'\u001b[39m\u001b[38;5;124mreport2.txt\u001b[39m\u001b[38;5;124m'\u001b[39m)\n\u001b[1;32m----> 8\u001b[0m \u001b[43moriginal_path\u001b[49m\u001b[38;5;241;43m.\u001b[39;49m\u001b[43mrename\u001b[49m\u001b[43m(\u001b[49m\u001b[43mnew_path\u001b[49m\u001b[43m)\u001b[49m\n",
      "File \u001b[1;32mC:\\ProgramData\\anaconda3\\lib\\pathlib.py:1234\u001b[0m, in \u001b[0;36mPath.rename\u001b[1;34m(self, target)\u001b[0m\n\u001b[0;32m   1224\u001b[0m \u001b[38;5;28;01mdef\u001b[39;00m \u001b[38;5;21mrename\u001b[39m(\u001b[38;5;28mself\u001b[39m, target):\n\u001b[0;32m   1225\u001b[0m \u001b[38;5;250m    \u001b[39m\u001b[38;5;124;03m\"\"\"\u001b[39;00m\n\u001b[0;32m   1226\u001b[0m \u001b[38;5;124;03m    Rename this path to the target path.\u001b[39;00m\n\u001b[0;32m   1227\u001b[0m \n\u001b[1;32m   (...)\u001b[0m\n\u001b[0;32m   1232\u001b[0m \u001b[38;5;124;03m    Returns the new Path instance pointing to the target path.\u001b[39;00m\n\u001b[0;32m   1233\u001b[0m \u001b[38;5;124;03m    \"\"\"\u001b[39;00m\n\u001b[1;32m-> 1234\u001b[0m     \u001b[38;5;28;43mself\u001b[39;49m\u001b[38;5;241;43m.\u001b[39;49m\u001b[43m_accessor\u001b[49m\u001b[38;5;241;43m.\u001b[39;49m\u001b[43mrename\u001b[49m\u001b[43m(\u001b[49m\u001b[38;5;28;43mself\u001b[39;49m\u001b[43m,\u001b[49m\u001b[43m \u001b[49m\u001b[43mtarget\u001b[49m\u001b[43m)\u001b[49m\n\u001b[0;32m   1235\u001b[0m     \u001b[38;5;28;01mreturn\u001b[39;00m \u001b[38;5;28mself\u001b[39m\u001b[38;5;241m.\u001b[39m\u001b[38;5;18m__class__\u001b[39m(target)\n",
      "\u001b[1;31mFileNotFoundError\u001b[0m: [WinError 2] The system cannot find the file specified: 'documents\\\\example2.txt' -> 'documents\\\\report2.txt'"
     ]
    }
   ],
   "source": [
    "# rename() #2 - файл не існує\n",
    "\n",
    "from pathlib import Path\n",
    "\n",
    "original_path = Path('documents/example2.txt')\n",
    "new_path = original_path.with_name('report2.txt')\n",
    "\n",
    "original_path.rename(new_path)"
   ]
  },
  {
   "cell_type": "markdown",
   "id": "e9a14afe",
   "metadata": {},
   "source": [
    "## Читання та запис файлів\n",
    "\n"
   ]
  },
  {
   "cell_type": "markdown",
   "id": "2d6f5823",
   "metadata": {},
   "source": [
    "Методи read_text() та write_text() використовуються для читання та запису текстових файлів.\n",
    "\n",
    "\n",
    "Синтаксис методу read_text()\n",
    "\n",
    "\n",
    "```\n",
    "Path.read_text(encoding=None, errors=None)\n",
    "```\n",
    "\n",
    "Параметри:\n",
    "\n",
    "\n",
    "\n",
    "* encoding - необов'язковий, ім'я кодування, яке використовується для декодування файлу. Якщо не вказано, використовується кодування за замовчуванням.\n",
    "* errors - необов'язково, інструкція, як обробляти помилки декодування.\n",
    "\n",
    "\n",
    "Синтаксис методу write_text()\n",
    "\n",
    "\n",
    "```\n",
    "Path.write_text(data, encoding=None, errors=None)\n",
    "```\n",
    "\n",
    "* data - рядок, який необхідно записати в файл.\n",
    "* encoding - необов'язковий, ім'я кодування, яке використовується для декодування файлу. Якщо не вказано, використовується кодування за замовчуванням.\n",
    "* errors - необов'язково, інструкція, як обробляти помилки декодування.\n",
    "\n",
    "\n",
    "Як бачимо параметр errors, в обох методах, визначає, як мають бути оброблені ці помилки.\n",
    "\n",
    "\n",
    "\n",
    "* errors='strict'. Це значення за замовчуванням. Якщо виникає помилка декодування, буде викинуто виключення UnicodeDecodeError.\n",
    "* errors='ignore'. Якщо ми хочемо ігнорувати помилки декодування. Частини тексту, що не можуть бути декодовані, будуть просто пропущені.\n",
    "* errors='replace'. Якщо пропускати ми не хочемо, то замінимо неможливі для декодування символи на спеціальний символ заміни, згідно документації символ '?'."
   ]
  },
  {
   "cell_type": "code",
   "execution_count": 37,
   "id": "3ed385b0",
   "metadata": {},
   "outputs": [
    {
     "data": {
      "text/plain": [
       "13"
      ]
     },
     "execution_count": 37,
     "metadata": {},
     "output_type": "execute_result"
    }
   ],
   "source": [
    "# write_text() запис в файл \n",
    "\n",
    "from pathlib import Path\n",
    "\n",
    "file_path = Path('example.txt')\n",
    "\n",
    "file_path.write_text('Hello, world!')"
   ]
  },
  {
   "cell_type": "code",
   "execution_count": 38,
   "id": "7cdd14c6",
   "metadata": {},
   "outputs": [
    {
     "name": "stdout",
     "output_type": "stream",
     "text": [
      "Hello, world!\n"
     ]
    }
   ],
   "source": [
    "# read_text() - читання з файлу\n",
    "\n",
    "from pathlib import Path\n",
    "\n",
    "file_path = Path('example.txt')\n",
    "\n",
    "text = file_path.read_text()\n",
    "\n",
    "print(text)"
   ]
  },
  {
   "cell_type": "markdown",
   "id": "853f0404",
   "metadata": {},
   "source": [
    "Методи __read_bytes()__ та __write_bytes()__ використовуються для читання та запису бінарних файлів.\n",
    "\n"
   ]
  },
  {
   "cell_type": "code",
   "execution_count": 40,
   "id": "6bfebb94",
   "metadata": {},
   "outputs": [
    {
     "data": {
      "text/plain": [
       "13"
      ]
     },
     "execution_count": 40,
     "metadata": {},
     "output_type": "execute_result"
    }
   ],
   "source": [
    "# write_bytes()\n",
    "\n",
    "from pathlib import Path\n",
    "\n",
    "file_path = Path('example.bin')\n",
    "\n",
    "data = b'Hello, world!'\n",
    "\n",
    "file_path.write_bytes(data)"
   ]
  },
  {
   "cell_type": "code",
   "execution_count": 42,
   "id": "cc741525",
   "metadata": {},
   "outputs": [
    {
     "name": "stdout",
     "output_type": "stream",
     "text": [
      "b'Hello, world!'\n"
     ]
    }
   ],
   "source": [
    "# read_bytes()\n",
    "\n",
    "from pathlib import Path\n",
    "\n",
    "file_path = Path('example.bin')\n",
    "\n",
    "binary_data = file_path.read_bytes()\n",
    "\n",
    "print(binary_data)"
   ]
  },
  {
   "cell_type": "markdown",
   "id": "835385ba",
   "metadata": {},
   "source": [
    "## Роботу з директоріями\n",
    "\n"
   ]
  },
  {
   "cell_type": "markdown",
   "id": "51f1805c",
   "metadata": {},
   "source": [
    "Метод __iterdir()__ використовується для отримання переліку всіх файлів та піддиректорій у вказаній директорії. Цей метод повертає ітератор, який виробляє об'єкти Path для кожного файлу та піддиректорії у директорії, що визначена поточним об'єктом Path."
   ]
  },
  {
   "cell_type": "code",
   "execution_count": 46,
   "id": "bea9bc9b",
   "metadata": {},
   "outputs": [
    {
     "name": "stdout",
     "output_type": "stream",
     "text": [
      "documents\\report.txt\n"
     ]
    }
   ],
   "source": [
    "# iterdir()\n",
    "\n",
    "from pathlib import Path\n",
    "\n",
    "directory = Path('.\\documents')\n",
    "\n",
    "for path in directory.iterdir():\n",
    "    print(path)"
   ]
  },
  {
   "cell_type": "markdown",
   "id": "bc8b217f",
   "metadata": {},
   "source": [
    "Для створення нової директорії використовується метод mkdir().\n",
    "\n",
    "\n",
    "```\n",
    "Path.mkdir(mode=0o777, parents=False, exist_ok=False)\n",
    "```\n",
    "\n",
    "Параметри:\n",
    "\n",
    "\n",
    "\n",
    "* mode - права доступу до директорії, використовуються для Linux і не актуальні для Windows.\n",
    "* parents - якщо має значення True, створить всі батьківські директорії, які відсутні.\n",
    "* exist_ok - якщо має значення True, помилка не буде викинута, якщо директорія вже існує.\n",
    "\n",
    "Модуль pathlib також надає декілька методів для перевірки існування та типу файлових об'єктів:\n",
    "\n",
    "\n",
    "\n",
    "* метод exists() перевіряє, чи існує файл або директорія.\n",
    "* метод is_dir() перевіряє, чи є об'єкт директорією.\n",
    "* метод is_file() перевіряє, чи є об'єкт файлом.\n"
   ]
  },
  {
   "cell_type": "code",
   "execution_count": 4,
   "id": "9c97d33b",
   "metadata": {},
   "outputs": [
    {
     "name": "stdout",
     "output_type": "stream",
     "text": [
      "\\my_directory\\new_folder\n"
     ]
    }
   ],
   "source": [
    "# mkdir()\n",
    "\n",
    "from pathlib import Path\n",
    "\n",
    "\n",
    "directory = Path('/my_directory/new_folder')\n",
    "# directory = Path('\\my_directory\\new_folder') # SyntaxError\n",
    "\n",
    "directory.mkdir(parents=True, exist_ok=True)\n",
    "\n",
    "print(directory)"
   ]
  },
  {
   "cell_type": "code",
   "execution_count": 5,
   "id": "eda63f6e",
   "metadata": {},
   "outputs": [],
   "source": [
    "# exists(), is_dir(), is_file()\n",
    "\n",
    "from pathlib import Path\n",
    "\n",
    "\n",
    "path = Path(\"./picture/picture.png\")\n",
    "\n",
    "if path.exists():\n",
    "    print('path.exists(): ', path.exists())\n",
    "    \n",
    "if path.is_dir():\n",
    "    print('path.is_dir(): ', path.is_dir())\n",
    "    \n",
    "if path.is_file():\n",
    "    print('path.is_file(): ', path.is_file())"
   ]
  },
  {
   "cell_type": "markdown",
   "id": "c16df0d4",
   "metadata": {},
   "source": [
    "## Переміщення та копіювання файлів\n",
    "\n"
   ]
  },
  {
   "cell_type": "markdown",
   "id": "c55538ad",
   "metadata": {},
   "source": [
    "* Функція __shutil.copy()__ копіює вміст файлу, але не копіює метадані, тоді як shutil.copy2() копіює і вміст, і метадані.\n",
    "* Метод __stat()__ повертає інформацію про файл, включаючи його розмір.\n",
    "\n",
    "Для видалення файлу використовується метод __unlink()__. Він видаляє файл, на який вказує об'єкт Path.\n",
    "\n",
    "\n",
    "\n",
    "Синтаксис:\n",
    "\n",
    "```\n",
    "Path.unlink(missing_ok=False)\n",
    "```\n",
    "\n",
    "Параметр missing_ok якщо має значення True, то виключення не буде викинуто, якщо файл не існує. За замовчуванням False, це означає, що буде викинуто виняток FileNotFoundError, якщо файл не існує.\n"
   ]
  },
  {
   "cell_type": "code",
   "execution_count": 10,
   "id": "5135db32",
   "metadata": {},
   "outputs": [
    {
     "data": {
      "text/plain": [
       "WindowsPath('report.txt')"
      ]
     },
     "execution_count": 10,
     "metadata": {},
     "output_type": "execute_result"
    }
   ],
   "source": [
    "# shutil.copy()\n",
    "\n",
    "import shutil\n",
    "from pathlib import Path\n",
    "\n",
    "source = Path('./documents/report.txt')\n",
    "destination = Path('./report.txt')\n",
    "\n",
    "shutil.copy(source, destination)"
   ]
  },
  {
   "cell_type": "code",
   "execution_count": 12,
   "id": "9a5b10fa",
   "metadata": {},
   "outputs": [
    {
     "data": {
      "text/plain": [
       "WindowsPath('report.txt')"
      ]
     },
     "execution_count": 12,
     "metadata": {},
     "output_type": "execute_result"
    }
   ],
   "source": [
    "# move() - переміщення файлу\n",
    "# Якщо файл в переміщеній директорії вже існує - він його заміняє\n",
    "\n",
    "import shutil\n",
    "from pathlib import Path\n",
    "\n",
    "\n",
    "source = Path('./documents/report.txt')\n",
    "destination = Path('./report.txt')\n",
    "\n",
    "shutil.move(source, destination)"
   ]
  },
  {
   "cell_type": "code",
   "execution_count": 17,
   "id": "78aa68ea",
   "metadata": {},
   "outputs": [
    {
     "name": "stdout",
     "output_type": "stream",
     "text": [
      "size:  0\n",
      "creation_time:  1706658260.3222864\n",
      "time.ctime(creation_time):  Wed Jan 31 01:44:20 2024\n",
      "modification_time:  1706656372.3298738\n",
      "time.ctime(modification_time):  Wed Jan 31 01:12:52 2024\n"
     ]
    }
   ],
   "source": [
    "# stat()\n",
    "\n",
    "from pathlib import Path\n",
    "import time\n",
    "\n",
    "\n",
    "file_path = Path('./report.txt')\n",
    "\n",
    "size = file_path.stat().st_size\n",
    "creation_time = file_path.stat().st_ctime\n",
    "modification_time = file_path.stat().st_mtime\n",
    "\n",
    "print('size: ', size)\n",
    "print('creation_time: ', creation_time)\n",
    "print('time.ctime(creation_time): ', time.ctime(creation_time))\n",
    "print('modification_time: ', modification_time)\n",
    "print('time.ctime(modification_time): ', time.ctime(modification_time))"
   ]
  },
  {
   "cell_type": "code",
   "execution_count": 18,
   "id": "fc840890",
   "metadata": {},
   "outputs": [
    {
     "name": "stdout",
     "output_type": "stream",
     "text": [
      "File was deleted using unlink().\n"
     ]
    }
   ],
   "source": [
    "# unlink()\n",
    "\n",
    "from pathlib import Path\n",
    "\n",
    "\n",
    "file_path = Path('./report.txt')\n",
    "\n",
    "if file_path.exists():\n",
    "    file_path.unlink()\n",
    "    print('File was deleted using unlink().')\n",
    "else:\n",
    "    print('File doesn`t exist.')"
   ]
  }
 ],
 "metadata": {
  "kernelspec": {
   "display_name": "Python 3 (ipykernel)",
   "language": "python",
   "name": "python3"
  },
  "language_info": {
   "codemirror_mode": {
    "name": "ipython",
    "version": 3
   },
   "file_extension": ".py",
   "mimetype": "text/x-python",
   "name": "python",
   "nbconvert_exporter": "python",
   "pygments_lexer": "ipython3",
   "version": "3.10.13"
  }
 },
 "nbformat": 4,
 "nbformat_minor": 5
}
