{
 "cells": [
  {
   "cell_type": "markdown",
   "id": "d93f4243",
   "metadata": {},
   "source": [
    "# Робота з файлами та обробка виключень\n"
   ]
  },
  {
   "cell_type": "markdown",
   "id": "b9be4a76",
   "metadata": {},
   "source": [
    "## Робота з файлами"
   ]
  },
  {
   "cell_type": "markdown",
   "id": "eb801162",
   "metadata": {},
   "source": [
    "У Python є абстракція над файлами — це вказівник на файл або файловий об'єкт.\n",
    "\n",
    "Файловий об'єкт — це системний ресурс, доступ до якого надає операційна система. Зазвичай файловий об'єкт можна відкрити (отримати/створити), закрити (повідомити системі, що робота з ним завершена), можна записати у нього щось і прочитати щось.</br>\n",
    "\n",
    "Безпосередня робота з файлами у Python починається з відкриття файлу або отримання від системи доступу до файлу, отримання того самого файлового об'єкту. Для цього є вбудована функція open. </br>\n",
    "\n",
    "Синтаксис open():\n",
    "\n",
    "```\n",
    "open(file, mode='r', buffering=1, encoding=None, errors=None, newline=None, closefd=True, opener=None)\n",
    "```\n",
    "\n",
    "Параметри:\n",
    "* file - шлях до файлу у вигляді рядка. Це може бути повний шлях або шлях відносно поточного каталогу виконання.\n",
    "* mode (необов'язковий) - режим, в якому буде відкрито файл. Ось основні режими які ми будемо використовувати:\n",
    "* 'r' - читання (за замовчуванням). Файл має існувати.\n",
    "* 'w' - запис. Створює новий файл або перезаписує, що вже існує.\n",
    "* 'a' - додавання. Дописує в кінець файлу, не перезаписуючи його.\n",
    "* 'b' - бінарний режим (може бути використаний разом з іншими, наприклад 'rb' або 'wb').\n",
    "* '+' - оновлення (читання та запис).\n",
    "* buffering (необов'язковий) - визначає буферизацію: 0 для вимкненої, 1 для включеної буферизації рядків, більше 1 для вказання розміру буфера у байтах.\n",
    "* encoding (необов'язковий) - ім'я кодування, яке буде використовуватися для кодування або декодування файлу.\n",
    "* errors (необов'язковий) - вказує, як обробляти помилки кодування.\n",
    "* newline (необов'язковий) - контролює, як обробляються нові рядки.\n",
    "* closefd (необов'язковий) - має бути True (за замовчуванням); якщо вказано False, файловий дескриптор не буде закритий.\n",
    "* opener (необов'язковий) - визначає спеціальну функцію для відкриття файлу.\n"
   ]
  },
  {
   "cell_type": "code",
   "execution_count": 80,
   "id": "9d08289a",
   "metadata": {},
   "outputs": [
    {
     "name": "stdout",
     "output_type": "stream",
     "text": [
      "21\n"
     ]
    }
   ],
   "source": [
    "# Приклад використання open() - далі для прикладів буде вказуватися тільки назва методу\n",
    "\n",
    "f = open('test.txt', 'w+')\n",
    "symbols_written = f.write('Hello, world! 123 .,\\\\') # write виконує запис даних в файл\n",
    "print(symbols_written)                              # але при виклику повертає тільки кількість записаних символів\n",
    "f.close()"
   ]
  },
  {
   "cell_type": "code",
   "execution_count": 81,
   "id": "ecf2ae98",
   "metadata": {},
   "outputs": [
    {
     "name": "stdout",
     "output_type": "stream",
     "text": [
      "first_two_symbols_at_seek_0: \t He\n",
      "first_two_symbols_at_seek_1: \t el\n",
      "first_two_symbols_at_seek_2: \t ll\n",
      "first_two_symbols_at_seek_20: \t \n",
      "\n",
      "type(f): \t\t <class '_io.TextIOWrapper'>\n",
      "type(f.seek(20)): \t <class 'int'>\n",
      "type(f.write('0')): \t <class 'int'>\n",
      "type(f.read()): \t <class 'str'>\n"
     ]
    }
   ],
   "source": [
    "# read() - зчитування даних з файлу\n",
    "\n",
    "f = open('test.txt', 'w+')\n",
    "f.write('Hello, world')\n",
    "\n",
    "# seek() - встановлення \"File Handle\" (умовного курсора) в певній позиції\n",
    "f.seek(0)\n",
    "first_two_symbols_at_seek_0 = f.read(2)\n",
    "print('first_two_symbols_at_seek_0: \\t', first_two_symbols_at_seek_0)\n",
    "\n",
    "f.seek(1)\n",
    "first_two_symbols_at_seek_1 = f.read(2)\n",
    "print('first_two_symbols_at_seek_1: \\t', first_two_symbols_at_seek_1)\n",
    "\n",
    "f.seek(2)\n",
    "first_two_symbols_at_seek_2 = f.read(2)\n",
    "print('first_two_symbols_at_seek_2: \\t', first_two_symbols_at_seek_2)\n",
    "\n",
    "# Символів на позиції 20 немає, тому виведе пустий рядок\n",
    "f.seek(20)\n",
    "first_two_symbols_at_seek_20 = f.read(2)\n",
    "print('first_two_symbols_at_seek_20: \\t', first_two_symbols_at_seek_20)\n",
    "\n",
    "# Типи даних\n",
    "print()\n",
    "print('type(f): \\t\\t', type(f))\n",
    "print('type(f.seek(20)): \\t', type(f.seek(20)))\n",
    "print(\"type(f.write('0')): \\t\", type(f.write('0')))\n",
    "print('type(f.read()): \\t', type(f.read()))\n",
    "\n",
    "f.close()"
   ]
  },
  {
   "cell_type": "code",
   "execution_count": 82,
   "id": "d3f95777",
   "metadata": {},
   "outputs": [
    {
     "name": "stdout",
     "output_type": "stream",
     "text": [
      "He\n",
      "ll\n",
      "o,\n",
      " w\n",
      "or\n",
      "ld\n",
      "!\n"
     ]
    }
   ],
   "source": [
    "# read() #2\n",
    "\n",
    "f = open('test.txt', 'w')\n",
    "f.write('Hello, world!')\n",
    "f.close()\n",
    "\n",
    "# f.read(0) - інформація не виводиться\n",
    "# f.read(2) - читаємо текст по два символи\n",
    "# f.read() - виводиться весь текст в одному рядку\n",
    "# f.read(100) - виводиться весь текст в одному рядку (фактично символів менше)\n",
    "f = open('test.txt', 'r')\n",
    "while True:\n",
    "    symbol = f.read(2) \n",
    "    if len(symbol) == 0:\n",
    "        break\n",
    "    print(symbol)\n",
    "    \n",
    "f.close()"
   ]
  },
  {
   "cell_type": "code",
   "execution_count": 83,
   "id": "278d9f50",
   "metadata": {},
   "outputs": [
    {
     "name": "stdout",
     "output_type": "stream",
     "text": [
      "first line\n",
      "\n",
      "second line\n",
      "\n",
      "third line\n"
     ]
    }
   ],
   "source": [
    "# readline() - виводимо текст порядково\n",
    "\n",
    "f = open('test.txt', 'w')\n",
    "f.write('first line\\nsecond line\\nthird line')\n",
    "f.close()\n",
    "\n",
    "f = open('test.txt', 'r')\n",
    "while True:\n",
    "    line = f.readline()\n",
    "    if not line:\n",
    "        break\n",
    "    print(line)\n",
    "    \n",
    "f.close()"
   ]
  },
  {
   "cell_type": "code",
   "execution_count": 84,
   "id": "b7768f86",
   "metadata": {},
   "outputs": [
    {
     "name": "stdout",
     "output_type": "stream",
     "text": [
      "['first line\\n', 'second line\\n', 'third line']\n"
     ]
    }
   ],
   "source": [
    "# readlines() - (не плутати з readline()) читає повністю файл і повертає список рядків,\n",
    "#               де елемент списку - це один рядок з файлу\n",
    "\n",
    "f = open('test.txt', 'w')\n",
    "f.write('first line\\nsecond line\\nthird line')\n",
    "f.close()\n",
    "\n",
    "f = open('test.txt', 'r')\n",
    "lines = f.readlines()\n",
    "print(lines)\n",
    "\n",
    "f.close()"
   ]
  },
  {
   "cell_type": "code",
   "execution_count": 85,
   "id": "64c62b9f",
   "metadata": {},
   "outputs": [
    {
     "name": "stdout",
     "output_type": "stream",
     "text": [
      "['first line', 'second line', 'third line']\n"
     ]
    }
   ],
   "source": [
    "# readlines() #2, без символів переносу рядка \"\\n\" в кінці елементів списку\n",
    "\n",
    "f = open('test.txt', 'w')\n",
    "f.write('first line\\nsecond line\\nthird line')\n",
    "f.close()\n",
    "\n",
    "f = open('test.txt', 'r')\n",
    "lines = [el.strip() for el in f.readlines()] # strip() == strip('\\n')\n",
    "print(lines)\n",
    "\n",
    "f.close()"
   ]
  },
  {
   "cell_type": "markdown",
   "id": "cc5bfd6b",
   "metadata": {},
   "source": [
    "## Менеджер контексту\n"
   ]
  },
  {
   "cell_type": "code",
   "execution_count": 86,
   "id": "bb88f829",
   "metadata": {},
   "outputs": [],
   "source": [
    "# Приклад конструкції для закриття файлу навіть якщо в ході роботи з ним \n",
    "# виникне помилка\n",
    "\n",
    "f = open('text.txt', 'w')\n",
    "try:\n",
    "    f.write('Some data')\n",
    "finally:\n",
    "    f.close()"
   ]
  },
  {
   "cell_type": "markdown",
   "id": "ec03f85f",
   "metadata": {},
   "source": [
    "Менеджер контексту в Python __with__ - це спосіб використання ресурсів, який автоматично забезпечує правильне закриття файлу, незалежно від того, чи виникла помилка чи ні. Це робить код не тільки більш читабельним, але й безпечнішим."
   ]
  },
  {
   "cell_type": "code",
   "execution_count": 87,
   "id": "992d1657",
   "metadata": {},
   "outputs": [
    {
     "name": "stdout",
     "output_type": "stream",
     "text": [
      "['first line', 'second line', 'third line']\n"
     ]
    }
   ],
   "source": [
    "# \"with\" менеджер контексту\n",
    "\n",
    "with open('text.txt', 'w') as f:\n",
    "    f.write('Some data')\n",
    "    \n",
    "with open('test.txt', 'r') as f:\n",
    "    lines = [el.strip() for el in f.readlines()]\n",
    "    \n",
    "print(lines)\n",
    "\n",
    "# Файл закриється автоматично після виходу з блоку with"
   ]
  },
  {
   "cell_type": "markdown",
   "id": "80f2ca17",
   "metadata": {},
   "source": [
    "## Робота з не текстовими файлами у Python\n"
   ]
  },
  {
   "cell_type": "code",
   "execution_count": 90,
   "id": "de38f6d4",
   "metadata": {},
   "outputs": [],
   "source": [
    "# Приклад запису бінарних даних в файл з використанням 'wb' та \"b'string'\"\n",
    "\n",
    "with open('raw_data.bin', 'wb') as f:\n",
    "    f.write(b'Hello, world!')\n",
    "    \n",
    "    # f.write('Hello, world!') # no b'str' - TypeError: a bytes-like object is required, not 'str'"
   ]
  },
  {
   "cell_type": "markdown",
   "id": "802404db",
   "metadata": {},
   "source": [
    "Типи даних байт-рядків:\n",
    "* bytes - незмінний тип, що використовують для представлення байтів.\n",
    "* bytearray - змінний тип, що дозволяє модифікувати байти після їх створення.\n",
    "\n",
    "__Байт-рядки__ або простіше байти — це звичайні рядки, але для запису одного символу використовується суворо один байт. Це відрізняється від звичайних рядків, де символи (особливо в Unicode) можуть займати більше одного байта.</br>\n",
    "\n",
    "__Біт__ (скорочено від \"binary digit\" або \"двійкова цифра\") є основною одиницею інформації в обчислювальній техніці та цифровій комунікації. Біт може мати одне з двох значень: 0 або 1. Ви можете думати про біт, як про відповідь на просте питання: \"так/ні\" або \"вимкнено/увімкнено\".</br>\n",
    "\n",
    "__Байт__ - це послідовність з 8 бітів, яка є стандартною одиницею вимірювання кількості інформації в комп'ютерах. Один байт може представляти 256 різних станів. Від 00000000 до 11111111 у двійковому форматі або від 0 до 255 десятеричному, що дозволяє кодувати широкий спектр інформації, наприклад, символи тексту, частини зображень або звуку.</br>\n",
    "\n",
    "Для байт-рядків застосовуються ті самі обмеження і правила, що і для звичайних рядків. Наприклад, ви можете використовувати методи upper(), startswith(), index(), find() і так далі.\n",
    "\n",
    "__ASCII__ (American Standard Code for Information Interchange - Американський стандартний код для обміну інформацією) - це символьна кодова таблиця, яка використовується для представлення тексту в комп'ютерах, комунікаційному обладнанні та інших пристроях, що працюють з текстом. Кожен символ у таблиці ASCII відповідає певному числу.\n",
    "\n",
    "ASCII визначає 128 символів, що включають латинські літери, цифри, знаки пунктуації, а також символи управління. Кожен символ кодується 7-бітним числом, що дозволяє представити числа від 0 до 127. Існує також розширений ASCII, який використовує 8-бітне кодування для представлення 256 символів (від 0 до 255). Це розширення включає додаткові символи, такі як латинські літери з діакритичними знаками, графічні символи тощо."
   ]
  },
  {
   "cell_type": "code",
   "execution_count": 101,
   "id": "408f80ff",
   "metadata": {},
   "outputs": [
    {
     "name": "stdout",
     "output_type": "stream",
     "text": [
      "b'Hello, world!'\n",
      "101\n"
     ]
    }
   ],
   "source": [
    "# Приклад оголошення байтового рядка\n",
    "\n",
    "byte_str = b'Hello, world!'\n",
    "print(byte_str)              # b'Hello, world!'\n",
    "print(byte_str[1])           # 101 - ASCII-код символу 'e'"
   ]
  },
  {
   "cell_type": "code",
   "execution_count": 105,
   "id": "aaf82a78",
   "metadata": {},
   "outputs": [
    {
     "name": "stdout",
     "output_type": "stream",
     "text": [
      "b'Hello, world!'\n",
      "101\n"
     ]
    }
   ],
   "source": [
    "# Приклад оголошення байтового рядка #2 - .encode() замість b'str'\n",
    "\n",
    "byte_str = 'Hello, world!'.encode()\n",
    "print(byte_str)\n",
    "print(byte_str[1])"
   ]
  },
  {
   "cell_type": "markdown",
   "id": "893bbd33",
   "metadata": {},
   "source": [
    "Синтаксис використання encode():\n",
    "\n",
    "```\n",
    "str.encode(encoding=\"utf-8\", errors=\"strict\")\n",
    "```\n",
    "\n",
    "* __encoding__ - вказує метод кодування. По замовчуванню використовується 'utf-8', який підтримує велику кількість символів з різних мов.\n",
    "* __errors__ - вказує, як обробляти помилки кодування. Наприклад, 'strict' для викидання виключення у випадку помилки, 'ignore' для ігнорування помилок або 'replace' для заміни неможливих для кодування символів на певний замінник (?)."
   ]
  },
  {
   "cell_type": "markdown",
   "id": "20643286",
   "metadata": {},
   "source": [
    "## Перетворення чисел у байт-рядки\n",
    "\n"
   ]
  },
  {
   "cell_type": "code",
   "execution_count": 120,
   "id": "2ae4249d",
   "metadata": {},
   "outputs": [
    {
     "name": "stdout",
     "output_type": "stream",
     "text": [
      "bytes(nums):  <class 'bytes'>\n",
      "byte_numbers:  b'\\x01\\x05\\x0b\\x80'\n",
      "\n",
      "1: 0x1; class: <class 'str'>\n",
      "5: 0x5; class: <class 'str'>\n",
      "11: 0xb; class: <class 'str'>\n",
      "128: 0x80; class: <class 'str'>\n"
     ]
    }
   ],
   "source": [
    "# bytes() - перетворення числа в байт-рядок\n",
    "# hex() - перетворення цілого числа в рядок - представлення числа в шістнадцятковій формі\n",
    "\n",
    "nums = [1, 5, 11, 128]\n",
    "byte_numbers = bytes(nums)\n",
    "print('bytes(nums): ', type(bytes(nums)))\n",
    "print('byte_numbers: ', byte_numbers)\n",
    "\n",
    "print()\n",
    "\n",
    "for num in nums:\n",
    "    print(f'{num}: {hex(num)}; class: {type(hex(num))}')"
   ]
  },
  {
   "cell_type": "markdown",
   "id": "8e561464",
   "metadata": {},
   "source": [
    "## Кодування рядків (ASCII, UTF-8, CP1251)\n",
    "\n"
   ]
  },
  {
   "cell_type": "markdown",
   "id": "26833a19",
   "metadata": {},
   "source": [
    "Python за замовчуванням використовує UTF-8, в якій один символ може займати від 1 до 4 байт, і всього в алфавіті може бути до 1 112 064 знаків."
   ]
  },
  {
   "cell_type": "code",
   "execution_count": 121,
   "id": "d87e055e",
   "metadata": {},
   "outputs": [
    {
     "data": {
      "text/plain": [
       "98"
      ]
     },
     "execution_count": 121,
     "metadata": {},
     "output_type": "execute_result"
    }
   ],
   "source": [
    "# Отримання коду символа\n",
    "\n",
    "ord('b')"
   ]
  },
  {
   "cell_type": "code",
   "execution_count": 122,
   "id": "23de7d0f",
   "metadata": {},
   "outputs": [
    {
     "data": {
      "text/plain": [
       "'b'"
      ]
     },
     "execution_count": 122,
     "metadata": {},
     "output_type": "execute_result"
    }
   ],
   "source": [
    "# Отримання символа з коду\n",
    "\n",
    "chr(98)"
   ]
  },
  {
   "cell_type": "code",
   "execution_count": 143,
   "id": "ce42ab45",
   "metadata": {},
   "outputs": [
    {
     "name": "stdout",
     "output_type": "stream",
     "text": [
      "UTF-8: \tb'\\xd0\\x9f\\xd1\\x80\\xd0\\xb8\\xd0\\xb2\\xd1\\x96\\xd1\\x82, \\xd1\\x81\\xd0\\xb2\\xd1\\x96\\xd1\\x82!'\n",
      "UTF-16: b'\\xff\\xfe\\x1f\\x04@\\x048\\x042\\x04V\\x04B\\x04,\\x00 \\x00A\\x042\\x04V\\x04B\\x04!\\x00'\n",
      "UTF-8: \tb'\\xcf\\xf0\\xe8\\xe2\\xb3\\xf2, \\xf1\\xe2\\xb3\\xf2!'\n",
      "\n",
      "s_from_utf16: \t Привіт, світ!\n",
      "s_from_ch1251: \t Привіт, світ!\n"
     ]
    }
   ],
   "source": [
    "# Приклади кодування з .encode() та декодування з .decode()\n",
    "\n",
    "s = 'Привіт, світ!'\n",
    "\n",
    "utf8 = s.encode()\n",
    "print(f'UTF-8: \\t{utf8}')\n",
    "\n",
    "utf16 = s.encode('utf-16')\n",
    "print(f'UTF-16: {utf16}')\n",
    "\n",
    "ch1251 = s.encode('cp1251')\n",
    "print(f'UTF-8: \\t{ch1251}')\n",
    "\n",
    "s_from_utf16 = utf16.decode('utf-16')\n",
    "print('\\ns_from_utf16: \\t', s_from_utf16)\n",
    "\n",
    "s_from_ch1251 = ch1251.decode('cp1251')\n",
    "print('s_from_ch1251: \\t', s_from_ch1251)"
   ]
  },
  {
   "cell_type": "code",
   "execution_count": 146,
   "id": "12896e33",
   "metadata": {},
   "outputs": [
    {
     "ename": "UnicodeDecodeError",
     "evalue": "'utf-16-le' codec can't decode byte 0x21 in position 12: truncated data",
     "output_type": "error",
     "traceback": [
      "\u001b[1;31m---------------------------------------------------------------------------\u001b[0m",
      "\u001b[1;31mUnicodeDecodeError\u001b[0m                        Traceback (most recent call last)",
      "Cell \u001b[1;32mIn[146], line 4\u001b[0m\n\u001b[0;32m      1\u001b[0m \u001b[38;5;66;03m# При спробі конвертації в неправильний формат ми або отримуємо помилку,\u001b[39;00m\n\u001b[0;32m      2\u001b[0m \u001b[38;5;66;03m# або непередбачуваний результат (з помилковими символами)\u001b[39;00m\n\u001b[1;32m----> 4\u001b[0m s_from_ch1251 \u001b[38;5;241m=\u001b[39m \u001b[43mch1251\u001b[49m\u001b[38;5;241;43m.\u001b[39;49m\u001b[43mdecode\u001b[49m\u001b[43m(\u001b[49m\u001b[38;5;124;43m'\u001b[39;49m\u001b[38;5;124;43mutf-16\u001b[39;49m\u001b[38;5;124;43m'\u001b[39;49m\u001b[43m)\u001b[49m\n\u001b[0;32m      5\u001b[0m \u001b[38;5;28mprint\u001b[39m(\u001b[38;5;124m'\u001b[39m\u001b[38;5;124ms_from_ch1251: \u001b[39m\u001b[38;5;130;01m\\t\u001b[39;00m\u001b[38;5;124m'\u001b[39m, s_from_ch1251)\n",
      "\u001b[1;31mUnicodeDecodeError\u001b[0m: 'utf-16-le' codec can't decode byte 0x21 in position 12: truncated data"
     ]
    }
   ],
   "source": [
    "# При спробі конвертації в неправильний формат ми або отримуємо помилку,\n",
    "# або непередбачуваний результат (з помилковими символами)\n",
    "\n",
    "s_from_ch1251 = ch1251.decode('utf-16')\n",
    "print('s_from_ch1251: \\t', s_from_ch1251)"
   ]
  },
  {
   "cell_type": "code",
   "execution_count": 158,
   "id": "c3934a89",
   "metadata": {},
   "outputs": [
    {
     "ename": "LookupError",
     "evalue": "unknown encoding: utf-1",
     "output_type": "error",
     "traceback": [
      "\u001b[1;31m---------------------------------------------------------------------------\u001b[0m",
      "\u001b[1;31mLookupError\u001b[0m                               Traceback (most recent call last)",
      "Cell \u001b[1;32mIn[158], line 3\u001b[0m\n\u001b[0;32m      1\u001b[0m \u001b[38;5;66;03m# Неіснуюче кодування\u001b[39;00m\n\u001b[1;32m----> 3\u001b[0m s_from_utf1_error \u001b[38;5;241m=\u001b[39m \u001b[43mch1251\u001b[49m\u001b[38;5;241;43m.\u001b[39;49m\u001b[43mdecode\u001b[49m\u001b[43m(\u001b[49m\u001b[38;5;124;43m'\u001b[39;49m\u001b[38;5;124;43mutf-1\u001b[39;49m\u001b[38;5;124;43m'\u001b[39;49m\u001b[43m)\u001b[49m\n\u001b[0;32m      4\u001b[0m \u001b[38;5;28mprint\u001b[39m(\u001b[38;5;124m'\u001b[39m\u001b[38;5;124ms_from_utf1_error: \u001b[39m\u001b[38;5;130;01m\\t\u001b[39;00m\u001b[38;5;124m'\u001b[39m, s_from_utf1_error)\n",
      "\u001b[1;31mLookupError\u001b[0m: unknown encoding: utf-1"
     ]
    }
   ],
   "source": [
    "# Неіснуюче кодування\n",
    "\n",
    "s_from_utf1_error = ch1251.decode('utf-1')\n",
    "print('s_from_utf1_error: \\t', s_from_utf1_error)"
   ]
  },
  {
   "cell_type": "code",
   "execution_count": 145,
   "id": "ac1fba45",
   "metadata": {},
   "outputs": [
    {
     "name": "stdout",
     "output_type": "stream",
     "text": [
      "first line\n",
      "second line\n",
      "third line\n"
     ]
    }
   ],
   "source": [
    "# Відкриття файлу з вказаним вірним кодуванням\n",
    "\n",
    "with open('test.txt', 'r', encoding='utf-8') as file:\n",
    "    content = file.read()\n",
    "    print(content)"
   ]
  },
  {
   "cell_type": "code",
   "execution_count": 147,
   "id": "00db2f88",
   "metadata": {},
   "outputs": [
    {
     "ename": "UnicodeDecodeError",
     "evalue": "'utf-16-le' codec can't decode byte 0x65 in position 34: truncated data",
     "output_type": "error",
     "traceback": [
      "\u001b[1;31m---------------------------------------------------------------------------\u001b[0m",
      "\u001b[1;31mUnicodeDecodeError\u001b[0m                        Traceback (most recent call last)",
      "Cell \u001b[1;32mIn[147], line 4\u001b[0m\n\u001b[0;32m      1\u001b[0m \u001b[38;5;66;03m# Відкриття файлу з невірним кодуванням\u001b[39;00m\n\u001b[0;32m      3\u001b[0m \u001b[38;5;28;01mwith\u001b[39;00m \u001b[38;5;28mopen\u001b[39m(\u001b[38;5;124m'\u001b[39m\u001b[38;5;124mtest.txt\u001b[39m\u001b[38;5;124m'\u001b[39m, \u001b[38;5;124m'\u001b[39m\u001b[38;5;124mr\u001b[39m\u001b[38;5;124m'\u001b[39m, encoding\u001b[38;5;241m=\u001b[39m\u001b[38;5;124m'\u001b[39m\u001b[38;5;124mutf-16\u001b[39m\u001b[38;5;124m'\u001b[39m) \u001b[38;5;28;01mas\u001b[39;00m file:\n\u001b[1;32m----> 4\u001b[0m     content \u001b[38;5;241m=\u001b[39m \u001b[43mfile\u001b[49m\u001b[38;5;241;43m.\u001b[39;49m\u001b[43mread\u001b[49m\u001b[43m(\u001b[49m\u001b[43m)\u001b[49m\n\u001b[0;32m      5\u001b[0m     \u001b[38;5;28mprint\u001b[39m(content)\n",
      "File \u001b[1;32mC:\\ProgramData\\anaconda3\\lib\\codecs.py:322\u001b[0m, in \u001b[0;36mBufferedIncrementalDecoder.decode\u001b[1;34m(self, input, final)\u001b[0m\n\u001b[0;32m    319\u001b[0m \u001b[38;5;28;01mdef\u001b[39;00m \u001b[38;5;21mdecode\u001b[39m(\u001b[38;5;28mself\u001b[39m, \u001b[38;5;28minput\u001b[39m, final\u001b[38;5;241m=\u001b[39m\u001b[38;5;28;01mFalse\u001b[39;00m):\n\u001b[0;32m    320\u001b[0m     \u001b[38;5;66;03m# decode input (taking the buffer into account)\u001b[39;00m\n\u001b[0;32m    321\u001b[0m     data \u001b[38;5;241m=\u001b[39m \u001b[38;5;28mself\u001b[39m\u001b[38;5;241m.\u001b[39mbuffer \u001b[38;5;241m+\u001b[39m \u001b[38;5;28minput\u001b[39m\n\u001b[1;32m--> 322\u001b[0m     (result, consumed) \u001b[38;5;241m=\u001b[39m \u001b[38;5;28;43mself\u001b[39;49m\u001b[38;5;241;43m.\u001b[39;49m\u001b[43m_buffer_decode\u001b[49m\u001b[43m(\u001b[49m\u001b[43mdata\u001b[49m\u001b[43m,\u001b[49m\u001b[43m \u001b[49m\u001b[38;5;28;43mself\u001b[39;49m\u001b[38;5;241;43m.\u001b[39;49m\u001b[43merrors\u001b[49m\u001b[43m,\u001b[49m\u001b[43m \u001b[49m\u001b[43mfinal\u001b[49m\u001b[43m)\u001b[49m\n\u001b[0;32m    323\u001b[0m     \u001b[38;5;66;03m# keep undecoded input until the next call\u001b[39;00m\n\u001b[0;32m    324\u001b[0m     \u001b[38;5;28mself\u001b[39m\u001b[38;5;241m.\u001b[39mbuffer \u001b[38;5;241m=\u001b[39m data[consumed:]\n",
      "File \u001b[1;32mC:\\ProgramData\\anaconda3\\lib\\encodings\\utf_16.py:61\u001b[0m, in \u001b[0;36mIncrementalDecoder._buffer_decode\u001b[1;34m(self, input, errors, final)\u001b[0m\n\u001b[0;32m     58\u001b[0m \u001b[38;5;28;01mdef\u001b[39;00m \u001b[38;5;21m_buffer_decode\u001b[39m(\u001b[38;5;28mself\u001b[39m, \u001b[38;5;28minput\u001b[39m, errors, final):\n\u001b[0;32m     59\u001b[0m     \u001b[38;5;28;01mif\u001b[39;00m \u001b[38;5;28mself\u001b[39m\u001b[38;5;241m.\u001b[39mdecoder \u001b[38;5;129;01mis\u001b[39;00m \u001b[38;5;28;01mNone\u001b[39;00m:\n\u001b[0;32m     60\u001b[0m         (output, consumed, byteorder) \u001b[38;5;241m=\u001b[39m \\\n\u001b[1;32m---> 61\u001b[0m             \u001b[43mcodecs\u001b[49m\u001b[38;5;241;43m.\u001b[39;49m\u001b[43mutf_16_ex_decode\u001b[49m\u001b[43m(\u001b[49m\u001b[38;5;28;43minput\u001b[39;49m\u001b[43m,\u001b[49m\u001b[43m \u001b[49m\u001b[43merrors\u001b[49m\u001b[43m,\u001b[49m\u001b[43m \u001b[49m\u001b[38;5;241;43m0\u001b[39;49m\u001b[43m,\u001b[49m\u001b[43m \u001b[49m\u001b[43mfinal\u001b[49m\u001b[43m)\u001b[49m\n\u001b[0;32m     62\u001b[0m         \u001b[38;5;28;01mif\u001b[39;00m byteorder \u001b[38;5;241m==\u001b[39m \u001b[38;5;241m-\u001b[39m\u001b[38;5;241m1\u001b[39m:\n\u001b[0;32m     63\u001b[0m             \u001b[38;5;28mself\u001b[39m\u001b[38;5;241m.\u001b[39mdecoder \u001b[38;5;241m=\u001b[39m codecs\u001b[38;5;241m.\u001b[39mutf_16_le_decode\n",
      "\u001b[1;31mUnicodeDecodeError\u001b[0m: 'utf-16-le' codec can't decode byte 0x65 in position 34: truncated data"
     ]
    }
   ],
   "source": [
    "# Відкриття файлу з вказаним невірним кодуванням\n",
    "\n",
    "with open('test.txt', 'r', encoding='utf-16') as file:\n",
    "    content = file.read()\n",
    "    print(content)"
   ]
  },
  {
   "cell_type": "markdown",
   "id": "2cc06ae8",
   "metadata": {},
   "source": [
    "## Масив байтів\n",
    "\n"
   ]
  },
  {
   "cell_type": "code",
   "execution_count": 149,
   "id": "031d653f",
   "metadata": {},
   "outputs": [
    {
     "name": "stdout",
     "output_type": "stream",
     "text": [
      "bytearray(b'Bill Kill')\n"
     ]
    }
   ],
   "source": [
    "# Використання контейнера bytearray()\n",
    "\n",
    "byte_array = bytearray(b'Kill Bill')\n",
    "byte_array[0] = ord('B')\n",
    "byte_array[5] = ord('K')\n",
    "print(byte_array)"
   ]
  },
  {
   "cell_type": "markdown",
   "id": "41390120",
   "metadata": {},
   "source": [
    "Основна відмінність __bytearray__ від байт-рядків — це змінність, щоб змінити масив байтів, не потрібно створювати новий. Друга важлива відмінність — це те, що масив байтів сприймається системою як послідовність чисел від 0 до 255, а не як послідовність символів в ASCII кодуванні. Саме тому не можна написати byte_array[0] = b'B'. Елементи масиву байтів сприймаються саме як цілі числа.\n",
    "\n",
    "В іншому ж bytearray може використовуватися як заміна байт-рядків і у нього є ті самі методи з тією самою поведінкою.\n",
    "\n",
    "Окрім зміни існуючих елементів, bytearray дозволяє додавати та видаляти елементи, що робить його набагато більш гнучким у порівнянні з незмінними байт-рядками."
   ]
  },
  {
   "cell_type": "code",
   "execution_count": 156,
   "id": "a2a320e3",
   "metadata": {},
   "outputs": [
    {
     "name": "stdout",
     "output_type": "stream",
     "text": [
      "Hello, world!\n"
     ]
    }
   ],
   "source": [
    "# Перетворення контейнера bytearray() в рядок з використанням decode()\n",
    "\n",
    "byte_array = bytearray(b'Hello, world!')\n",
    "string = byte_array.decode('utf-8')\n",
    "print(string)"
   ]
  },
  {
   "cell_type": "markdown",
   "id": "9d9cee61",
   "metadata": {},
   "source": [
    "## Порівняння рядків\n",
    "\n"
   ]
  },
  {
   "cell_type": "markdown",
   "id": "d25f337f",
   "metadata": {},
   "source": [
    "Кроки процесу порівняння рядків:\n",
    "1. Перетворення рядків у єдиний регістр з використанням __lower()__, __upper()__ або __casefold()__\n",
    "2. Сам процес порівняння\n",
    "\n",
    "* lower() - нижній регістр\n",
    "* upper() - верхній регістр\n",
    "* casefold() - працює аналогічно lower(), але він призначений для видалення усіх відмінностей у регістрі, які можуть виникати у різних мовах (наприклад де одна літера може мати різні верхній та нижній регістри як у німецькій)"
   ]
  },
  {
   "cell_type": "code",
   "execution_count": 162,
   "id": "f38a095f",
   "metadata": {},
   "outputs": [
    {
     "name": "stdout",
     "output_type": "stream",
     "text": [
      "Порівняння з lower(): \t\tFalse\n",
      "Порівняння з casefold(): \tTrue\n"
     ]
    }
   ],
   "source": [
    "german_word = 'straße'  # В нижньому регістрі\n",
    "search_word = 'STRASSE'  # В верхньому регістрі\n",
    "\n",
    "# Порівняння за допомогою lower()\n",
    "lower_comparison = german_word.lower() == search_word.lower()\n",
    "\n",
    "# Порівняння за допомогою casefold()\n",
    "casefold_comparison = german_word.casefold() == search_word.casefold()\n",
    "\n",
    "print(f\"Порівняння з lower(): \\t\\t{lower_comparison}\")\n",
    "print(f\"Порівняння з casefold(): \\t{casefold_comparison}\")"
   ]
  },
  {
   "cell_type": "markdown",
   "id": "f032cad9",
   "metadata": {},
   "source": [
    "## Робота з архівами\n"
   ]
  },
  {
   "cell_type": "markdown",
   "id": "40ea32d6",
   "metadata": {},
   "source": [
    "Архіви по своїй суті — це ті самі файли, але інформація в них розташована з використанням алгоритмів стискання, які дозволяють записати інформацію в меншому об'ємі."
   ]
  },
  {
   "cell_type": "code",
   "execution_count": null,
   "id": "88998f3e",
   "metadata": {},
   "outputs": [],
   "source": []
  }
 ],
 "metadata": {
  "kernelspec": {
   "display_name": "Python 3 (ipykernel)",
   "language": "python",
   "name": "python3"
  },
  "language_info": {
   "codemirror_mode": {
    "name": "ipython",
    "version": 3
   },
   "file_extension": ".py",
   "mimetype": "text/x-python",
   "name": "python",
   "nbconvert_exporter": "python",
   "pygments_lexer": "ipython3",
   "version": "3.10.13"
  }
 },
 "nbformat": 4,
 "nbformat_minor": 5
}
