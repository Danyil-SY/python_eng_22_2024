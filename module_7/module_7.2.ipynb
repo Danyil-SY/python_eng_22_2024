{
 "cells": [
  {
   "cell_type": "code",
   "execution_count": 1,
   "id": "c687fee7",
   "metadata": {},
   "outputs": [
    {
     "name": "stdout",
     "output_type": "stream",
     "text": [
      "4\n",
      "27\n"
     ]
    }
   ],
   "source": [
    "# Functors #1\n",
    "\n",
    "class Power:\n",
    "    \"\"\"Functor class to calculate the power of a given number.\"\"\"\n",
    "\n",
    "    def __init__(self, factor: int) -> None:\n",
    "        \"\"\"Initializes the Power functor with a given factor.\"\"\"\n",
    "        self.factor = factor\n",
    "\n",
    "    def __call__(self, other: int) -> int:\n",
    "        \"\"\"Calculates the power of the given number raised to the factor.\"\"\"\n",
    "        return self.factor ** other\n",
    "\n",
    "doubled = Power(2)  # Create instance of Power with factor 2\n",
    "tripled = Power(3)  # Create instance of Power with factor 3\n",
    "\n",
    "print(doubled(2))  # Output: 4 (2^2)\n",
    "print(tripled(3))  # Output: 27 (3^3)"
   ]
  },
  {
   "cell_type": "code",
   "execution_count": 2,
   "id": "d4603989",
   "metadata": {},
   "outputs": [
    {
     "name": "stdout",
     "output_type": "stream",
     "text": [
      "5\n"
     ]
    }
   ],
   "source": [
    "# Functors #2\n",
    "\n",
    "class Counter:\n",
    "    \"\"\"A functor class to count the number of times it's called.\"\"\"\n",
    "\n",
    "    def __init__(self) -> None:\n",
    "        \"\"\"Initializes the Counter object with count set to 0.\"\"\"\n",
    "        self.count: int = 0\n",
    "\n",
    "    def __call__(self, *args, **kwargs) -> None:\n",
    "        \"\"\"Increments the count each time the functor is called.\"\"\"\n",
    "        self.count += 1\n",
    "\n",
    "counter = Counter()  # Create an instance of the Counter class\n",
    "counter()  # Increment the count\n",
    "counter()  # Increment the count\n",
    "counter()  # Increment the count\n",
    "counter()  # Increment the count\n",
    "counter()  # Increment the count\n",
    "print(counter.count)  # Output: 5 (the number of times the functor was called)"
   ]
  },
  {
   "cell_type": "code",
   "execution_count": 3,
   "id": "23bb470e",
   "metadata": {},
   "outputs": [
    {
     "name": "stdout",
     "output_type": "stream",
     "text": [
      "8\n",
      "8\n",
      "2\n"
     ]
    }
   ],
   "source": [
    "# Functors #3\n",
    "\n",
    "class SmartCalculator:\n",
    "    \"\"\"A functor class to perform arithmetic operations.\"\"\"\n",
    "\n",
    "    def __init__(self, operation: str = 'add') -> None:\n",
    "        \"\"\"Initializes the SmartCalculator object with a default operation.\"\"\"\n",
    "        self.operation: str = operation\n",
    "\n",
    "    def __call__(self, a: int, b: int) -> int:\n",
    "        \"\"\"Performs the specified operation on two numbers.\"\"\"\n",
    "        if self.operation == 'add':\n",
    "            return a + b\n",
    "        elif self.operation == 'subtract':\n",
    "            return a - b\n",
    "        else:\n",
    "            raise ValueError('Undefined operation.')\n",
    "\n",
    "# Test the SmartCalculator functor\n",
    "default = SmartCalculator()  # Uses default operation ('add')\n",
    "print(default(5, 3))  # Output: 8 (5 + 3)\n",
    "\n",
    "add = SmartCalculator('add')  # Uses 'add' operation explicitly\n",
    "print(add(5, 3))  # Output: 8 (5 + 3)\n",
    "\n",
    "subtract = SmartCalculator('subtract')  # Uses 'subtract' operation explicitly\n",
    "print(subtract(5, 3))  # Output: 2 (5 - 3)\n"
   ]
  },
  {
   "cell_type": "code",
   "execution_count": 4,
   "id": "0c49cab0",
   "metadata": {},
   "outputs": [
    {
     "name": "stdout",
     "output_type": "stream",
     "text": [
      "3\n",
      "4\n",
      "5\n",
      "6\n",
      "7\n",
      "8\n",
      "9\n",
      "10\n",
      "11\n",
      "12\n",
      "13\n"
     ]
    }
   ],
   "source": [
    "# Iterator / Generator #1\n",
    "\n",
    "class CountInRange:\n",
    "    \"\"\"Iterator class that generates numbers within a specified range.\"\"\"\n",
    "\n",
    "    def __init__(self, start: int = 0, stop: int = 100) -> None:\n",
    "        \"\"\"Initializes the CountInRange object with start and stop values.\"\"\"\n",
    "        self.current: int = start\n",
    "        self.end: int = stop\n",
    "    \n",
    "    def __iter__(self) -> 'CountInRange':\n",
    "        \"\"\"Returns the iterator object.\"\"\"\n",
    "        return self\n",
    "\n",
    "    def __next__(self) -> int:\n",
    "        \"\"\"Generates the next number in the range.\"\"\"\n",
    "        if self.current == self.end:\n",
    "            raise StopIteration\n",
    "        self.current += 1\n",
    "        return self.current\n",
    "\n",
    "# Create an instance of CountInRange with specified range\n",
    "counter = CountInRange(2, 13)\n",
    "\n",
    "# Iterate through the counter and print each value\n",
    "for count in counter:\n",
    "    print(count)"
   ]
  },
  {
   "cell_type": "code",
   "execution_count": 5,
   "id": "98ce99f8",
   "metadata": {},
   "outputs": [
    {
     "name": "stdout",
     "output_type": "stream",
     "text": [
      "3\n",
      "4\n",
      "5\n",
      "6\n",
      "7\n",
      "8\n",
      "9\n",
      "10\n",
      "11\n",
      "12\n",
      "13\n"
     ]
    }
   ],
   "source": [
    "# Iterator #1\n",
    "\n",
    "class CountInRange:\n",
    "    \"\"\"Iterator class that generates numbers within a specified range.\"\"\"\n",
    "\n",
    "    def __init__(self, start: int = 0, stop: int = 100) -> None:\n",
    "        \"\"\"Initializes the CountInRange object with start and stop values.\"\"\"\n",
    "        self.current: int = start\n",
    "        self.end: int = stop\n",
    "    \n",
    "    def __iter__(self) -> 'CountInRange':\n",
    "        \"\"\"Returns the iterator object.\"\"\"\n",
    "        return self\n",
    "\n",
    "    def __next__(self) -> int:\n",
    "        \"\"\"Generates the next number in the range.\"\"\"\n",
    "        if self.current == self.end:\n",
    "            raise StopIteration\n",
    "        self.current += 1\n",
    "        return self.current\n",
    "\n",
    "# Create an instance of CountInRange with specified range\n",
    "counter = CountInRange(2, 13)\n",
    "\n",
    "# Iterate through the counter and print each value\n",
    "for count in counter:\n",
    "    print(count)"
   ]
  },
  {
   "cell_type": "code",
   "execution_count": 6,
   "id": "6d14dff2",
   "metadata": {},
   "outputs": [
    {
     "name": "stdout",
     "output_type": "stream",
     "text": [
      "3\n",
      "4\n",
      "5\n",
      "6\n",
      "7\n",
      "8\n",
      "9\n",
      "10\n",
      "11\n",
      "12\n",
      "13\n"
     ]
    }
   ],
   "source": [
    "# Generator #1\n",
    "\n",
    "def count_in_range(start: int, stop: int):\n",
    "    \"\"\"Generator function that yields numbers within a specified range.\"\"\"\n",
    "    current: int = start\n",
    "    current += 1\n",
    "    while current <= stop:\n",
    "        yield current\n",
    "        current += 1\n",
    "\n",
    "# Iterate through the generated numbers and print each value\n",
    "for count in count_in_range(2, 13):\n",
    "    print(count)"
   ]
  },
  {
   "cell_type": "code",
   "execution_count": 7,
   "id": "4be5cf5e",
   "metadata": {},
   "outputs": [
    {
     "name": "stdout",
     "output_type": "stream",
     "text": [
      "15 19 13 11 2 "
     ]
    }
   ],
   "source": [
    "# Iterator #2\n",
    "\n",
    "from random import randint\n",
    "\n",
    "class RandIterator:\n",
    "    \"\"\"Iterator class that generates random numbers within a specified range.\"\"\"\n",
    "\n",
    "    def __init__(self, start: int, end: int, quantity: int) -> None:\n",
    "        \"\"\"Initializes the RandIterator object with start, end, and quantity.\"\"\"\n",
    "        self.start: int = start\n",
    "        self.end: int = end\n",
    "        self.quantity: int = quantity\n",
    "        self.count: int = 0\n",
    "\n",
    "    def __iter__(self) -> 'RandIterator':\n",
    "        \"\"\"Returns the iterator object.\"\"\"\n",
    "        return self\n",
    "\n",
    "    def __next__(self) -> int:\n",
    "        \"\"\"Generates the next random number in the range.\"\"\"\n",
    "        self.count += 1\n",
    "        if self.count > self.quantity:\n",
    "            raise StopIteration\n",
    "        else:\n",
    "            return randint(self.start, self.end)\n",
    "\n",
    "# Create an instance of RandIterator with specified range and quantity\n",
    "my_random_list = RandIterator(1, 20, 5)\n",
    "\n",
    "# Iterate through the generated random numbers and print each value\n",
    "for rn in my_random_list:\n",
    "    print(rn, end=' ')"
   ]
  },
  {
   "cell_type": "code",
   "execution_count": 8,
   "id": "a44348b7",
   "metadata": {},
   "outputs": [
    {
     "name": "stdout",
     "output_type": "stream",
     "text": [
      "18 10 13 17 1 "
     ]
    }
   ],
   "source": [
    "# Generator #2\n",
    "\n",
    "from random import randint\n",
    "\n",
    "def rand_generator(start: int, end: int, quantity: int):\n",
    "    \"\"\"Generator function that yields random numbers within a specified range.\"\"\"\n",
    "    count: int = 0\n",
    "    while count < quantity:\n",
    "        yield randint(start, end)\n",
    "        count += 1\n",
    "\n",
    "# Iterate through the generated random numbers and print each value\n",
    "for rn in rand_generator(1, 20, 5):\n",
    "    print(rn, end=' ')\n"
   ]
  },
  {
   "cell_type": "code",
   "execution_count": 9,
   "id": "d2bf6c7a",
   "metadata": {},
   "outputs": [
    {
     "name": "stdout",
     "output_type": "stream",
     "text": [
      "Ready\n",
      "Received: Hello\n"
     ]
    }
   ],
   "source": [
    "# Generator #3\n",
    "\n",
    "def my_generator():\n",
    "    \"\"\"Generator function that yields 'Ready' first, then echoes the received value.\"\"\"\n",
    "    received = yield \"Ready\"\n",
    "    yield f\"Received: {received}\"\n",
    "\n",
    "gen = my_generator()\n",
    "\n",
    "# TypeError: can't send non-None value to a just-started generator\n",
    "# print(gen.send(\"Hello\"))\n",
    "\n",
    "# Start the generator and print the first value\n",
    "print(next(gen))\n",
    "\n",
    "# Received: None - value was not sent\n",
    "# print(next(gen))\n",
    "\n",
    "# Send a value to the generator and print the result\n",
    "print(gen.send(\"Hello\"))"
   ]
  },
  {
   "cell_type": "code",
   "execution_count": 10,
   "id": "7d28b154",
   "metadata": {},
   "outputs": [
    {
     "name": "stdout",
     "output_type": "stream",
     "text": [
      "Square of 10: 100\n",
      "Square of 5: 25\n",
      "Square of 7: 49\n",
      "Generator closed\n"
     ]
    }
   ],
   "source": [
    "# Generator #4\n",
    "\n",
    "def square_numbers():\n",
    "    \"\"\"Generator function that yields the square of numbers sent to it.\"\"\"\n",
    "    try:\n",
    "        while True:\n",
    "            number = yield\n",
    "            square = number ** 2\n",
    "            yield square\n",
    "    except GeneratorExit:\n",
    "        print(\"Generator closed\")\n",
    "\n",
    "gen = square_numbers()\n",
    "\n",
    "next(gen)\n",
    "\n",
    "result = gen.send(10)\n",
    "print(f\"Square of 10: {result}\")\n",
    "\n",
    "next(gen)\n",
    "\n",
    "result = gen.send(5)\n",
    "print(f\"Square of 5: {result}\")\n",
    "\n",
    "next(gen)\n",
    "\n",
    "result = gen.send(7)\n",
    "print(f\"Square of 7: {result}\")\n",
    "\n",
    "gen.close()\n"
   ]
  },
  {
   "cell_type": "code",
   "execution_count": 11,
   "id": "302af0d6",
   "metadata": {},
   "outputs": [
    {
     "name": "stdout",
     "output_type": "stream",
     "text": [
      "Looking for hello\n",
      "Generator closed\n",
      "['Line accepted: hello world', 'Line accepted: another hello world line', 'Line accepted: hello again']\n"
     ]
    }
   ],
   "source": [
    "# Generator # 5\n",
    "\n",
    "def filter_lines(keyword: str):\n",
    "    \"\"\"Generator function that filters lines containing a given keyword.\"\"\"\n",
    "    print(f\"Looking for {keyword}\")\n",
    "    try:\n",
    "        while True:\n",
    "            line = yield\n",
    "            if keyword in line:\n",
    "                yield f\"Line accepted: {line}\"\n",
    "            else:\n",
    "                yield None\n",
    "    except GeneratorExit:\n",
    "        print(\"Generator closed\")\n",
    "\n",
    "if __name__ == \"__main__\":\n",
    "    gen = filter_lines(\"hello\")\n",
    "    next(gen)\n",
    "    messages = [\"this is a test\", \"hello world\", \"another hello world line\", \"hello again\", \"goodbye\"]\n",
    "    hello_messages = []\n",
    "    for message in messages:\n",
    "        result = gen.send(message)\n",
    "        if result:\n",
    "            hello_messages.append(result)\n",
    "        next(gen)\n",
    "    \n",
    "    gen.close()\n",
    "    print(hello_messages)"
   ]
  },
  {
   "cell_type": "code",
   "execution_count": 12,
   "id": "6a903b02",
   "metadata": {},
   "outputs": [
    {
     "name": "stdout",
     "output_type": "stream",
     "text": [
      "Enter the block\n",
      "inside the block\n",
      "Exit the block\n",
      "Error detected: Something went wrong\n"
     ]
    },
    {
     "ename": "Exception",
     "evalue": "Something went wrong",
     "output_type": "error",
     "traceback": [
      "\u001b[1;31m---------------------------------------------------------------------------\u001b[0m",
      "\u001b[1;31mException\u001b[0m                                 Traceback (most recent call last)",
      "Cell \u001b[1;32mIn[12], line 21\u001b[0m\n\u001b[0;32m     19\u001b[0m \u001b[38;5;28;01mwith\u001b[39;00m MyContextManager() \u001b[38;5;28;01mas\u001b[39;00m my_resource:\n\u001b[0;32m     20\u001b[0m     \u001b[38;5;28mprint\u001b[39m(\u001b[38;5;124m\"\u001b[39m\u001b[38;5;124minside the block\u001b[39m\u001b[38;5;124m\"\u001b[39m)\n\u001b[1;32m---> 21\u001b[0m     \u001b[38;5;28;01mraise\u001b[39;00m \u001b[38;5;167;01mException\u001b[39;00m(\u001b[38;5;124m\"\u001b[39m\u001b[38;5;124mSomething went wrong\u001b[39m\u001b[38;5;124m\"\u001b[39m)\n",
      "\u001b[1;31mException\u001b[0m: Something went wrong"
     ]
    }
   ],
   "source": [
    "# Context manager #1\n",
    "\n",
    "class MyContextManager:\n",
    "    \"\"\"Custom context manager.\"\"\"\n",
    "\n",
    "    def __enter__(self):\n",
    "        \"\"\"Executes when entering the context block.\"\"\"\n",
    "        print(\"Enter the block\")\n",
    "        return self\n",
    "    \n",
    "    def __exit__(self, exc_type, exc_value, traceback):\n",
    "        \"\"\"Executes when exiting the context block.\"\"\"\n",
    "        print(\"Exit the block\")\n",
    "        if exc_type:\n",
    "            print(f\"Error detected: {exc_value}\")\n",
    "        return False\n",
    "\n",
    "# Using the context manager\n",
    "with MyContextManager() as my_resource:\n",
    "    print(\"inside the block\")\n",
    "    raise Exception(\"Something went wrong\")"
   ]
  },
  {
   "cell_type": "code",
   "execution_count": 13,
   "id": "82a1ffd2",
   "metadata": {},
   "outputs": [
    {
     "name": "stdout",
     "output_type": "stream",
     "text": [
      "Enter the block\n",
      "Inside the block\n",
      "Error detected: Something went wrong\n",
      "Exit the block\n"
     ]
    },
    {
     "ename": "Exception",
     "evalue": "Something went wrong",
     "output_type": "error",
     "traceback": [
      "\u001b[1;31m---------------------------------------------------------------------------\u001b[0m",
      "\u001b[1;31mException\u001b[0m                                 Traceback (most recent call last)",
      "Cell \u001b[1;32mIn[13], line 19\u001b[0m\n\u001b[0;32m     17\u001b[0m \u001b[38;5;28;01mwith\u001b[39;00m my_context_manager():\n\u001b[0;32m     18\u001b[0m     \u001b[38;5;28mprint\u001b[39m(\u001b[38;5;124m\"\u001b[39m\u001b[38;5;124mInside the block\u001b[39m\u001b[38;5;124m\"\u001b[39m)\n\u001b[1;32m---> 19\u001b[0m     \u001b[38;5;28;01mraise\u001b[39;00m \u001b[38;5;167;01mException\u001b[39;00m(\u001b[38;5;124m\"\u001b[39m\u001b[38;5;124mSomething went wrong\u001b[39m\u001b[38;5;124m\"\u001b[39m)\n",
      "\u001b[1;31mException\u001b[0m: Something went wrong"
     ]
    }
   ],
   "source": [
    "# Context manager #2\n",
    "\n",
    "from contextlib import contextmanager\n",
    "\n",
    "@contextmanager\n",
    "def my_context_manager():\n",
    "    \"\"\"Custom context manager.\"\"\"\n",
    "    print(\"Enter the block\")\n",
    "    try:\n",
    "        yield\n",
    "    except Exception as e:\n",
    "        print(f\"Error detected: {e}\")\n",
    "        raise\n",
    "    finally:\n",
    "        print(\"Exit the block\")\n",
    "\n",
    "with my_context_manager():\n",
    "    print(\"Inside the block\")\n",
    "    raise Exception(\"Something went wrong\")"
   ]
  },
  {
   "cell_type": "code",
   "execution_count": 14,
   "id": "febe199a",
   "metadata": {},
   "outputs": [
    {
     "name": "stdout",
     "output_type": "stream",
     "text": [
      "Opening the file new_file.txt\n",
      "End of the block 'with'\n",
      "Closing the file new_file.txt\n"
     ]
    }
   ],
   "source": [
    "# Context manager #3\n",
    "\n",
    "class FileManager:\n",
    "    \"\"\"Custom context manager for file management.\"\"\"\n",
    "\n",
    "    def __init__(self, filename: str, mode: str = 'w', encoding: str = 'utf-8'):\n",
    "        \"\"\"Initializes the FileManager object.\"\"\"\n",
    "        self.file = None\n",
    "        self.opened = False\n",
    "        self.filename = filename\n",
    "        self.mode = mode\n",
    "        self.encoding = encoding\n",
    "\n",
    "    def __enter__(self):\n",
    "        \"\"\"Enters the context block.\"\"\"\n",
    "        self.file = open(self.filename, self.mode, encoding=self.encoding)\n",
    "        self.opened = True\n",
    "        print(\"Opening the file\", self.filename)\n",
    "        return self.file\n",
    "\n",
    "    def __exit__(self, exc_type, exc_val, exc_tb):\n",
    "        \"\"\"Exits the context block.\"\"\"\n",
    "        print(\"End of the block 'with'\")\n",
    "        if self.opened:\n",
    "            print(\"Closing the file\", self.filename)\n",
    "            self.file.close()\n",
    "        self.opened = False\n",
    "\n",
    "if __name__ == \"__main__\":\n",
    "    with FileManager('new_file.txt') as f:\n",
    "        f.write('Hello world!\\n')\n",
    "        f.write('The end\\n')\n"
   ]
  },
  {
   "cell_type": "code",
   "execution_count": 15,
   "id": "793cf29c",
   "metadata": {},
   "outputs": [
    {
     "name": "stdout",
     "output_type": "stream",
     "text": [
      "Hello world!\n",
      "The end\n",
      "\n",
      "1708354255.267684   | new_file.txt  | open \n",
      "1708354255.267684   | new_file.txt  | closed        0.000998s \n",
      "\n"
     ]
    }
   ],
   "source": [
    "# Context manager #4\n",
    "\n",
    "from contextlib import contextmanager\n",
    "from datetime import datetime\n",
    "\n",
    "\n",
    "@contextmanager\n",
    "def managed_resource(*args, **kwargs):\n",
    "    log = ''\n",
    "    timestamp = datetime.now().timestamp()\n",
    "    msg = f\"{timestamp:<20}|{args[0]:^15}| open \\n\"\n",
    "    log += msg\n",
    "    file_handler = open(*args, **kwargs)\n",
    "    try:\n",
    "        yield file_handler\n",
    "    finally:\n",
    "        diff = datetime.now().timestamp() - timestamp\n",
    "        msg = f\"{timestamp:<20}|{args[0]:^15}| closed {round(diff, 6):>15}s \\n\"\n",
    "        log += msg\n",
    "        file_handler.close()\n",
    "        print(log)\n",
    "\n",
    "with managed_resource('new_file.txt', 'r') as f:\n",
    "    print(f.read())"
   ]
  }
 ],
 "metadata": {
  "kernelspec": {
   "display_name": "Python 3 (ipykernel)",
   "language": "python",
   "name": "python3"
  },
  "language_info": {
   "codemirror_mode": {
    "name": "ipython",
    "version": 3
   },
   "file_extension": ".py",
   "mimetype": "text/x-python",
   "name": "python",
   "nbconvert_exporter": "python",
   "pygments_lexer": "ipython3",
   "version": "3.10.9"
  }
 },
 "nbformat": 4,
 "nbformat_minor": 5
}
