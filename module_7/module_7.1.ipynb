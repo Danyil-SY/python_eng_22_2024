{
 "cells": [
  {
   "cell_type": "code",
   "execution_count": 1,
   "id": "19deb4a8",
   "metadata": {},
   "outputs": [
    {
     "name": "stdout",
     "output_type": "stream",
     "text": [
      "x = 2, y = 3\n"
     ]
    }
   ],
   "source": [
    "# __repr__() #1\n",
    "\n",
    "class MyClass:\n",
    "    def __init__(self, x, y):\n",
    "        self.x = x\n",
    "        self.y = y\n",
    "    \n",
    "    def __repr__(self):\n",
    "        return f\"x = {self.x}, y = {self.y}\"\n",
    "\n",
    "obj1 = MyClass(2, 3)\n",
    "\n",
    "print(obj1) # __repr__() is called"
   ]
  },
  {
   "cell_type": "code",
   "execution_count": 2,
   "id": "e430e86f",
   "metadata": {},
   "outputs": [
    {
     "name": "stdout",
     "output_type": "stream",
     "text": [
      "Point(2, 3)\n",
      "Point(2, 3)\n"
     ]
    }
   ],
   "source": [
    "# __repr__() #2\n",
    "\n",
    "class Point:\n",
    "    def __init__(self, x, y):\n",
    "        self.x = x\n",
    "        self.y = y\n",
    "\n",
    "    def __repr__(self):\n",
    "        return f\"Point({self.x}, {self.y})\"\n",
    "    \n",
    "original_point = Point(2,3)\n",
    "print(original_point)\n",
    "\n",
    "new_point = eval(repr(original_point)) # new point based on original\n",
    "print(new_point)"
   ]
  },
  {
   "cell_type": "code",
   "execution_count": 3,
   "id": "de62d3d2",
   "metadata": {},
   "outputs": [
    {
     "name": "stdout",
     "output_type": "stream",
     "text": [
      "Alice: woman with great knowledge about people\n"
     ]
    }
   ],
   "source": [
    "# __str__() #1\n",
    "\n",
    "class Human:\n",
    "    def __init__(self, name, description):\n",
    "        self.name = name\n",
    "        self.description = description\n",
    "\n",
    "    def __str__(self):\n",
    "        return f'{self.name}: {self.description}'\n",
    "    \n",
    "    def __repr__(self): # __repr__() is called if __str__() is not defined\n",
    "        return f\"Human({self.name}, {self.description}))\"\n",
    "    \n",
    "human = Human('Alice', 'woman with great knowledge about people')\n",
    "print(human) # __str__() is called"
   ]
  },
  {
   "cell_type": "code",
   "execution_count": 4,
   "id": "81d5ec1d",
   "metadata": {},
   "outputs": [
    {
     "name": "stdout",
     "output_type": "stream",
     "text": [
      "Daniel\n",
      "Key not found\n"
     ]
    }
   ],
   "source": [
    "# __getitem__ and __setitem__ #1\n",
    "\n",
    "class SimpleDict:\n",
    "    def __init__(self):\n",
    "        self.__data = {}\n",
    "\n",
    "    def __getitem__(self, key):\n",
    "        return self.__data.get(key, \"Key not found\")\n",
    "    \n",
    "    def __setitem__(self, key, value):\n",
    "        self.__data[key] = value\n",
    "\n",
    "simple_dict = SimpleDict()\n",
    "simple_dict['name'] = 'Daniel'\n",
    "print(simple_dict['name'])\n",
    "print(simple_dict['age'])"
   ]
  },
  {
   "cell_type": "code",
   "execution_count": 5,
   "id": "89f1fc24",
   "metadata": {},
   "outputs": [
    {
     "name": "stdout",
     "output_type": "stream",
     "text": [
      "Value 27 must be between 18 and 26\n",
      "[20, 22, 25]\n"
     ]
    }
   ],
   "source": [
    "# __getitem__() and __setitem__() #2\n",
    "\n",
    "class BoundedList:\n",
    "    def __init__(self, min_value, max_value):\n",
    "        self.min_value = min_value\n",
    "        self.max_value = max_value\n",
    "        self.__data = []\n",
    "\n",
    "    def __getitem__(self, index):\n",
    "        return self.__data[index]\n",
    "\n",
    "    def __setitem__(self, index: int, value: int):\n",
    "        if not (self.min_value <= value <= self.max_value):\n",
    "            raise ValueError(f\"Value {value} must be between {self.min_value} and {self.max_value}\")\n",
    "        if index >= len(self.__data):\n",
    "            self.__data.append(value)\n",
    "        else:\n",
    "            self.__data[index] = value\n",
    "    \n",
    "    def __repr__(self):\n",
    "        return f\"BoundedList({self.max_value}, {self.min_value})\"\n",
    "\n",
    "    def __str__(self):\n",
    "        return str(self.__data)\n",
    "\n",
    "if __name__ == '__main__':\n",
    "    temperatures = BoundedList(18, 26)\n",
    "\n",
    "    for i, el in enumerate([20, 22, 25, 27]):\n",
    "        try:\n",
    "            temperatures[i] = el\n",
    "        except ValueError as e:\n",
    "            print(e)\n",
    "\n",
    "    print(temperatures)        "
   ]
  },
  {
   "cell_type": "code",
   "execution_count": 6,
   "id": "b1215324",
   "metadata": {},
   "outputs": [
    {
     "name": "stdout",
     "output_type": "stream",
     "text": [
      "[19, 21, 22]\n",
      "Item 27 must be between 18 and 26\n",
      "[19, 21, 22, 20, 22, 25]\n"
     ]
    }
   ],
   "source": [
    "# __getitem__() and __setitem__() #3\n",
    "\n",
    "from collections import UserList\n",
    "\n",
    "class BoundedList(UserList):\n",
    "    def __init__(self, min_value: int, max_value: int, initial_list=None):\n",
    "        super().__init__(initial_list if initial_list is not None else [])\n",
    "        self.min_value = min_value\n",
    "        self.max_value = max_value\n",
    "        self.__validate_list()\n",
    "\n",
    "    def __validate_list(self):\n",
    "        for item in self.data:\n",
    "            self.__validate_item(item)\n",
    "\n",
    "    def __validate_item(self, item):\n",
    "        if not (self.min_value <= item <= self.max_value):\n",
    "            raise ValueError(f\"Item {item} must be between {self.min_value} and {self.max_value}\")\n",
    "\n",
    "    def append(self, item):\n",
    "        self.__validate_item(item)\n",
    "        super().append(item)\n",
    "\n",
    "    def insert(self, i, item):\n",
    "        self.__validate_item(item)\n",
    "        super().insert(i, item)\n",
    "\n",
    "    def __getitem(self, index):\n",
    "        print(f\"Accessing item at index {index}\")\n",
    "        return super().__getitem__(index)\n",
    "\n",
    "    def __setitem__(self, i, item):\n",
    "        self.__validate_item(item)\n",
    "        super().__setitem__(i, item)\n",
    "\n",
    "    def __repr__(self):\n",
    "        return f\"BoundedList({self.max_value}, {self.min_value})\"\n",
    "\n",
    "    def __str__(self):\n",
    "        return str(self.data)\n",
    "\n",
    "if __name__ == '__main__':\n",
    "    temperatures = BoundedList(18, 26, [19, 21, 22])\n",
    "    print(temperatures)\n",
    "\n",
    "    for el in [20, 22, 25, 27]:\n",
    "        try:\n",
    "            temperatures.append(el)\n",
    "        except ValueError as e:\n",
    "            print(e)\n",
    "\n",
    "    print(temperatures)"
   ]
  },
  {
   "cell_type": "code",
   "execution_count": 7,
   "id": "f03b2c95",
   "metadata": {},
   "outputs": [
    {
     "name": "stdout",
     "output_type": "stream",
     "text": [
      "{1: 'a', 2: 'b', 3: 'c', 4: 'd'}\n",
      "{1: 'a', 2: 'b'}\n"
     ]
    }
   ],
   "source": [
    "# __add__(self, other) для оператора +\n",
    "# __sub__(self, other) для оператора -\n",
    "# __mul__(self, other) для оператора *\n",
    "# __truediv__(self, other) для оператора /\n",
    "# __floordiv__(self, other) для оператора цілочисельного ділення //\n",
    "# __mod__(self, other) для оператора залишку від ділення %\n",
    "# __pow__(self, other) для оператора * піднесення до степеня\n",
    "\n",
    "# Mathematical operators redefinition #1\n",
    "\n",
    "from collections import UserDict\n",
    "\n",
    "class MyDict(UserDict):\n",
    "    def __add__(self, other):\n",
    "        temp_dict = self.data.copy()\n",
    "        temp_dict.update(other)\n",
    "        return MyDict(temp_dict)\n",
    "\n",
    "    # redefined '-'\n",
    "    def __sub__(self, other):\n",
    "        temp_dict = self.data.copy()\n",
    "        for key in other:\n",
    "            if key in temp_dict:\n",
    "                temp_dict.pop(key)\n",
    "        return MyDict(temp_dict)\n",
    "\n",
    "if __name__ == '__main__':\n",
    "    d1 = MyDict({1: 'a', 2: 'b'})\n",
    "    d2 = MyDict({3: 'c', 4: 'd'})\n",
    "\n",
    "    d3 = d1 + d2\n",
    "    print(d3)\n",
    "\n",
    "    d4 = d3 - d2\n",
    "    print(d4)"
   ]
  },
  {
   "cell_type": "code",
   "execution_count": 8,
   "id": "8cc28020",
   "metadata": {},
   "outputs": [
    {
     "name": "stdout",
     "output_type": "stream",
     "text": [
      "Sum: 4 + 6i\n",
      "Subtraction: -2 + -2i\n",
      "Addition: -5 + 10i\n"
     ]
    }
   ],
   "source": [
    "# Mathematical operators redefinition #2 - for complex numbers\n",
    "\n",
    "class ComplexNumber:\n",
    "    def __init__(self, real, imag):\n",
    "        self.real = real\n",
    "        self.imag = imag\n",
    "\n",
    "    # redefined '+'\n",
    "    def __add__(self, other):\n",
    "        return ComplexNumber(self.real + other.real, self.imag + other.imag)\n",
    "\n",
    "    # redefined '-'\n",
    "    def __sub__(self, other):\n",
    "        return ComplexNumber(self.real - other.real, self.imag - other.imag)\n",
    "\n",
    "    # redefined '*'\n",
    "    def __mul__(self, other):\n",
    "        real_part = self.real * other.real - self.imag * other.imag\n",
    "        imag_part = self.real * other.imag + self.imag * other.real\n",
    "        return ComplexNumber(real_part, imag_part)\n",
    "\n",
    "    def __str__(self):\n",
    "        return f\"{self.real} + {self.imag}i\"\n",
    "\n",
    "if __name__ == \"__main__\":\n",
    "    num1 = ComplexNumber(1, 2)\n",
    "    num2 = ComplexNumber(3, 4)\n",
    "    print(f\"Sum: {num1 + num2}\")\n",
    "    print(f\"Subtraction: {num1 - num2}\")\n",
    "    print(f\"Addition: {num1 * num2}\")"
   ]
  },
  {
   "cell_type": "code",
   "execution_count": 9,
   "id": "e51ee904",
   "metadata": {},
   "outputs": [
    {
     "name": "stdout",
     "output_type": "stream",
     "text": [
      "26\n",
      "14\n",
      "12\n"
     ]
    }
   ],
   "source": [
    "# Mathematical operators redefinition #3\n",
    "\n",
    "from collections import UserList\n",
    "\n",
    "class MulArray(UserList):\n",
    "    def __init__(self, *args):\n",
    "        self.data = list(args)\n",
    "\n",
    "    def __mul__(self, other):\n",
    "        return self.__scalar_mul(other)\n",
    "\n",
    "    def __rmul__(self, other):\n",
    "        return self.__scalar_mul(other) \n",
    "    \n",
    "    def __scalar_mul(self, other):\n",
    "        result = 0\n",
    "        for i in range(min(len(self.data), len(other))):\n",
    "            result += self.data[i] * other[i]\n",
    "        return result\n",
    "\n",
    "if __name__ == '__main__':\n",
    "    vec1 = MulArray(1, 2, 3)\n",
    "    vec2 = MulArray(3, 4, 5)\n",
    "\n",
    "    print(vec1 * vec2)\n",
    "    print(vec1 * [1, 2, 3])\n",
    "    print([1, 1, 1] * vec2)\n"
   ]
  },
  {
   "cell_type": "code",
   "execution_count": 10,
   "id": "3ea7bd4d",
   "metadata": {},
   "outputs": [
    {
     "name": "stdout",
     "output_type": "stream",
     "text": [
      "Площа прямокутників: 50, 60, 50\n",
      "True\n",
      "True\n",
      "True\n",
      "True\n",
      "False\n",
      "True\n"
     ]
    }
   ],
   "source": [
    "# __eq__(self, other) — визначає поведінку під час перевірки на відповідність (==).\n",
    "# __ne__(self, other) — визначає поведінку під час перевірки на невідповідність. !=.\n",
    "# __lt__(self, other) — визначає поведінку під час перевірки на менше <.\n",
    "# __gt__(self, other) — визначає поведінку під час перевірки на більше >.\n",
    "# __le__(self, other) — визначає поведінку під час перевірки на менше-дорівнює <=.\n",
    "# __ge__(self, other) — визначає поведінку під час перевірки на більше-дорівнює >=.\n",
    "\n",
    "# Overloading comparison operators #1\n",
    "\n",
    "class Rectangle:\n",
    "    def __init__(self, width, height):\n",
    "        self.width = width\n",
    "        self.height = height\n",
    "\n",
    "    def area(self):\n",
    "        return self.width * self.height\n",
    "\n",
    "    def __eq__(self, other):\n",
    "        if not isinstance(other, Rectangle):\n",
    "            return NotImplemented\n",
    "        return self.area() == other.area()\n",
    "\n",
    "    def __ne__(self, other):\n",
    "        return not self.__eq__(other)\n",
    "\n",
    "    def __lt__(self, other):\n",
    "        if not isinstance(other, Rectangle):\n",
    "            return NotImplemented\n",
    "        return self.area() < other.area()\n",
    "\n",
    "    def __le__(self, other):\n",
    "        return self.__lt__(other) or self.__eq__(other)\n",
    "\n",
    "    def __gt__(self, other):\n",
    "        if not isinstance(other, Rectangle):\n",
    "            return NotImplemented\n",
    "        return self.area() > other.area()\n",
    "\n",
    "    def __ge__(self, other):\n",
    "        return self.__gt__(other) or self.__eq__(other)\n",
    "\n",
    "if __name__ == \"__main__\":\n",
    "    rect1 = Rectangle(5, 10)\n",
    "    rect2 = Rectangle(3, 20)\n",
    "    rect3 = Rectangle(5, 10)\n",
    "    print(f\"Площа прямокутників: {rect1.area()}, {rect2.area()}, {rect3.area()}\")\n",
    "    print(rect1 == rect3)  # True: площі рівні\n",
    "    print(rect1 != rect2)  # True: площі не рівні\n",
    "    print(rect1 < rect2)  # True: площа rect1  менша, ніж у rect2\n",
    "    print(rect1 <= rect3)  # True: площі рівні, тому rect1 <= rect3\n",
    "    print(rect1 > rect2)  # False: площа rect1 менша, ніж у rect2\n",
    "    print(rect1 >= rect3)  # True: площі рівні, тому rect1 >= rect3"
   ]
  },
  {
   "cell_type": "code",
   "execution_count": 11,
   "id": "9715a58d",
   "metadata": {},
   "outputs": [
    {
     "name": "stdout",
     "output_type": "stream",
     "text": [
      "True\n",
      "False\n",
      "False\n",
      "False\n",
      "True\n",
      "True\n"
     ]
    }
   ],
   "source": [
    "# Overloading comparison operators #2\n",
    "\n",
    "class Point:\n",
    "    def __init__(self, x, y):\n",
    "        self.x = x\n",
    "        self.y = y\n",
    "\n",
    "    def __eq__(self, other):\n",
    "        if not isinstance(other, Point):\n",
    "            return NotImplemented\n",
    "        return self.x == other.x and self.y == other.y\n",
    "\n",
    "    def __ne__(self, other):\n",
    "        return not self.__eq__(other)\n",
    "\n",
    "    def __lt__(self, other):\n",
    "        if not isinstance(other, Point):\n",
    "            return NotImplemented\n",
    "        return self.x < other.x and self.y < other.y\n",
    "\n",
    "    def __gt__(self, other):\n",
    "        if not isinstance(other, Point):\n",
    "            return NotImplemented\n",
    "        return self.x > other.x and self.y > other.y\n",
    "\n",
    "    def __le__(self, other):\n",
    "        if not isinstance(other, Point):\n",
    "            return NotImplemented\n",
    "        return self.x <= other.x and self.y <= other.y\n",
    "\n",
    "    def __ge__(self, other):\n",
    "        if not isinstance(other, Point):\n",
    "            return NotImplemented\n",
    "        return self.x >= other.x and self.y >= other.y\n",
    "\n",
    "if __name__ == \"__main__\":\n",
    "    print(Point(0, 0) == Point(0, 0))  # True\n",
    "    print(Point(0, 0) != Point(0, 0))  # False\n",
    "    print(Point(0, 0) < Point(1, 0))  # False\n",
    "    print(Point(0, 0) > Point(0, 1))  # False\n",
    "    print(Point(0, 2) >= Point(0, 1))  # True\n",
    "    print(Point(0, 0) <= Point(0, 0))  # True"
   ]
  },
  {
   "cell_type": "code",
   "execution_count": 12,
   "id": "304dabcc",
   "metadata": {},
   "outputs": [
    {
     "name": "stdout",
     "output_type": "stream",
     "text": [
      "True\n",
      "False\n",
      "False\n",
      "False\n",
      "True\n",
      "True\n"
     ]
    }
   ],
   "source": [
    "# Overloading comparison operators #3 - refactored previous code\n",
    "\n",
    "class Point:\n",
    "    def __init__(self, x, y):\n",
    "        self.x = x\n",
    "        self.y = y\n",
    "\n",
    "    def _compare(self, other, comp_func):\n",
    "        if not isinstance(other, Point):\n",
    "            return NotImplemented\n",
    "        return comp_func(self.x, other.x) and comp_func(self.y, other.y)\n",
    "\n",
    "    def __eq__(self, other):\n",
    "        return self._compare(other, lambda a, b: a == b)\n",
    "\n",
    "    def __ne__(self, other):\n",
    "        return not self.__eq__(other)\n",
    "\n",
    "    def __lt__(self, other):\n",
    "        return self._compare(other, lambda a, b: a < b)\n",
    "\n",
    "    def __gt__(self, other):\n",
    "        return self._compare(other, lambda a, b: a > b)\n",
    "\n",
    "    def __le__(self, other):\n",
    "        return self._compare(other, lambda a, b: a <= b)\n",
    "\n",
    "    def __ge__(self, other):\n",
    "        return self._compare(other, lambda a, b: a >= b)\n",
    "\n",
    "if __name__ == \"__main__\":\n",
    "    print(Point(0, 0) == Point(0, 0))  # True\n",
    "    print(Point(0, 0) != Point(0, 0))  # False\n",
    "    print(Point(0, 0) < Point(1, 0))  # False\n",
    "    print(Point(0, 0) > Point(0, 1))  # False\n",
    "    print(Point(0, 2) >= Point(0, 1))  # True\n",
    "    print(Point(0, 0) <= Point(0, 0))  # True"
   ]
  },
  {
   "cell_type": "code",
   "execution_count": 13,
   "id": "cc534908",
   "metadata": {},
   "outputs": [
    {
     "name": "stdout",
     "output_type": "stream",
     "text": [
      "25\n"
     ]
    },
    {
     "ename": "ValueError",
     "evalue": "Age cannot be negative",
     "output_type": "error",
     "traceback": [
      "\u001b[1;31m---------------------------------------------------------------------------\u001b[0m",
      "\u001b[1;31mValueError\u001b[0m                                Traceback (most recent call last)",
      "Cell \u001b[1;32mIn[13], line 22\u001b[0m\n\u001b[0;32m     20\u001b[0m \u001b[38;5;28mprint\u001b[39m(person1\u001b[38;5;241m.\u001b[39mage)\n\u001b[0;32m     21\u001b[0m \u001b[38;5;66;03m# person.age = -5 # ValueError: Age cannot be negative\u001b[39;00m\n\u001b[1;32m---> 22\u001b[0m person2 \u001b[38;5;241m=\u001b[39m \u001b[43mPerson\u001b[49m\u001b[43m(\u001b[49m\u001b[38;5;241;43m-\u001b[39;49m\u001b[38;5;241;43m10\u001b[39;49m\u001b[43m)\u001b[49m\n\u001b[0;32m     23\u001b[0m \u001b[38;5;28mprint\u001b[39m(person2\u001b[38;5;241m.\u001b[39mage)\n",
      "Cell \u001b[1;32mIn[13], line 6\u001b[0m, in \u001b[0;36mPerson.__init__\u001b[1;34m(self, age)\u001b[0m\n\u001b[0;32m      4\u001b[0m \u001b[38;5;28;01mdef\u001b[39;00m \u001b[38;5;21m__init__\u001b[39m(\u001b[38;5;28mself\u001b[39m, age):\n\u001b[0;32m      5\u001b[0m     \u001b[38;5;28mself\u001b[39m\u001b[38;5;241m.\u001b[39m__age \u001b[38;5;241m=\u001b[39m \u001b[38;5;28;01mNone\u001b[39;00m\n\u001b[1;32m----> 6\u001b[0m     \u001b[38;5;28mself\u001b[39m\u001b[38;5;241m.\u001b[39mage \u001b[38;5;241m=\u001b[39m age\n",
      "Cell \u001b[1;32mIn[13], line 15\u001b[0m, in \u001b[0;36mPerson.age\u001b[1;34m(self, value)\u001b[0m\n\u001b[0;32m     12\u001b[0m \u001b[38;5;129m@age\u001b[39m\u001b[38;5;241m.\u001b[39msetter\n\u001b[0;32m     13\u001b[0m \u001b[38;5;28;01mdef\u001b[39;00m \u001b[38;5;21mage\u001b[39m(\u001b[38;5;28mself\u001b[39m, value):\n\u001b[0;32m     14\u001b[0m     \u001b[38;5;28;01mif\u001b[39;00m value \u001b[38;5;241m<\u001b[39m \u001b[38;5;241m0\u001b[39m:\n\u001b[1;32m---> 15\u001b[0m         \u001b[38;5;28;01mraise\u001b[39;00m \u001b[38;5;167;01mValueError\u001b[39;00m(\u001b[38;5;124m\"\u001b[39m\u001b[38;5;124mAge cannot be negative\u001b[39m\u001b[38;5;124m\"\u001b[39m)\n\u001b[0;32m     16\u001b[0m     \u001b[38;5;28mself\u001b[39m\u001b[38;5;241m.\u001b[39m__age \u001b[38;5;241m=\u001b[39m value\n",
      "\u001b[1;31mValueError\u001b[0m: Age cannot be negative"
     ]
    }
   ],
   "source": [
    "# Managing attributes and methods in classes #1\n",
    "\n",
    "class Person:\n",
    "    def __init__(self, age):\n",
    "        self.__age = None\n",
    "        self.age = age # age is validated using buil-in setter - age()\n",
    "\n",
    "    @property\n",
    "    def age(self):\n",
    "        return self.__age\n",
    "    \n",
    "    @age.setter\n",
    "    def age(self, value):\n",
    "        if value < 0:\n",
    "            raise ValueError(\"Age cannot be negative\")\n",
    "        self.__age = value\n",
    "    \n",
    "if __name__ == \"__main__\":\n",
    "    person1 = Person(25)\n",
    "    print(person1.age)\n",
    "    # person.age = -5 # ValueError: Age cannot be negative\n",
    "    person2 = Person(-10)\n",
    "    print(person2.age)"
   ]
  },
  {
   "cell_type": "code",
   "execution_count": 14,
   "id": "d9addba7",
   "metadata": {},
   "outputs": [
    {
     "name": "stdout",
     "output_type": "stream",
     "text": [
      "False\n",
      "True\n"
     ]
    }
   ],
   "source": [
    "# Managing attributes and methods in classes #2\n",
    "\n",
    "class Person:\n",
    "    def __init__(self, name: str, age: int, is_active: bool, is_admin: bool):\n",
    "        self.name = name\n",
    "        self.age = age\n",
    "        self._is_active = None\n",
    "        self.__is_admin = None\n",
    "        self._is_active = is_active\n",
    "        self.__is_admin = is_admin\n",
    "\n",
    "    @property\n",
    "    def is_active(self):\n",
    "        return self._is_active\n",
    "\n",
    "    @is_active.setter\n",
    "    def is_active(self, value: bool):\n",
    "        # Тут можна додати будь-яку логіку перевірки або обробки\n",
    "        self._is_active = value\n",
    "\n",
    "    @property\n",
    "    def is_admin(self):\n",
    "        return self.__is_admin\n",
    "\n",
    "    @is_admin.setter\n",
    "    def is_admin(self, value: bool):\n",
    "        # Тут можна додати будь-яку логіку перевірки або обробки\n",
    "        self.__is_admin = value\n",
    "\n",
    "    def greeting(self):\n",
    "        return f\"Hi {self.name}\"\n",
    "\n",
    "if __name__ == \"__main__\":\n",
    "    p = Person(\"Boris\", 34, True, False)\n",
    "    print(p.is_admin)  # Використовуємо геттер\n",
    "    p.is_admin = True  # Використовуємо сеттер\n",
    "    print(p.is_admin)"
   ]
  },
  {
   "cell_type": "code",
   "execution_count": 15,
   "id": "57460451",
   "metadata": {},
   "outputs": [
    {
     "name": "stdout",
     "output_type": "stream",
     "text": [
      "78.53975\n"
     ]
    }
   ],
   "source": [
    "# static and class methods #1\n",
    "\n",
    "\"\"\"\n",
    "    The difference between a static method and a class method is:\n",
    "\n",
    "    - Static method knows nothing about the class and just deals with the parameters.\n",
    "    - Class method works with the class since its parameter is always the class itself.\n",
    "\"\"\"\n",
    "\n",
    "class Geometry:\n",
    "    PI = 3.14159\n",
    "\n",
    "    @staticmethod\n",
    "    def area_of_circle(radius):\n",
    "        return Geometry.PI * radius ** 2\n",
    "\n",
    "print(Geometry.area_of_circle(5))  # 78.53975"
   ]
  },
  {
   "cell_type": "code",
   "execution_count": 16,
   "id": "94afea6b",
   "metadata": {},
   "outputs": [
    {
     "name": "stdout",
     "output_type": "stream",
     "text": [
      "John Doe\n",
      "Manager\n"
     ]
    }
   ],
   "source": [
    "# static and class methods #2\n",
    "\n",
    "class Employee:\n",
    "    def __init__(self, name, poisition):\n",
    "        self.name = name\n",
    "        self.position = poisition\n",
    "\n",
    "    @classmethod\n",
    "    def from_string(cls, employee_info):\n",
    "        name, position = employee_info.split(',')\n",
    "        return cls(name, position)\n",
    "\n",
    "employee_info = \"John Doe,Manager\"\n",
    "john_doe = Employee.from_string(employee_info)\n",
    "\n",
    "print(john_doe.name)  # John Doe\n",
    "print(john_doe.position)  # Manager"
   ]
  }
 ],
 "metadata": {
  "kernelspec": {
   "display_name": "Python 3 (ipykernel)",
   "language": "python",
   "name": "python3"
  },
  "language_info": {
   "codemirror_mode": {
    "name": "ipython",
    "version": 3
   },
   "file_extension": ".py",
   "mimetype": "text/x-python",
   "name": "python",
   "nbconvert_exporter": "python",
   "pygments_lexer": "ipython3",
   "version": "3.10.13"
  }
 },
 "nbformat": 4,
 "nbformat_minor": 5
}
