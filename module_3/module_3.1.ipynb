{
 "cells": [
  {
   "cell_type": "code",
   "execution_count": 2,
   "metadata": {},
   "outputs": [],
   "source": [
    "import datetime"
   ]
  },
  {
   "cell_type": "code",
   "execution_count": 3,
   "metadata": {},
   "outputs": [
    {
     "name": "stdout",
     "output_type": "stream",
     "text": [
      "2024-01-06 23:33:09.121370\n"
     ]
    }
   ],
   "source": [
    "print(datetime.datetime.now())"
   ]
  },
  {
   "cell_type": "code",
   "execution_count": 5,
   "metadata": {},
   "outputs": [
    {
     "name": "stdout",
     "output_type": "stream",
     "text": [
      "2024\n",
      "1\n",
      "6\n",
      "23\n",
      "35\n",
      "39\n",
      "210939\n",
      "None\n"
     ]
    }
   ],
   "source": [
    "from datetime import datetime\n",
    "\n",
    "current_datetime = datetime.now()\n",
    "\n",
    "print(current_datetime.year)\n",
    "print(current_datetime.month)\n",
    "print(current_datetime.day)\n",
    "print(current_datetime.hour)\n",
    "print(current_datetime.minute)\n",
    "print(current_datetime.second)\n",
    "print(current_datetime.microsecond)\n",
    "print(current_datetime.tzinfo)"
   ]
  },
  {
   "cell_type": "code",
   "execution_count": 12,
   "metadata": {},
   "outputs": [
    {
     "name": "stdout",
     "output_type": "stream",
     "text": [
      "2023-12-14 12:30:15\n"
     ]
    }
   ],
   "source": [
    "date_part = datetime.date(2023, 12, 14)\n",
    "time_part = datetime.time(12, 30, 15)\n",
    "\n",
    "combined_datetime = datetime.datetime.combine(date_part, time_part)\n",
    "\n",
    "print(combined_datetime)"
   ]
  },
  {
   "cell_type": "code",
   "execution_count": 20,
   "metadata": {},
   "outputs": [
    {
     "name": "stdout",
     "output_type": "stream",
     "text": [
      "2024-06-03 11:23:14\n"
     ]
    }
   ],
   "source": [
    "specific_datetime = datetime.datetime(year=2024, month=6, day=3, hour=11, minute=23, second=14)\n",
    "\n",
    "print(specific_datetime)"
   ]
  },
  {
   "cell_type": "code",
   "execution_count": 21,
   "metadata": {},
   "outputs": [
    {
     "name": "stdout",
     "output_type": "stream",
     "text": [
      "2024-06-03 11:23:14\n"
     ]
    }
   ],
   "source": [
    "specific_datetime = datetime.datetime(2024, 6, 3, 11, 23, 14)\n",
    "\n",
    "print(specific_datetime)"
   ]
  },
  {
   "cell_type": "code",
   "execution_count": 4,
   "metadata": {},
   "outputs": [
    {
     "name": "stdout",
     "output_type": "stream",
     "text": [
      "2024-12-11 23:14:00\n"
     ]
    }
   ],
   "source": [
    "specific_datetime = datetime.datetime(2024, 12, 11, 23, 14)\n",
    "\n",
    "print(specific_datetime)"
   ]
  },
  {
   "cell_type": "code",
   "execution_count": 24,
   "metadata": {},
   "outputs": [
    {
     "name": "stdout",
     "output_type": "stream",
     "text": [
      "5\n"
     ]
    }
   ],
   "source": [
    "current_datetime = datetime.datetime.now()\n",
    "\n",
    "day_of_week = current_datetime.weekday()\n",
    "\n",
    "print(day_of_week)"
   ]
  },
  {
   "cell_type": "code",
   "execution_count": 26,
   "metadata": {},
   "outputs": [
    {
     "name": "stdout",
     "output_type": "stream",
     "text": [
      "21 days, 0:00:20.029000\n"
     ]
    }
   ],
   "source": [
    "from datetime import timedelta\n",
    "\n",
    "delta_time = timedelta(\n",
    "    days=14,\n",
    "    seconds=20,\n",
    "    weeks=1,\n",
    "    microseconds=29000\n",
    ")\n",
    "\n",
    "print(delta_time)"
   ]
  },
  {
   "cell_type": "code",
   "execution_count": 27,
   "metadata": {},
   "outputs": [
    {
     "name": "stdout",
     "output_type": "stream",
     "text": [
      "357 days, 0:00:20.029000\n"
     ]
    }
   ],
   "source": [
    "from datetime import timedelta\n",
    "\n",
    "delta_time = timedelta(\n",
    "    days=14,\n",
    "    seconds=20,\n",
    "    weeks=49,\n",
    "    microseconds=29000\n",
    ")\n",
    "\n",
    "print(delta_time)"
   ]
  },
  {
   "cell_type": "code",
   "execution_count": 38,
   "metadata": {},
   "outputs": [
    {
     "name": "stdout",
     "output_type": "stream",
     "text": [
      "738892\n"
     ]
    }
   ],
   "source": [
    "from datetime import datetime\n",
    "from datetime import datetime\n",
    "\n",
    "date = datetime.now()\n",
    "\n",
    "to_ord = date.toordinal()\n",
    "\n",
    "print(to_ord)"
   ]
  },
  {
   "cell_type": "code",
   "execution_count": 42,
   "metadata": {},
   "outputs": [
    {
     "name": "stdout",
     "output_type": "stream",
     "text": [
      "Formatted date and time: 2024-01-07 00:20:57\n",
      "Formatted date only: Sunday, 07 January 2024\n",
      "Formatted time only: 12:20:57 AM\n"
     ]
    }
   ],
   "source": [
    "from datetime import datetime\n",
    "\n",
    "datetime_now = datetime.now()\n",
    "\n",
    "formatted_datetime = datetime_now.strftime('%Y-%m-%d %H:%M:%S')\n",
    "\n",
    "formatted_date = datetime_now.strftime('%A, %d %B %Y')\n",
    "\n",
    "formatted_time = datetime_now.strftime('%I:%M:%S %p')\n",
    "\n",
    "print(f'Formatted date and time: {formatted_datetime}')\n",
    "print(f'Formatted date only: {formatted_date}')\n",
    "print(f'Formatted time only: {formatted_time}')"
   ]
  },
  {
   "cell_type": "code",
   "execution_count": 48,
   "metadata": {},
   "outputs": [
    {
     "name": "stdout",
     "output_type": "stream",
     "text": [
      "2024-01-07 00:20:57\n"
     ]
    }
   ],
   "source": [
    "from datetime import datetime\n",
    "\n",
    "date_string = '2024-01-07 00:20:57'\n",
    "datetime_format = '%Y-%m-%d %H:%M:%S'\n",
    "\n",
    "datetime_object = datetime.strptime(date_string, datetime_format)\n",
    "\n",
    "print(datetime_object)\n"
   ]
  },
  {
   "cell_type": "code",
   "execution_count": 50,
   "metadata": {},
   "outputs": [
    {
     "name": "stdout",
     "output_type": "stream",
     "text": [
      "2024-01-07T00:55:26.157034\n"
     ]
    }
   ],
   "source": [
    "from datetime import datetime\n",
    "\n",
    "datetime_now = datetime.now()\n",
    "\n",
    "iso_datetime_now = datetime_now.isoformat()\n",
    "\n",
    "print(iso_datetime_now)"
   ]
  },
  {
   "cell_type": "code",
   "execution_count": 51,
   "metadata": {},
   "outputs": [
    {
     "name": "stdout",
     "output_type": "stream",
     "text": [
      "2024-01-07 00:55:26.157034\n"
     ]
    }
   ],
   "source": [
    "from datetime import datetime\n",
    "\n",
    "iso_datetime_string = '2024-01-07T00:55:26.157034'\n",
    "\n",
    "date_from_iso = datetime.fromisoformat(iso_datetime_now)\n",
    "\n",
    "print(date_from_iso)"
   ]
  },
  {
   "cell_type": "code",
   "execution_count": 52,
   "metadata": {},
   "outputs": [
    {
     "name": "stdout",
     "output_type": "stream",
     "text": [
      "7\n"
     ]
    }
   ],
   "source": [
    "from datetime import datetime\n",
    "\n",
    "datetime_now = datetime.now()\n",
    "\n",
    "iso_datetime_now = datetime_now.isoweekday()\n",
    "\n",
    "print(iso_datetime_now)"
   ]
  },
  {
   "cell_type": "code",
   "execution_count": 58,
   "metadata": {},
   "outputs": [
    {
     "name": "stdout",
     "output_type": "stream",
     "text": [
      "datetime.IsoCalendarDate(year=2024, week=1, weekday=7)\n",
      "ISO Year: 2024, ISO Week: 1, ISO Day: 7\n"
     ]
    }
   ],
   "source": [
    "from datetime import datetime\n",
    "\n",
    "datetime_now = datetime.now()\n",
    "\n",
    "iso_datetime_now = datetime_now.isocalendar()\n",
    "\n",
    "print(iso_datetime_now)\n",
    "print(f'ISO Year: {iso_datetime_now[0]}, ISO Week: {iso_datetime_now[1]}, ISO Day: {iso_datetime_now[2]}')"
   ]
  },
  {
   "cell_type": "code",
   "execution_count": 59,
   "metadata": {},
   "outputs": [
    {
     "name": "stdout",
     "output_type": "stream",
     "text": [
      "2024-01-07 01:01:11.895815\n",
      "2024-01-06 23:01:11.895815+00:00\n"
     ]
    }
   ],
   "source": [
    "from datetime import datetime, timezone\n",
    "\n",
    "local_now = datetime.now()\n",
    "utc_now = datetime.now(timezone.utc)\n",
    "\n",
    "print(local_now)\n",
    "print(utc_now)"
   ]
  },
  {
   "cell_type": "code",
   "execution_count": 61,
   "metadata": {},
   "outputs": [
    {
     "name": "stdout",
     "output_type": "stream",
     "text": [
      "2024-01-07 01:04:31.262995+02:00\n"
     ]
    }
   ],
   "source": [
    "from datetime import datetime, timezone\n",
    "\n",
    "utc_time = datetime.now(timezone.utc)\n",
    "\n",
    "utc_now = utc_time.astimezone(timezone(timedelta(hours=+2)))\n",
    "\n",
    "print(utc_now)"
   ]
  },
  {
   "cell_type": "code",
   "execution_count": 73,
   "metadata": {},
   "outputs": [
    {
     "name": "stdout",
     "output_type": "stream",
     "text": [
      "2024-01-14 13:20:10+00:00\n"
     ]
    }
   ],
   "source": [
    "from datetime import datetime, timezone\n",
    "\n",
    "local_timezone = timezone(timedelta(hours=2))\n",
    "local_time = datetime(year=2024, month=1, day=14, hour=15, minute=20, second=10, tzinfo=local_timezone)\n",
    "\n",
    "utc_time = local_time.astimezone(timezone.utc)\n",
    "print(utc_time)"
   ]
  },
  {
   "cell_type": "code",
   "execution_count": 75,
   "metadata": {},
   "outputs": [
    {
     "name": "stdout",
     "output_type": "stream",
     "text": [
      "2024-01-14T15:20:10+02:00\n"
     ]
    }
   ],
   "source": [
    "from datetime import datetime, timezone\n",
    "\n",
    "local_timezone = timezone(timedelta(hours=2))\n",
    "local_time = datetime(year=2024, month=1, day=14, hour=15, minute=20, second=10, tzinfo=local_timezone)\n",
    "\n",
    "# ISO 8601\n",
    "iso_time = local_time.isoformat()\n",
    "print(iso_time)"
   ]
  },
  {
   "cell_type": "code",
   "execution_count": 78,
   "metadata": {},
   "outputs": [
    {
     "name": "stdout",
     "output_type": "stream",
     "text": [
      "1704584244.1232424\n"
     ]
    }
   ],
   "source": [
    "import time\n",
    "\n",
    "current_time = time.time()\n",
    "\n",
    "print(current_time)"
   ]
  },
  {
   "cell_type": "code",
   "execution_count": 83,
   "metadata": {},
   "outputs": [
    {
     "name": "stdout",
     "output_type": "stream",
     "text": [
      "1704585140.0466266\n",
      "1704585145.0587747\n"
     ]
    }
   ],
   "source": [
    "import time\n",
    "\n",
    "current_time1 = time.time()\n",
    "print(current_time1)\n",
    "\n",
    "time.sleep(5)\n",
    "\n",
    "current_time2 = time.time()\n",
    "print(current_time2)"
   ]
  },
  {
   "cell_type": "code",
   "execution_count": 84,
   "metadata": {},
   "outputs": [
    {
     "name": "stdout",
     "output_type": "stream",
     "text": [
      "Sun Jan  7 01:53:04 2024\n"
     ]
    }
   ],
   "source": [
    "import time\n",
    "\n",
    "current_time = time.time()\n",
    "\n",
    "readable_time = time.ctime(current_time)\n",
    "\n",
    "print(readable_time)"
   ]
  },
  {
   "cell_type": "code",
   "execution_count": 87,
   "metadata": {},
   "outputs": [
    {
     "name": "stdout",
     "output_type": "stream",
     "text": [
      "1704585291.7800786\n",
      "time.struct_time(tm_year=2024, tm_mon=1, tm_mday=7, tm_hour=1, tm_min=54, tm_sec=51, tm_wday=6, tm_yday=7, tm_isdst=0)\n"
     ]
    }
   ],
   "source": [
    "import time\n",
    "\n",
    "current_time = time.time()\n",
    "print(current_time)\n",
    "\n",
    "local_time = time.localtime(current_time)\n",
    "print(local_time)"
   ]
  },
  {
   "cell_type": "code",
   "execution_count": 88,
   "metadata": {},
   "outputs": [
    {
     "name": "stdout",
     "output_type": "stream",
     "text": [
      "1704585347.7288458\n",
      "time.struct_time(tm_year=2024, tm_mon=1, tm_mday=6, tm_hour=23, tm_min=55, tm_sec=47, tm_wday=5, tm_yday=6, tm_isdst=0)\n"
     ]
    }
   ],
   "source": [
    "import time\n",
    "\n",
    "current_time = time.time()\n",
    "print(current_time)\n",
    "\n",
    "local_time = time.gmtime(current_time)\n",
    "print(local_time)"
   ]
  },
  {
   "cell_type": "code",
   "execution_count": 90,
   "metadata": {},
   "outputs": [
    {
     "name": "stdout",
     "output_type": "stream",
     "text": [
      "5.012339199998678\n"
     ]
    }
   ],
   "source": [
    "import time\n",
    "\n",
    "start_time = time.perf_counter()\n",
    "\n",
    "time.sleep(5)\n",
    "\n",
    "end_time = time.perf_counter()\n",
    "\n",
    "print(end_time - start_time)"
   ]
  },
  {
   "cell_type": "code",
   "execution_count": 101,
   "metadata": {},
   "outputs": [
    {
     "name": "stdout",
     "output_type": "stream",
     "text": [
      "Original list: ['apple', 'banana', 'orange', 'grape', 'kiwi', 'strawberry', 'mango', 'watermelon', 'pineapple', 'peach']\n",
      "Shuffled list: ['peach', 'watermelon', 'strawberry', 'orange', 'mango', 'kiwi', 'apple', 'banana', 'grape', 'pineapple']\n",
      "Random element: kiwi\n",
      "Random 5 elements: ['kiwi', 'watermelon', 'apple', 'strawberry', 'watermelon']\n",
      "Random unique elements: ['strawberry', 'mango', 'pineapple', 'apple', 'banana']\n"
     ]
    }
   ],
   "source": [
    "import random\n",
    "\n",
    "fruits = ['apple', 'banana', 'orange', 'grape', 'kiwi', 'strawberry', 'mango', 'watermelon', 'pineapple', 'peach']\n",
    "\n",
    "print(f'Original list: {fruits}')\n",
    "\n",
    "random.shuffle(fruits)\n",
    "print(f'Shuffled list: {fruits}')\n",
    "\n",
    "random_el = random.choice(fruits)\n",
    "print(f'Random element: {random_el}')\n",
    "\n",
    "random_els = random.choices(fruits, weights=None, cum_weights=None, k=5)\n",
    "print(f'Random 5 elements: {random_els}')\n",
    "\n",
    "random_unique_els = random.sample(fruits, 5)\n",
    "print(f'Random unique elements: {random_unique_els}')"
   ]
  },
  {
   "cell_type": "code",
   "execution_count": 105,
   "metadata": {},
   "outputs": [
    {
     "name": "stdout",
     "output_type": "stream",
     "text": [
      "True\n"
     ]
    }
   ],
   "source": [
    "import math\n",
    "\n",
    "r = math.isclose(0.1, 0.10000000009)\n",
    "print(r)"
   ]
  }
 ],
 "metadata": {
  "kernelspec": {
   "display_name": "base",
   "language": "python",
   "name": "python3"
  },
  "language_info": {
   "codemirror_mode": {
    "name": "ipython",
    "version": 3
   },
   "file_extension": ".py",
   "mimetype": "text/x-python",
   "name": "python",
   "nbconvert_exporter": "python",
   "pygments_lexer": "ipython3",
   "version": "3.10.13"
  }
 },
 "nbformat": 4,
 "nbformat_minor": 2
}
