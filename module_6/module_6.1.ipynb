{
 "cells": [
  {
   "cell_type": "code",
   "execution_count": 1,
   "id": "0a887937",
   "metadata": {},
   "outputs": [
    {
     "name": "stdout",
     "output_type": "stream",
     "text": [
      "John\n",
      "Daniel\n"
     ]
    }
   ],
   "source": [
    "# Class example #1\n",
    "\n",
    "class User():\n",
    "    name = ''\n",
    "    age = ''\n",
    "\n",
    "user1 = User()\n",
    "user1.name = 'John'\n",
    "user1.age = 15\n",
    "\n",
    "user2 = User()\n",
    "user2.name = 'Daniel'\n",
    "user2.age = 18\n",
    "\n",
    "print(user1.name)\n",
    "print(user2.name)"
   ]
  },
  {
   "cell_type": "code",
   "execution_count": 2,
   "id": "780e3c3c",
   "metadata": {},
   "outputs": [
    {
     "name": "stdout",
     "output_type": "stream",
     "text": [
      "Hello, John!\n",
      "John\n",
      "15\n",
      "25\n",
      "Hello, Daniel!\n",
      "Daniel\n",
      "18\n",
      "35\n"
     ]
    }
   ],
   "source": [
    "# Class example #2\n",
    "\n",
    "class User():\n",
    "    def __init__(self, name, age):\n",
    "        self.name = name\n",
    "        self.age = age\n",
    "\n",
    "    def say_hello(self):\n",
    "        print(f'Hello, {self.name}!')\n",
    "    \n",
    "    def set_age(self, age):\n",
    "        self.age = age\n",
    "\n",
    "user1 = User('John', 15)\n",
    "user1.say_hello()\n",
    "print(user1.name)\n",
    "print(user1.age)\n",
    "user1.set_age(25)\n",
    "print(user1.age)\n",
    "\n",
    "user2 = User('Daniel', 18)\n",
    "user2.say_hello()\n",
    "print(user2.name)\n",
    "print(user2.age)\n",
    "user2.set_age(35)\n",
    "print(user2.age)"
   ]
  },
  {
   "cell_type": "code",
   "execution_count": 3,
   "id": "ed7902d4",
   "metadata": {},
   "outputs": [
    {
     "name": "stdout",
     "output_type": "stream",
     "text": [
      "Jacky 15 False\n",
      "Sorry, Jacky, but you are dead. Bye.\n"
     ]
    }
   ],
   "source": [
    "# Class example #3 - 'protected' ('_is_alive')\n",
    "\n",
    "class Animal:\n",
    "    def __init__(self, name, age, is_alive):\n",
    "        self.name = name\n",
    "        self.age = age\n",
    "        self._is_alive = is_alive # protected value\n",
    "\n",
    "    def greetings(self):\n",
    "        if self._is_alive:\n",
    "            return f'Hello, {self.name}!'\n",
    "        else:\n",
    "            return f'Sorry, {self.name}, but you are dead. Bye.'\n",
    "        \n",
    "a = Animal('Jacky', '15', False)\n",
    "print(a.name, a.age, a._is_alive)\n",
    "print(a.greetings())"
   ]
  },
  {
   "cell_type": "code",
   "execution_count": 4,
   "id": "4c63337f",
   "metadata": {},
   "outputs": [
    {
     "name": "stdout",
     "output_type": "stream",
     "text": [
      "Jacky 15 False\n",
      "Your spiritual power is equal to 45\n",
      "Sorry, Jacky, but you are dead. Bye.\n"
     ]
    },
    {
     "ename": "AttributeError",
     "evalue": "'Animal' object has no attribute '__spiritual_power'",
     "output_type": "error",
     "traceback": [
      "\u001b[1;31m---------------------------------------------------------------------------\u001b[0m",
      "\u001b[1;31mAttributeError\u001b[0m                            Traceback (most recent call last)",
      "Cell \u001b[1;32mIn[4], line 26\u001b[0m\n\u001b[0;32m     24\u001b[0m \u001b[38;5;28mprint\u001b[39m(a\u001b[38;5;241m.\u001b[39mspirit_power())\n\u001b[0;32m     25\u001b[0m \u001b[38;5;28mprint\u001b[39m(a\u001b[38;5;241m.\u001b[39mgreetings())\n\u001b[1;32m---> 26\u001b[0m \u001b[38;5;28mprint\u001b[39m(\u001b[43ma\u001b[49m\u001b[38;5;241;43m.\u001b[39;49m\u001b[43m__spiritual_power\u001b[49m)\n",
      "\u001b[1;31mAttributeError\u001b[0m: 'Animal' object has no attribute '__spiritual_power'"
     ]
    }
   ],
   "source": [
    "# Class example #3 - 'private' ('__spiritual_power')\n",
    "\n",
    "class Animal:\n",
    "    def __init__(self, name, age, is_alive, spiritual_power):\n",
    "        self.name = name\n",
    "        self.age = age\n",
    "        self._is_alive = is_alive # protected\n",
    "        self.__spiritual_power = spiritual_power # private\n",
    "\n",
    "    def greetings(self):\n",
    "        if self._is_alive:\n",
    "            return f'Hello, {self.name}!'\n",
    "        else:\n",
    "            return f'Sorry, {self.name}, but you are dead. Bye.'\n",
    "        \n",
    "    def spirit_power(self):\n",
    "        if self._is_alive:\n",
    "            return f'Sorry, {self.name}, you are alive, so you don`t have any spiritual power.'\n",
    "        else:\n",
    "            return f'Your spiritual power is equal to {self.__spiritual_power}'\n",
    "        \n",
    "a = Animal('Jacky', '15', False, 45)\n",
    "print(a.name, a.age, a._is_alive)\n",
    "print(a.spirit_power())\n",
    "print(a.greetings())\n",
    "print(a.__spiritual_power) # error - private argument"
   ]
  },
  {
   "cell_type": "code",
   "execution_count": 5,
   "id": "9cb1574e",
   "metadata": {},
   "outputs": [
    {
     "name": "stdout",
     "output_type": "stream",
     "text": [
      "Dongo 18 False\n",
      "Your spiritual power is equal to 34\n",
      "Black wolf\n",
      "Sorry, Dongo, but you are dead. Bye.\n"
     ]
    }
   ],
   "source": [
    "# Class example #4 - 'inheritance' ( 'Dog(Animal)' )\n",
    "\n",
    "class Animal:\n",
    "    def __init__(self, name, age, is_alive, spiritual_power):\n",
    "        self.name = name\n",
    "        self.age = age\n",
    "        self._is_alive = is_alive # protected\n",
    "        self.__spiritual_power = spiritual_power # private\n",
    "\n",
    "    def greetings(self):\n",
    "        if self._is_alive:\n",
    "            return f'Hello, {self.name}!'\n",
    "        else:\n",
    "            return f'Sorry, {self.name}, but you are dead. Bye.'\n",
    "        \n",
    "    def spirit_power(self):\n",
    "        if self._is_alive:\n",
    "            return f'Sorry, {self.name}, you are alive, so you don`t have any spiritual power.'\n",
    "        else:\n",
    "            return f'Your spiritual power is equal to {self.__spiritual_power}'\n",
    "\n",
    "class Dog(Animal):\n",
    "    def __init__(self, name, age, is_alive, spiritual_power, breed):\n",
    "        super().__init__(name, age, is_alive, spiritual_power) # call the constructor of the base class\n",
    "        self.breed = breed # add the new property\n",
    "\n",
    "    def ur_breed(self):\n",
    "        return f\"{self.name}`s breed is {self.breed}\"\n",
    "\n",
    "d = Dog('Dongo', '18', False, 34, 'Black wolf')\n",
    "print(d.name, d.age, d._is_alive)\n",
    "print(d.spirit_power())\n",
    "print(d.breed)\n",
    "print(d.greetings())"
   ]
  },
  {
   "cell_type": "markdown",
   "id": "7fd8c733",
   "metadata": {},
   "source": [
    "MRO (Method Resolution Order) в Python, визначає порядок, за яким класи будуть переглядатися під час пошуку методів.\n",
    "\n",
    "Python визначає MRO за допомогою алгоритму лінійного упорядкування. Основна ідея цього алгоритму полягає в тому, щоб зберегти порядок визначення класів та водночас забезпечити, щоб базові класи були перевірені після всіх їхніх похідних класів.\n",
    "\n",
    "MRO у Python працює наступним чином:\n",
    "\n",
    "1. Шукає атрибут серед атрибутів самого класу. Саме завдяки цьому ви можете \"перевизначати\" батьківські атрибути.\n",
    "2. Шукає атрибут у першого з батьків (той, що вказаний першим у списку батьків).\n",
    "3. Шукає атрибут у наступного батька у списку батьків, доки такі є.\n",
    "4. Шукає атрибут у батьках першого батька.\n",
    "5. Повторює пункт 4 для всіх батьків.\n",
    "6. Викликає виняток, що атрибут не знайдено.\n",
    "\n",
    "Пошуки закінчуються, як тільки атрибут знайдено.\n",
    "\n"
   ]
  },
  {
   "cell_type": "code",
   "execution_count": 6,
   "id": "6f621bb2",
   "metadata": {},
   "outputs": [
    {
     "name": "stdout",
     "output_type": "stream",
     "text": [
      "Chirp\n",
      "True\n",
      "The parrot says: 'Hello, World!'\n"
     ]
    }
   ],
   "source": [
    "# Class example #5 - 'Chain inheritance' / MRO\n",
    "\n",
    "class Animal:\n",
    "    def __init__(self, nickname: str, age: int):\n",
    "        self.nickname = nickname\n",
    "        self.age = age\n",
    "\n",
    "    def make_sound(self):\n",
    "        pass\n",
    "\n",
    "class Bird(Animal):\n",
    "    def make_sound(self):\n",
    "        return \"Chirp\"\n",
    "\n",
    "class Parrot(Bird):\n",
    "    def can_fly(self):\n",
    "        return True\n",
    "\n",
    "class TalkingParrot(Parrot):\n",
    "    def say_phrase(self, phrase):\n",
    "        return f\"The parrot says: '{phrase}'\"\n",
    "\n",
    "my_parrot = TalkingParrot(\"Alice\", 2)\n",
    "print(my_parrot.make_sound())\n",
    "print(my_parrot.can_fly())\n",
    "print(my_parrot.say_phrase(\"Hello, World!\"))\n"
   ]
  },
  {
   "cell_type": "code",
   "execution_count": 7,
   "id": "c9835945",
   "metadata": {},
   "outputs": [
    {
     "name": "stdout",
     "output_type": "stream",
     "text": [
      "Meow\n",
      "Woof\n"
     ]
    }
   ],
   "source": [
    "# Class example #6 - 'Polymorphism'\n",
    "\n",
    "class Animal:\n",
    "    def __init__(self, nickname: str, age: int):\n",
    "        self.nickname = nickname\n",
    "        self.age = age\n",
    "\n",
    "    def make_sound(self):\n",
    "        pass\n",
    "\n",
    "class Cat(Animal):\n",
    "    def make_sound(self):\n",
    "        return \"Meow\"\n",
    "\n",
    "class Dog(Animal):\n",
    "    def make_sound(self):\n",
    "        return \"Woof\"\n",
    "\n",
    "def animal_sounds(animals):\n",
    "    for animal in animals:\n",
    "        print(animal.make_sound())\n",
    "\n",
    "animals = [Cat(\"Simon\", 4), Dog(\"Rex\", 5)]\n",
    "animal_sounds(animals)\n"
   ]
  },
  {
   "cell_type": "markdown",
   "id": "611e3828",
   "metadata": {},
   "source": [
    "Качина типізація зосереджена на поведінці (методах та властивостях) об'єкта, а не на його конкретному типі. Це відповідає ідеології \"якщо воно веде себе як качка, то це, ймовірно, качка\".\n",
    "\n"
   ]
  },
  {
   "cell_type": "code",
   "execution_count": 8,
   "id": "8b7c5a91",
   "metadata": {},
   "outputs": [
    {
     "name": "stdout",
     "output_type": "stream",
     "text": [
      "Quack, quack!\n",
      "I'm Quacking Like a Duck!\n"
     ]
    }
   ],
   "source": [
    "# Class example #7 - 'Duck typing'\n",
    "\n",
    "class Duck:\n",
    "    def quack(self):\n",
    "        print(\"Quack, quack!\")\n",
    "\n",
    "class Person:\n",
    "    def quack(self):\n",
    "        print(\"I'm Quacking Like a Duck!\")\n",
    "\n",
    "def make_it_quack(duck):\n",
    "    duck.quack()\n",
    "\n",
    "duck = Duck()\n",
    "person = Person()\n",
    "\n",
    "make_it_quack(duck)\n",
    "make_it_quack(person)"
   ]
  },
  {
   "cell_type": "markdown",
   "id": "7dc004d8",
   "metadata": {},
   "source": [
    "Щоб занотувати тип параметра функції speaker ми можемо використати typing.Protocol, який визначає набір методів, які цей параметр має виконувати, не прив'язуючись до конкретного класу.\n",
    "\n",
    "Створимо інтерфейс, використовуючи typing.Protocol, для об'єктів, які можуть \"говорити\". Ми хочемо, щоб будь-який об'єкт, який має метод speak, вважався сумісним з цим інтерфейсом.\n",
    "\n",
    "Результат буде той самий але статична типізація за допомогою typing.Protocol використовується для вказівки, що параметр speaker повинен відповідати інтерфейсу, який має метод speak.\n",
    "\n",
    "\n",
    "\n"
   ]
  },
  {
   "cell_type": "code",
   "execution_count": 9,
   "id": "73738fef",
   "metadata": {},
   "outputs": [
    {
     "name": "stdout",
     "output_type": "stream",
     "text": [
      "Woof\n",
      "Meow\n",
      "Beep boop\n"
     ]
    }
   ],
   "source": [
    "# Class example #7 - 'Protocol'\n",
    "\n",
    "from typing import Protocol\n",
    "\n",
    "class Speaker(Protocol):\n",
    "    def speak(self) -> str:\n",
    "        pass\n",
    "\n",
    "class Dog:\n",
    "    def speak(self) -> str:\n",
    "        return \"Woof\"\n",
    "\n",
    "class Cat:\n",
    "    def speak(self) -> str:\n",
    "        return \"Meow\"\n",
    "\n",
    "class Robot:\n",
    "    def speak(self) -> str:\n",
    "        return \"Beep boop\"\n",
    "\n",
    "def make_it_speak(speaker: Speaker) -> None: # 'Speaker' class in expected\n",
    "    print(speaker.speak())\n",
    "\n",
    "dog = Dog()\n",
    "cat = Cat()\n",
    "robot = Robot()\n",
    "\n",
    "make_it_speak(dog)  # Виведе: Woof\n",
    "make_it_speak(cat)  # Виведе: Meow\n",
    "make_it_speak(robot)  # Виведе: Beep boop"
   ]
  },
  {
   "cell_type": "markdown",
   "id": "ab64bf0c",
   "metadata": {},
   "source": [
    "Таким чином, статична типізація допомагає забезпечити правильність типів на етапі розробки, а качина типізація забезпечує гнучкість у виконанні, дозволяючи об'єктам різних класів використовувати спільний інтерфейс.\n",
    "\n"
   ]
  }
 ],
 "metadata": {
  "kernelspec": {
   "display_name": "Python 3 (ipykernel)",
   "language": "python",
   "name": "python3"
  },
  "language_info": {
   "codemirror_mode": {
    "name": "ipython",
    "version": 3
   },
   "file_extension": ".py",
   "mimetype": "text/x-python",
   "name": "python",
   "nbconvert_exporter": "python",
   "pygments_lexer": "ipython3",
   "version": "3.10.13"
  }
 },
 "nbformat": 4,
 "nbformat_minor": 5
}
