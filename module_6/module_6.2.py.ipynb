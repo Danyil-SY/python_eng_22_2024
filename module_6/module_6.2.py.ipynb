{
 "cells": [
  {
   "cell_type": "code",
   "execution_count": 1,
   "id": "73844784",
   "metadata": {},
   "outputs": [
    {
     "name": "stdout",
     "output_type": "stream",
     "text": [
      "---------------------------\n",
      "Allen Raymond: (992) 914-3792\n",
      "Chaim Lewis: (294) 840-6685\n",
      "Kennedy Lane: (542) 451-7038\n",
      "---------------------------\n",
      "Allen Raymond: nulla.ante@vestibul.co.uk\n",
      "Chaim Lewis: dui.in@egetlacus.ca\n",
      "Kennedy Lane: mattis.Cras@nonenimMauris.net\n"
     ]
    }
   ],
   "source": [
    "# Container classes #1 - 'UserDict'\n",
    "\n",
    "from collections import UserDict\n",
    "\n",
    "\n",
    "contacts = [\n",
    "    {\n",
    "        \"name\": \"Allen Raymond\",\n",
    "        \"email\": \"nulla.ante@vestibul.co.uk\",\n",
    "        \"phone\": \"(992) 914-3792\",\n",
    "        \"favorite\": False,\n",
    "    },\n",
    "    {\n",
    "        \"name\": \"Chaim Lewis\",\n",
    "        \"email\": \"dui.in@egetlacus.ca\",\n",
    "        \"phone\": \"(294) 840-6685\",\n",
    "        \"favorite\": False,\n",
    "    },\n",
    "    {\n",
    "        \"name\": \"Kennedy Lane\",\n",
    "        \"email\": \"mattis.Cras@nonenimMauris.net\",\n",
    "        \"phone\": \"(542) 451-7038\",\n",
    "        \"favorite\": True,\n",
    "    }\n",
    "]\n",
    "\n",
    "class Customer(UserDict):\n",
    "    \"\"\"Subclass of UserDict representing a customer with phone and email information.\"\"\"\n",
    "    def phone_info(self):\n",
    "        \"\"\"Return a string with the customer's name and phone number.\"\"\"\n",
    "        return f\"{self.get('name')}: {self.get('phone')}\"\n",
    "\n",
    "    def email_info(self):\n",
    "        \"\"\"Return a string with the customer's name and email.\"\"\"\n",
    "        return f\"{self.get('name')}: {self.get('email')}\"\n",
    "\n",
    "if __name__ == \"__main__\":\n",
    "    # Create instances of Customer class for each element in contacts list\n",
    "    customers = [Customer(el) for el in contacts]\n",
    "\n",
    "    print(\"---------------------------\")\n",
    "\n",
    "    # Print phone information for each customer\n",
    "    for customer in customers:\n",
    "        print(customer.phone_info())\n",
    "\n",
    "    print(\"---------------------------\")\n",
    "\n",
    "    # Print email information for each customer\n",
    "    for customer in customers:\n",
    "        print(customer.email_info())"
   ]
  },
  {
   "cell_type": "code",
   "execution_count": 2,
   "id": "dcb1fb25",
   "metadata": {},
   "outputs": [
    {
     "name": "stdout",
     "output_type": "stream",
     "text": [
      "Original list:  [1, 2, 3]\n",
      "Modified list:  [1, 2, 3, 4]\n"
     ]
    }
   ],
   "source": [
    "# Container classes #2 - 'UserList'\n",
    "\n",
    "from collections import UserList\n",
    "\n",
    "\n",
    "class MyList(UserList):\n",
    "    \"\"\"Subclass of UserList to provide a method for adding an item if it doesn't already exist.\"\"\"\n",
    "    def add_if_not_exists(self, item):\n",
    "        \"\"\"Adds the specified item to the list if it doesn't already exist.\"\"\"\n",
    "        if item not in self.data:\n",
    "            self.data.append(item)\n",
    "\n",
    "my_list = MyList([1, 2, 3])\n",
    "print(\"Original list: \", my_list)\n",
    "\n",
    "my_list.add_if_not_exists(3) # will not be added - it already exists in the list\n",
    "my_list.add_if_not_exists(4)\n",
    "print('Modified list: ', my_list)"
   ]
  },
  {
   "cell_type": "code",
   "execution_count": 3,
   "id": "8fc8eb35",
   "metadata": {},
   "outputs": [
    {
     "name": "stdout",
     "output_type": "stream",
     "text": [
      "Original list:  [1, 2, 3]\n",
      "Modified list:  [1]\n"
     ]
    }
   ],
   "source": [
    "# Container classes #3 - 'UserList'\n",
    "\n",
    "from collections import UserList\n",
    "\n",
    "\n",
    "class MyList(UserList):\n",
    "    \"\"\"Subclass of UserList to provide a method similar to set difference.\"\"\"\n",
    "    def difference_similar_to_set(self, lst):\n",
    "        \"\"\"Returns a new list containing elements present in self but not in lst.\"\"\"\n",
    "        return [el for el in self.data if el not in lst]\n",
    "\n",
    "my_list1 = MyList([1, 2, 3])\n",
    "my_list2 = MyList([3, 2, 3])\n",
    "\n",
    "print(\"Original list: \", my_list1)\n",
    "my_list1.data = my_list1.difference_similar_to_set(my_list2)\n",
    "print('Modified list: ', my_list1)"
   ]
  },
  {
   "cell_type": "code",
   "execution_count": 4,
   "id": "9009010e",
   "metadata": {},
   "outputs": [
    {
     "name": "stdout",
     "output_type": "stream",
     "text": [
      "String:  radar\n",
      "Is it palindrome?  True\n",
      "String:  hello\n",
      "Is it palindrome?  False\n"
     ]
    }
   ],
   "source": [
    "# Container classes #4 - 'UserString'\n",
    "\n",
    "from collections import UserString\n",
    "\n",
    "\n",
    "class MyString(UserString):\n",
    "    def is_palindrome(self):\n",
    "        return self.data == self.data[::-1]\n",
    "\n",
    "my_string = MyString('radar')\n",
    "print('String: ', my_string)\n",
    "print('Is it palindrome? ', my_string.is_palindrome())\n",
    "\n",
    "another_string = MyString('hello')\n",
    "print('String: ', another_string)\n",
    "print('Is it palindrome? ', another_string.is_palindrome())"
   ]
  },
  {
   "cell_type": "code",
   "execution_count": 5,
   "id": "4362bafc",
   "metadata": {},
   "outputs": [
    {
     "name": "stdout",
     "output_type": "stream",
     "text": [
      "Hello, \n"
     ]
    }
   ],
   "source": [
    "# Container classes #5 - 'UserString'\n",
    "\n",
    "from collections import UserString\n",
    "\n",
    "\n",
    "class TruncatedString(UserString):\n",
    "    \"\"\"Subclass of UserString representing a truncated string.\"\"\"\n",
    "    MAX_LEN = 7  # Maximum length for the string\n",
    "\n",
    "    def truncate(self):\n",
    "        \"\"\"Truncate the string to the maximum length.\"\"\"\n",
    "        self.data = self.data[:self.MAX_LEN]\n",
    "\n",
    "ts = TruncatedString('Hello, world!')\n",
    "ts.truncate()\n",
    "print(ts)"
   ]
  },
  {
   "cell_type": "code",
   "execution_count": 6,
   "id": "d3fa394c",
   "metadata": {},
   "outputs": [
    {
     "name": "stdout",
     "output_type": "stream",
     "text": [
      "Jacky Comandos 16\n"
     ]
    }
   ],
   "source": [
    "# Data classes #1 - 'dataclass'\n",
    "\n",
    "from dataclasses import dataclass\n",
    "\n",
    "\n",
    "@dataclass\n",
    "class Animal:\n",
    "    \"\"\"Simplified constructor.\"\"\"\n",
    "    name: str\n",
    "    nickname: int # should be str, but if the wrong data type is provided, it doesn't raise an error\n",
    "    age: int = 'it_works_anyway' # if an incorrect value is provided for the default argument, no error is raised too\n",
    "\n",
    "a = Animal('Jacky', 'Comandos', 16)\n",
    "print(a.name, a.nickname, a.age)"
   ]
  },
  {
   "cell_type": "code",
   "execution_count": 7,
   "id": "8b744db6",
   "metadata": {},
   "outputs": [
    {
     "name": "stdout",
     "output_type": "stream",
     "text": [
      "Today is Friday.\n",
      "MONDAY\n",
      "1\n",
      "1\n"
     ]
    }
   ],
   "source": [
    "# Enumerated type #1 - 'Enum'\n",
    "\n",
    "from datetime import datetime\n",
    "from enum import Enum\n",
    "\n",
    "\n",
    "class Day(Enum):\n",
    "    MONDAY = 1\n",
    "    TUESDAY = 2\n",
    "    WEDNESDAY = 3\n",
    "    THURSDAY = 4\n",
    "    FRIDAY = 5\n",
    "    SATURDAY = 6\n",
    "    SUNDAY = 7\n",
    "\n",
    "\n",
    "today = Day.MONDAY\n",
    "\n",
    "if today == Day.MONDAY:\n",
    "    print('Today is Friday.')\n",
    "else:\n",
    "    print('Today is not Friday.')\n",
    "\n",
    "print(today.name)\n",
    "print(today.value)\n",
    "print(Day.MONDAY.value)"
   ]
  },
  {
   "cell_type": "code",
   "execution_count": 8,
   "id": "d6cfdf67",
   "metadata": {},
   "outputs": [
    {
     "name": "stdout",
     "output_type": "stream",
     "text": [
      "Status of the order 'Book': NEW\n",
      "Status of the order 'Notebok': NEW\n",
      "Order 'Book' updated status to SHIPPED\n",
      "Order 'Notebok' updated status to DELIVERED\n",
      "Status of the order 'Book': SHIPPED\n",
      "Status of the order 'Notebok': DELIVERED\n"
     ]
    }
   ],
   "source": [
    "# Enumerated type #2 - 'Enum'\n",
    "\n",
    "from enum import Enum, auto\n",
    "\n",
    "\n",
    "class OrderStatus(Enum):\n",
    "    NEW = auto()\n",
    "    PROCESSING = auto()\n",
    "    SHIPPED = auto()\n",
    "    DELIVERED = auto()\n",
    "\n",
    "class Order:\n",
    "    def __init__(self, name: str, status: OrderStatus):\n",
    "        self.name = name\n",
    "        self.status = status\n",
    "    \n",
    "    def update_status(self, new_status: OrderStatus):\n",
    "        self.status = new_status\n",
    "        print(f\"Order '{self.name}' updated status to {self.status.name}\")\n",
    "\n",
    "    def display_status(self):\n",
    "        print(f\"Status of the order '{self.name}': {self.status.name}\")\n",
    "\n",
    "order1 = Order('Book', OrderStatus.NEW)\n",
    "order2 = Order('Notebok', OrderStatus.NEW)\n",
    "\n",
    "order1.display_status()\n",
    "order2.display_status()\n",
    "\n",
    "order1.update_status(OrderStatus.SHIPPED)\n",
    "order2.update_status(OrderStatus.DELIVERED)\n",
    "\n",
    "order1.display_status()\n",
    "order2.display_status()"
   ]
  },
  {
   "cell_type": "code",
   "execution_count": 9,
   "id": "0683d859",
   "metadata": {},
   "outputs": [
    {
     "name": "stdout",
     "output_type": "stream",
     "text": [
      "Boris: +380503002010\n",
      "Cat Name: Simon, Age: 4\n"
     ]
    }
   ],
   "source": [
    "# Inheritance without composition #1\n",
    "\n",
    "class Owner:\n",
    "    def __init__(self, name, phone):\n",
    "        self.name = name\n",
    "        self.phone = phone\n",
    "\n",
    "    def info(self):\n",
    "        return f\"{self.name}: {self.phone}\"\n",
    "\n",
    "class Cat(Owner):\n",
    "    def __init__(self, nickname, age, name, phone):\n",
    "        super().__init__(name, phone)\n",
    "        self.nickname = nickname\n",
    "        self.age = age\n",
    "\n",
    "    def cat_info(self):\n",
    "        return f\"Cat Name: {self.nickname}, Age: {self.age}\"\n",
    "\n",
    "    def sound(self):\n",
    "        return \"Meow\"\n",
    "        \n",
    "cat = Cat('Simon', 4, 'Boris', '+380503002010')\n",
    "print(cat.info())\n",
    "print(cat.cat_info())"
   ]
  },
  {
   "cell_type": "code",
   "execution_count": 10,
   "id": "8f35cb00",
   "metadata": {},
   "outputs": [
    {
     "name": "stdout",
     "output_type": "stream",
     "text": [
      "Boris: +380503002010\n",
      "Cat Name: Simon, Age: 4\n"
     ]
    }
   ],
   "source": [
    "# Composition #1\n",
    "\n",
    "class Owner:\n",
    "    def __init__(self, name:str, phone: str):\n",
    "        self.name = name\n",
    "        self.phone = phone\n",
    "\n",
    "    def info(self):\n",
    "        return f\"{self.name}: {self.phone}\"\n",
    "    \n",
    "class Cat(Owner):\n",
    "    def __init__(self, nickname: str, age: int, owner: Owner):\n",
    "        self.nickname = nickname\n",
    "        self.age = age\n",
    "        self.owner = owner\n",
    "    \n",
    "    def get_info(self):\n",
    "        return f\"Cat Name: {self.nickname}, Age: {self.age}\"\n",
    "\n",
    "    def sound(self):\n",
    "        return \"Meow\"\n",
    "\n",
    "owner = Owner(\"Boris\", \"+380503002010\")\n",
    "cat = Cat(\"Simon\", 4, owner)\n",
    "print(cat.owner.info())\n",
    "print(cat.get_info())"
   ]
  },
  {
   "cell_type": "code",
   "execution_count": 11,
   "id": "8ae7af4f",
   "metadata": {},
   "outputs": [
    {
     "name": "stdout",
     "output_type": "stream",
     "text": [
      "Project: Web-development\n",
      "Task: Interface design, Desciprion: Create a template for a main page\n",
      "Task: API development, Desciprion: Create endpoints for users\n",
      "Project: Web-development\n",
      "Task: Interface design, Desciprion: Create a template for a main page\n"
     ]
    }
   ],
   "source": [
    "class Task:\n",
    "    def __init__(self, name: str, description: str):\n",
    "        self.name = name\n",
    "        self.description = description\n",
    "\n",
    "    def display_info(self):\n",
    "        print(f\"Task: {self.name}, Desciprion: {self.description}\")\n",
    "\n",
    "class Project:\n",
    "    def __init__(self, name: str):\n",
    "        self.name = name\n",
    "        self.tasks: list(Task) = []\n",
    "\n",
    "    def add_task(self, name: str, description: str):\n",
    "        self.tasks.append(Task(name, description))\n",
    "\n",
    "    def remove_task(self, name: str):\n",
    "        self.tasks = [task for task in self.tasks if task.name != name]\n",
    "    \n",
    "    def display_project_info(self):\n",
    "        print(f\"Project: {self.name}\")\n",
    "        for task in self.tasks:\n",
    "            task.display_info()\n",
    "\n",
    "my_project = Project('Web-development')\n",
    "\n",
    "my_project.add_task('Interface design', 'Create a template for a main page')\n",
    "my_project.add_task('API development', 'Create endpoints for users')\n",
    "\n",
    "my_project.display_project_info()\n",
    "\n",
    "my_project.remove_task('API development')\n",
    "\n",
    "my_project.display_project_info()"
   ]
  },
  {
   "cell_type": "code",
   "execution_count": 12,
   "id": "750da79b",
   "metadata": {},
   "outputs": [
    {
     "name": "stdout",
     "output_type": "stream",
     "text": [
      "Enter name: Da\n",
      "Name is too short, need more than 2 symbols\n"
     ]
    }
   ],
   "source": [
    "# Custom Exceprions #1\n",
    "\n",
    "class NameTooShortError(Exception):\n",
    "    pass\n",
    "\n",
    "class NameStartsFromLowError(Exception):\n",
    "    pass\n",
    "\n",
    "def enter_name():\n",
    "    name = input(\"Enter name: \")\n",
    "    if len(name) < 3:\n",
    "        raise NameTooShortError(\"Name is too short, need more than 2 symbols\")\n",
    "    if not name[0].isupper():\n",
    "        raise NameStartsFromLowError(\"Name should start from capital letter\")\n",
    "    return name\n",
    "\n",
    "if __name__ == \"__main__\":\n",
    "    try:\n",
    "        name = enter_name()\n",
    "        print(f\"Hello, {name}\")\n",
    "    except (NameTooShortError, NameStartsFromLowError) as e:\n",
    "        print(e)"
   ]
  }
 ],
 "metadata": {
  "kernelspec": {
   "display_name": "Python 3 (ipykernel)",
   "language": "python",
   "name": "python3"
  },
  "language_info": {
   "codemirror_mode": {
    "name": "ipython",
    "version": 3
   },
   "file_extension": ".py",
   "mimetype": "text/x-python",
   "name": "python",
   "nbconvert_exporter": "python",
   "pygments_lexer": "ipython3",
   "version": "3.10.13"
  }
 },
 "nbformat": 4,
 "nbformat_minor": 5
}
